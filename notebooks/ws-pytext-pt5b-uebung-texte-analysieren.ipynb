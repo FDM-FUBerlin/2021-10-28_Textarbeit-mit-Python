{
 "cells": [
  {
   "cell_type": "markdown",
   "id": "04bb8cbc",
   "metadata": {},
   "source": [
    "# 5b. Texte analysieren "
   ]
  },
  {
   "cell_type": "code",
   "execution_count": 1,
   "id": "32475934",
   "metadata": {},
   "outputs": [],
   "source": [
    "import pathlib\n",
    "\n",
    "import nltk\n",
    "import pandas as pd\n",
    "\n",
    "# prepare paths\n",
    "DATA_DIR = pathlib.Path().cwd().parent.joinpath(\"data\")\n",
    "PROC_DATA_DIR = DATA_DIR.joinpath(\"processed\")\n",
    "\n",
    "# Prepare corpus reader\n",
    "CORPUS_DIR = DATA_DIR.joinpath(\"corpus\").joinpath(\"bruder-grimm_1857\")\n",
    "GERMAN_TOKENIZER = nltk.data.load(\"nltk:tokenizers/punkt/german.pickle\")\n",
    "fairytale_corpus_reader = nltk.corpus.PlaintextCorpusReader(\n",
    "    root=str(CORPUS_DIR),\n",
    "    fileids=\"[\\w+-]*\\.txt\",\n",
    "    sent_tokenizer=GERMAN_TOKENIZER,\n",
    ")"
   ]
  },
  {
   "cell_type": "code",
   "execution_count": 2,
   "id": "3c16d083",
   "metadata": {},
   "outputs": [],
   "source": [
    "# We create a nltk.Text object, that contains all fairytales\n",
    "tokens = [token.lower() for token in fairytale_corpus_reader.words()]\n",
    "grimm_text = nltk.Text(tokens)"
   ]
  },
  {
   "cell_type": "markdown",
   "id": "188b4ac1",
   "metadata": {},
   "source": [
    "## Übung 1\n",
    "\n",
    "a.) Füge der Liste `animals` weitere Tiere hinzu und vergleiche die Häufigkeiten.\n",
    "Welches Tier tritt häufiger auf als Hund, Katze und Esel?\n",
    "\n",
    "oder\n",
    "\n",
    "b.) Erstelle eine neue Liste und zähle andere Wörter (z.B. Berufe, Farben, Zahlen) im Märchenkorpus."
   ]
  },
  {
   "cell_type": "code",
   "execution_count": 3,
   "id": "264adff4",
   "metadata": {},
   "outputs": [],
   "source": [
    "animals = sorted([\"wolf\", \"pferd\", \"esel\", \"hund\", \"katze\"])"
   ]
  },
  {
   "cell_type": "code",
   "execution_count": 4,
   "id": "aca2d998",
   "metadata": {},
   "outputs": [
    {
     "data": {
      "text/html": [
       "<div>\n",
       "<style scoped>\n",
       "    .dataframe tbody tr th:only-of-type {\n",
       "        vertical-align: middle;\n",
       "    }\n",
       "\n",
       "    .dataframe tbody tr th {\n",
       "        vertical-align: top;\n",
       "    }\n",
       "\n",
       "    .dataframe thead th {\n",
       "        text-align: right;\n",
       "    }\n",
       "</style>\n",
       "<table border=\"1\" class=\"dataframe\">\n",
       "  <thead>\n",
       "    <tr style=\"text-align: right;\">\n",
       "      <th></th>\n",
       "      <th>title</th>\n",
       "      <th>esel</th>\n",
       "      <th>hund</th>\n",
       "      <th>katze</th>\n",
       "      <th>pferd</th>\n",
       "      <th>wolf</th>\n",
       "    </tr>\n",
       "  </thead>\n",
       "  <tbody>\n",
       "    <tr>\n",
       "      <th>0</th>\n",
       "      <td>allerleirauh.txt</td>\n",
       "      <td>0</td>\n",
       "      <td>0</td>\n",
       "      <td>0</td>\n",
       "      <td>0</td>\n",
       "      <td>0</td>\n",
       "    </tr>\n",
       "    <tr>\n",
       "      <th>1</th>\n",
       "      <td>armuth-und-demuth-fuhren-zum-himmel.txt</td>\n",
       "      <td>0</td>\n",
       "      <td>0</td>\n",
       "      <td>0</td>\n",
       "      <td>0</td>\n",
       "      <td>0</td>\n",
       "    </tr>\n",
       "    <tr>\n",
       "      <th>2</th>\n",
       "      <td>aschenbuttel.txt</td>\n",
       "      <td>0</td>\n",
       "      <td>0</td>\n",
       "      <td>0</td>\n",
       "      <td>5</td>\n",
       "      <td>0</td>\n",
       "    </tr>\n",
       "    <tr>\n",
       "      <th>3</th>\n",
       "      <td>bruder-lustig.txt</td>\n",
       "      <td>0</td>\n",
       "      <td>0</td>\n",
       "      <td>0</td>\n",
       "      <td>0</td>\n",
       "      <td>0</td>\n",
       "    </tr>\n",
       "    <tr>\n",
       "      <th>4</th>\n",
       "      <td>bruderchen-und-schwesterchen.txt</td>\n",
       "      <td>0</td>\n",
       "      <td>0</td>\n",
       "      <td>0</td>\n",
       "      <td>1</td>\n",
       "      <td>3</td>\n",
       "    </tr>\n",
       "  </tbody>\n",
       "</table>\n",
       "</div>"
      ],
      "text/plain": [
       "                                     title  esel  hund  katze  pferd  wolf\n",
       "0                         allerleirauh.txt     0     0      0      0     0\n",
       "1  armuth-und-demuth-fuhren-zum-himmel.txt     0     0      0      0     0\n",
       "2                         aschenbuttel.txt     0     0      0      5     0\n",
       "3                        bruder-lustig.txt     0     0      0      0     0\n",
       "4         bruderchen-und-schwesterchen.txt     0     0      0      1     3"
      ]
     },
     "execution_count": 4,
     "metadata": {},
     "output_type": "execute_result"
    }
   ],
   "source": [
    "all_counts = []\n",
    "for fairytale in fairytale_corpus_reader.fileids():\n",
    "    tokens = [token.lower() for token in fairytale_corpus_reader.words(fairytale)]\n",
    "    text = nltk.Text(tokens)\n",
    "    vocab = text.vocab()\n",
    "    counts = [vocab[animal] for animal in animals]\n",
    "    all_counts.append(counts)\n",
    "\n",
    "fairytales_animals_counts = pd.DataFrame(all_counts, columns=animals)\n",
    "fairytales_animals_counts.insert(0, \"title\", fairytale_corpus_reader.fileids())\n",
    "fairytales_animals_counts.head()"
   ]
  },
  {
   "cell_type": "code",
   "execution_count": 5,
   "id": "4bd98403",
   "metadata": {},
   "outputs": [
    {
     "data": {
      "text/plain": [
       "pferd    137\n",
       "wolf     124\n",
       "katze     80\n",
       "hund      65\n",
       "esel      50\n",
       "dtype: int64"
      ]
     },
     "execution_count": 5,
     "metadata": {},
     "output_type": "execute_result"
    }
   ],
   "source": [
    "fairytales_animals_counts[animals].sum().sort_values(ascending=False)"
   ]
  },
  {
   "cell_type": "code",
   "execution_count": 6,
   "id": "758357a5",
   "metadata": {},
   "outputs": [
    {
     "data": {
      "text/html": [
       "<div>\n",
       "<style scoped>\n",
       "    .dataframe tbody tr th:only-of-type {\n",
       "        vertical-align: middle;\n",
       "    }\n",
       "\n",
       "    .dataframe tbody tr th {\n",
       "        vertical-align: top;\n",
       "    }\n",
       "\n",
       "    .dataframe thead th {\n",
       "        text-align: right;\n",
       "    }\n",
       "</style>\n",
       "<table border=\"1\" class=\"dataframe\">\n",
       "  <thead>\n",
       "    <tr style=\"text-align: right;\">\n",
       "      <th></th>\n",
       "      <th>esel</th>\n",
       "      <th>hund</th>\n",
       "      <th>katze</th>\n",
       "      <th>pferd</th>\n",
       "      <th>wolf</th>\n",
       "    </tr>\n",
       "  </thead>\n",
       "  <tbody>\n",
       "    <tr>\n",
       "      <th>count</th>\n",
       "      <td>210.000000</td>\n",
       "      <td>210.000000</td>\n",
       "      <td>210.000000</td>\n",
       "      <td>210.000000</td>\n",
       "      <td>210.000000</td>\n",
       "    </tr>\n",
       "    <tr>\n",
       "      <th>mean</th>\n",
       "      <td>0.238095</td>\n",
       "      <td>0.309524</td>\n",
       "      <td>0.380952</td>\n",
       "      <td>0.652381</td>\n",
       "      <td>0.590476</td>\n",
       "    </tr>\n",
       "    <tr>\n",
       "      <th>std</th>\n",
       "      <td>1.512461</td>\n",
       "      <td>1.360553</td>\n",
       "      <td>2.060710</td>\n",
       "      <td>1.951105</td>\n",
       "      <td>2.729233</td>\n",
       "    </tr>\n",
       "    <tr>\n",
       "      <th>min</th>\n",
       "      <td>0.000000</td>\n",
       "      <td>0.000000</td>\n",
       "      <td>0.000000</td>\n",
       "      <td>0.000000</td>\n",
       "      <td>0.000000</td>\n",
       "    </tr>\n",
       "    <tr>\n",
       "      <th>25%</th>\n",
       "      <td>0.000000</td>\n",
       "      <td>0.000000</td>\n",
       "      <td>0.000000</td>\n",
       "      <td>0.000000</td>\n",
       "      <td>0.000000</td>\n",
       "    </tr>\n",
       "    <tr>\n",
       "      <th>50%</th>\n",
       "      <td>0.000000</td>\n",
       "      <td>0.000000</td>\n",
       "      <td>0.000000</td>\n",
       "      <td>0.000000</td>\n",
       "      <td>0.000000</td>\n",
       "    </tr>\n",
       "    <tr>\n",
       "      <th>75%</th>\n",
       "      <td>0.000000</td>\n",
       "      <td>0.000000</td>\n",
       "      <td>0.000000</td>\n",
       "      <td>0.000000</td>\n",
       "      <td>0.000000</td>\n",
       "    </tr>\n",
       "    <tr>\n",
       "      <th>max</th>\n",
       "      <td>16.000000</td>\n",
       "      <td>12.000000</td>\n",
       "      <td>21.000000</td>\n",
       "      <td>16.000000</td>\n",
       "      <td>18.000000</td>\n",
       "    </tr>\n",
       "  </tbody>\n",
       "</table>\n",
       "</div>"
      ],
      "text/plain": [
       "             esel        hund       katze       pferd        wolf\n",
       "count  210.000000  210.000000  210.000000  210.000000  210.000000\n",
       "mean     0.238095    0.309524    0.380952    0.652381    0.590476\n",
       "std      1.512461    1.360553    2.060710    1.951105    2.729233\n",
       "min      0.000000    0.000000    0.000000    0.000000    0.000000\n",
       "25%      0.000000    0.000000    0.000000    0.000000    0.000000\n",
       "50%      0.000000    0.000000    0.000000    0.000000    0.000000\n",
       "75%      0.000000    0.000000    0.000000    0.000000    0.000000\n",
       "max     16.000000   12.000000   21.000000   16.000000   18.000000"
      ]
     },
     "execution_count": 6,
     "metadata": {},
     "output_type": "execute_result"
    }
   ],
   "source": [
    "fairytales_animals_counts.describe()"
   ]
  },
  {
   "cell_type": "code",
   "execution_count": 7,
   "id": "1770e643",
   "metadata": {},
   "outputs": [],
   "source": [
    "# store counts table on disk\n",
    "filename = PROC_DATA_DIR.joinpath(\"fairytales-animals-counts-v2.tsv\")\n",
    "fairytales_animals_counts.to_csv(filename, sep=\"\\t\", index=False)"
   ]
  },
  {
   "cell_type": "markdown",
   "id": "60acb310",
   "metadata": {},
   "source": [
    "## Übung 2\n",
    "\n",
    "a.) Teste die Konkordanz-Methode und probiere und ein paar beispielhafte Suchbegriffe aus.\n",
    "\n",
    "Es kann ein einzelner Suchbegriff als String oder eine Liste von Strings als Argument übergeben werden.\n",
    "\n",
    "b.) Was bewirken die optionalen Argument `width=79` und `lines=25`?"
   ]
  },
  {
   "cell_type": "code",
   "execution_count": 8,
   "id": "020728a5",
   "metadata": {},
   "outputs": [
    {
     "name": "stdout",
     "output_type": "stream",
     "text": [
      "Displaying 5 of 124 matches:\n",
      "rach „ wer aus mir trinkt , wird ein wolf : wer aus mir trinkt , wird ein wolf\n",
      "wolf : wer aus mir trinkt , wird ein wolf .“ da rief das schwesterchen „ brüde\n",
      "h , trink nicht , sonst wirst du ein wolf und frissest mich .“ das brüderchen \n",
      "n , und zwei tauben zerrupften einen wolf , zwei kinder die wurfen zwei zickle\n",
      "am ein neues unglück . ein hungriger wolf lief heran und verschlang den ganzen\n"
     ]
    }
   ],
   "source": [
    "# Explore the fairytales using the nltk.Text object's concordance method\n",
    "\n",
    "# change the query to a string of your choice\n",
    "query = \"wolf\"\n",
    "grimm_text.concordance(query, lines=5)"
   ]
  },
  {
   "cell_type": "code",
   "execution_count": 9,
   "id": "1e220450",
   "metadata": {},
   "outputs": [
    {
     "name": "stdout",
     "output_type": "stream",
     "text": [
      "Displaying 5 of 67 matches:\n",
      " es war einmal ein könig , der hatte eine frau \n",
      "bten vergnügt bis an ihren tod . es war einmal ein königssohn , der gieng hinau\n",
      "ndheit auf ihr lebtag gestraft . es war einmal ein großer krieg , und als der k\n",
      "n tag legte sie sich und starb . es war einmal ein soldat , der hatte dem könig\n",
      "damit die lügen hinaus fliegen . es war einmal ein kind eigensinnig und that ni\n"
     ]
    }
   ],
   "source": [
    "query = [\"es\", \"war\", \"einmal\"]\n",
    "grimm_text.concordance(query, lines=5)"
   ]
  },
  {
   "cell_type": "code",
   "execution_count": 10,
   "id": "68975057",
   "metadata": {},
   "outputs": [
    {
     "data": {
      "text/html": [
       "<details>\n",
       "<summary>Click to view session information</summary>\n",
       "<pre>\n",
       "-----\n",
       "nltk                3.6.5\n",
       "pandas              1.3.4\n",
       "session_info        1.0.0\n",
       "-----\n",
       "</pre>\n",
       "<details>\n",
       "<summary>Click to view modules imported as dependencies</summary>\n",
       "<pre>\n",
       "anyio                       NA\n",
       "attr                        21.2.0\n",
       "babel                       2.9.1\n",
       "backcall                    0.2.0\n",
       "beta_ufunc                  NA\n",
       "binom_ufunc                 NA\n",
       "certifi                     2021.10.08\n",
       "charset_normalizer          2.0.7\n",
       "cython_runtime              NA\n",
       "dateutil                    2.8.2\n",
       "debugpy                     1.5.1\n",
       "decorator                   5.1.0\n",
       "entrypoints                 0.3\n",
       "idna                        3.3\n",
       "ipykernel                   6.4.2\n",
       "ipython_genutils            0.2.0\n",
       "jedi                        0.18.0\n",
       "jinja2                      3.0.2\n",
       "json5                       NA\n",
       "jsonschema                  4.1.2\n",
       "jupyter_server              1.11.1\n",
       "jupyterlab_server           2.8.2\n",
       "markupsafe                  2.0.1\n",
       "mpl_toolkits                NA\n",
       "nbclassic                   NA\n",
       "nbformat                    5.1.3\n",
       "nbinom_ufunc                NA\n",
       "numpy                       1.21.3\n",
       "packaging                   21.0\n",
       "parso                       0.8.2\n",
       "pexpect                     4.8.0\n",
       "pickleshare                 0.7.5\n",
       "pkg_resources               NA\n",
       "prometheus_client           NA\n",
       "prompt_toolkit              3.0.20\n",
       "ptyprocess                  0.7.0\n",
       "pvectorc                    NA\n",
       "pydev_ipython               NA\n",
       "pydevconsole                NA\n",
       "pydevd                      2.6.0\n",
       "pydevd_concurrency_analyser NA\n",
       "pydevd_file_utils           NA\n",
       "pydevd_plugins              NA\n",
       "pydevd_tracing              NA\n",
       "pyexpat                     NA\n",
       "pygments                    2.10.0\n",
       "pyrsistent                  NA\n",
       "pytz                        2021.3\n",
       "regex                       2.5.104\n",
       "requests                    2.26.0\n",
       "scipy                       1.7.1\n",
       "send2trash                  NA\n",
       "six                         1.16.0\n",
       "sniffio                     1.2.0\n",
       "storemagic                  NA\n",
       "terminado                   0.12.1\n",
       "tornado                     6.1\n",
       "traitlets                   5.1.0\n",
       "urllib3                     1.26.7\n",
       "wcwidth                     0.2.5\n",
       "websocket                   1.2.1\n",
       "zmq                         22.3.0\n",
       "</pre>\n",
       "</details> <!-- seems like this ends pre, so might as well be explicit -->\n",
       "<pre>\n",
       "-----\n",
       "IPython             7.28.0\n",
       "jupyter_client      7.0.6\n",
       "jupyter_core        4.8.1\n",
       "jupyterlab          3.2.1\n",
       "notebook            6.4.5\n",
       "-----\n",
       "Python 3.9.7 (default, Aug 31 2021, 13:28:12) [GCC 11.1.0]\n",
       "Linux-5.13.19-2-MANJARO-x86_64-with-glibc2.33\n",
       "-----\n",
       "Session information updated at 2021-10-28 08:20\n",
       "</pre>\n",
       "</details>"
      ],
      "text/plain": [
       "<IPython.core.display.HTML object>"
      ]
     },
     "execution_count": 10,
     "metadata": {},
     "output_type": "execute_result"
    }
   ],
   "source": [
    "import session_info\n",
    "\n",
    "session_info.show()"
   ]
  }
 ],
 "metadata": {
  "kernelspec": {
   "display_name": "Python 3 (ipykernel)",
   "language": "python",
   "name": "python3"
  },
  "language_info": {
   "codemirror_mode": {
    "name": "ipython",
    "version": 3
   },
   "file_extension": ".py",
   "mimetype": "text/x-python",
   "name": "python",
   "nbconvert_exporter": "python",
   "pygments_lexer": "ipython3",
   "version": "3.9.7"
  }
 },
 "nbformat": 4,
 "nbformat_minor": 5
}

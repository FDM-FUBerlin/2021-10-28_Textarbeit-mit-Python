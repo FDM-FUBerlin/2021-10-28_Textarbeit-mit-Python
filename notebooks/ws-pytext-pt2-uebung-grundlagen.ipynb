{
 "cells": [
  {
   "cell_type": "markdown",
   "metadata": {},
   "source": [
    "# 2. Übung Grundlagen\n",
    "\n",
    "## Inhalte\n",
    "\n",
    "1. Notebooks kennenlernen\n",
    "    + Code ausführen\n",
    "    + Code verändern\n",
    "\n",
    "\n",
    "2. Grundbegriffe \n",
    "    + Variable, Values\n",
    "    + verschiedene data types\n",
    "    + Funktionen und Operatoren\n",
    "\n",
    "\n",
    "3. Probleme lösen\n",
    "    + mithilfe von Vorwissen\n",
    "    + mithilfe der Dokumentation\n",
    "    + mithilfe des Internets\n",
    "    "
   ]
  },
  {
   "cell_type": "markdown",
   "metadata": {},
   "source": [
    "## 1. Notebooks kennenlernen\n",
    "\n",
    "### Codezellen bei Jupyter Notebooks ausführen:\n",
    "\n",
    "1. Codezelle auswählen durch Klick mit der Maus auf entsprechende Zelle (Hinweis: Welche Zelle aktuell ausgewählt ist, wird durch den blauen Streifen links angezeigt)\n",
    "\n",
    "2. Codezelle ausführen durch Klick auf Run (Pfeil in der Leiste oben) oder Strg / Command + Enter\n",
    "\n",
    "<div class='alert alert-warning'>\n",
    "    <b>Übung</b>: Führe die untenstehende Codezelle aus.\n",
    "</div>"
   ]
  },
  {
   "cell_type": "code",
   "execution_count": 1,
   "metadata": {},
   "outputs": [
    {
     "name": "stdout",
     "output_type": "stream",
     "text": [
      "Mein Name ist Tom Riddle\n"
     ]
    }
   ],
   "source": [
    "name = \"Tom Riddle\"\n",
    "print(\"Mein Name ist\", name)"
   ]
  },
  {
   "cell_type": "markdown",
   "metadata": {},
   "source": [
    "### Code anpassen:\n",
    "1. Richtige Stelle in der Codezelle auswählen\n",
    "\n",
    "2. Gewünschte Änderungen vornehmen\n",
    "\n",
    "3. Codezelle ausführen, um Ergebnis / Output zu überprüfen\n",
    "\n",
    "<div class='alert alert-warning'>\n",
    "    <b>Übung</b>: Ändere die untenstehende Codezelle, sodass ein anderer Name ausgegeben wird Bsp: Mein Name ist Harry Potter</div>\n",
    "<div class=\"alert alert-block alert-info\">\n",
    "    <b>Hinweis</b>: Das Rautezeichen # wird genutzt, um einzeilige Kommentare in Codezellen zu markieren. Inhalt hinter dem Rautezeichen wird beim Ausführen der Codezelle nicht beachtet.  \n",
    "</div>"
   ]
  },
  {
   "cell_type": "code",
   "execution_count": 2,
   "metadata": {},
   "outputs": [
    {
     "name": "stdout",
     "output_type": "stream",
     "text": [
      "Mein Name ist wrong_name\n"
     ]
    }
   ],
   "source": [
    "name = \"wrong_name\"  # change name here\n",
    "print(\"Mein Name ist\", name)"
   ]
  },
  {
   "cell_type": "markdown",
   "metadata": {},
   "source": [
    "## 2. Grundbegriffe Wiederholung\n",
    "\n",
    "+ `name` ist eine **Variable** \n",
    "+ `name = \"falschername\"` weist der Variable `name` den **Value / Wert** `\"falschername\"` zu\n",
    "+ Es gibt unterschiedliche Kategorien von Values (sog. **data types**)\n",
    "    + **Strings** (strs) für Texte, sie werden mit einfachen ('text') oder doppelten Anführungszeichen (\"text\") umgeben\n",
    "    + **Integers** (ints) für ganzzahlige Zahlen z.B. 42\n",
    "    + **Floating-point numbers** (floats) für Zahlen mit Dezimalpunkt z.B. 42.0\n",
    "    + **Boolean** (bool) für True und False\n",
    "    + viele weitere (z.B. list, tuple)\n",
    "    \n",
    "    \n",
    "+ **Funktionen** (z. B. `print()`) verarbeiten, was in den Klammern steht (sog. **Argumente**)\n",
    "+ Funktionen können\n",
    "    + in Python angelegt sein z.B.`print()`\n",
    "    + selbst definiert werden (dazu später mehr)\n",
    "    \n",
    "    \n",
    "+ **Operatoren** (z.B. =, <) sind im Prinzip Funktionen mit bestimmter Schreibweise\n",
    "    \n",
    "\n",
    "<div class=\"alert alert-block alert-info\">\n",
    "    <b>Syntaxhervorhebung / Syntax-Highlighting</b>:  Bestimmte Wörter oder Zeichenkombinationen werden abhängig von ihrer Bedeutung in unterschiedlichen Farben dargestellt z.B. Funktionen = grün, Values = rot, Operatoren = lila \n",
    "</div>\n",
    "\n",
    "<div class=\"alert alert-block alert-info\">\n",
    "    <b>Hinweis</b>: Funktionen und Operatoren geben abhängig vom Data Type häufig unterschiedliche Outputs. Der Data Type eines Objekts kann mit der Funktion <code>type()</code> herausgefunden werden. \n",
    "</div>\n",
    "\n",
    "<div class='alert alert-warning'>\n",
    "    <b>Übung</b>: Führe die nächste Zelle aus. Wie ist der Output zu erklären? Schreibe die Antwort als Kommentar in die nächste Zelle. Tipp: Führe die übernächste Zelle aus, um das jeweilige Ergebnis und den Data Type zu erfahren.\n",
    "</div>"
   ]
  },
  {
   "cell_type": "code",
   "execution_count": 3,
   "metadata": {},
   "outputs": [
    {
     "data": {
      "text/plain": [
       "False"
      ]
     },
     "execution_count": 3,
     "metadata": {},
     "output_type": "execute_result"
    }
   ],
   "source": [
    "5 + 7 == \"5\" + \"7\"  # my answer:"
   ]
  },
  {
   "cell_type": "code",
   "execution_count": 4,
   "metadata": {},
   "outputs": [
    {
     "name": "stdout",
     "output_type": "stream",
     "text": [
      "57\n",
      "12\n",
      "<class 'str'>\n",
      "<class 'int'>\n"
     ]
    }
   ],
   "source": [
    "print(\"5\" + \"7\")\n",
    "print(5 + 7)\n",
    "print(type(\"5\"))\n",
    "print(type(5))"
   ]
  },
  {
   "cell_type": "markdown",
   "metadata": {},
   "source": [
    "## 3. Probleme lösen\n",
    "\n",
    "Es ist ganz normal, dass der Output nicht immer wie gewünscht aussieht oder beim Ausführen Fehler entstehen. Mögliche Handlungsoptionen:\n",
    "+ Code und Fehlermeldung genau anschauen; manchmal ist der Fehler sehr offensichtlich\n",
    "+ Funktionsweise und Syntax von Funktionen über die Hilfe entdecken \n",
    "+ Internetrecherche\n",
    "    + Suche nach konkreten Fehlermeldungen\n",
    "    + Suche nach Hilfestellungen, wie man eine bestimmten Output erreichen kann\n",
    "\n",
    "### Mithilfe von Vorwissen\n",
    "\n",
    "Wir wissen bereits, dass Strings für Texte verwendet werden und immer von Anführungszeichen umgeben sein müssen."
   ]
  },
  {
   "cell_type": "markdown",
   "metadata": {},
   "source": [
    "<div class=\"alert alert-warning\">\n",
    "    <b>Übung</b>: Führe die Codezeile unten aus und behebe den Fehler. \n",
    "</div>"
   ]
  },
  {
   "cell_type": "code",
   "execution_count": 6,
   "metadata": {},
   "outputs": [
    {
     "ename": "SyntaxError",
     "evalue": "EOL while scanning string literal (4186584624.py, line 1)",
     "output_type": "error",
     "traceback": [
      "\u001b[0;36m  File \u001b[0;32m\"/tmp/ipykernel_20778/4186584624.py\"\u001b[0;36m, line \u001b[0;32m1\u001b[0m\n\u001b[0;31m    print(\"Mein Name ist Tom Riddle)\u001b[0m\n\u001b[0m                                    ^\u001b[0m\n\u001b[0;31mSyntaxError\u001b[0m\u001b[0;31m:\u001b[0m EOL while scanning string literal\n"
     ]
    }
   ],
   "source": [
    "print(\"Mein Name ist Tom Riddle)"
   ]
  },
  {
   "cell_type": "markdown",
   "metadata": {},
   "source": [
    "### Mithilfe der Dokumentation\n",
    "\n",
    "+ was die Funktion macht, kann mit der Hilfe herausgefunden werden. Hier gibt es zwei Möglichkeiten:\n",
    "    + `help(funktionsname)` z. B. `help(print)`\n",
    "    + `?funktionsname` z. B. `?print`\n",
    "+ **Argumente** stehen innerhalb von Funktionen und beschreiben, wie und was die Funktion verarbeiten soll\n",
    "    + manche Argumente sind zwingend erforderlich\n",
    "    + andere sind optional\n",
    "        \n",
    "\n",
    "<div class=\"alert alert-warning\">\n",
    "    <b>Übung</b>: Verändere in der übernächsten Zelle ein <b>optionales Argument</b> der Funktion print(), um den gewünschten Output zu erhalten. Die Argumente von print() werden über die Hilfe ?print oder help(print) angezeigt.\n",
    "    <br>\n",
    "    Erwünschter Output: `Mein Name ist: Tom Riddle` (Hinweis: Doppelpunkt statt Leerzeichen)\n",
    "</div>"
   ]
  },
  {
   "cell_type": "code",
   "execution_count": 7,
   "metadata": {},
   "outputs": [
    {
     "name": "stdout",
     "output_type": "stream",
     "text": [
      "Help on built-in function print in module builtins:\n",
      "\n",
      "print(...)\n",
      "    print(value, ..., sep=' ', end='\\n', file=sys.stdout, flush=False)\n",
      "    \n",
      "    Prints the values to a stream, or to sys.stdout by default.\n",
      "    Optional keyword arguments:\n",
      "    file:  a file-like object (stream); defaults to the current sys.stdout.\n",
      "    sep:   string inserted between values, default a space.\n",
      "    end:   string appended after the last value, default a newline.\n",
      "    flush: whether to forcibly flush the stream.\n",
      "\n"
     ]
    }
   ],
   "source": [
    "help(print)"
   ]
  },
  {
   "cell_type": "code",
   "execution_count": 8,
   "metadata": {},
   "outputs": [
    {
     "name": "stdout",
     "output_type": "stream",
     "text": [
      "Mein Name ist Tom Riddle\n"
     ]
    }
   ],
   "source": [
    "name = \"Tom Riddle\"\n",
    "print(\"Mein Name ist\", name, sep=\" \", end=\"\\n\")  # change one of the optional keyword arguments!"
   ]
  },
  {
   "cell_type": "markdown",
   "metadata": {},
   "source": [
    "### Mithilfe des Internets\n",
    "\n",
    "Viele Probleme lassen sich durch eine Internetrecherche lösen. Hier einige Hinweise dazu:\n",
    "+ Für Fehlermeldungen:\n",
    "    + Kopiere den Text der Fehlermeldung in das Eingabefeld der Suchmaschine\n",
    "    + Falls die angegebenen Lösungen nicht verständlich sind, suche nach den verwendeten Fachbegriffen\n",
    "+ Für Hilfestellungen:\n",
    "    + beschreibe was gemacht werden soll z. B. verbinde zwei Wörter mit Leerzeichen dazwischen \n",
    "    + füge die verwendete Programmiersprache hinzu z. B. verbinde zwei Wörter mit Leerzeichen dazwischen python\n",
    "    + verwende Fachbegriffe, sofern bekannt z. B. verkette zwei strings mit Leerzeichen dazwischen python\n",
    "    + suche auf Englisch z. B. concatenate two strings space in between python\n",
    "    + wähle Suchergebnisse von bekannten Hilfe-Foren z. B. https://stackoverflow.com\n",
    "    + übertrage eine mögliche Lösung, die im Forum weit oben steht, also von mehreren Personen als hilfreich bewertet wurde, auf das eigene Problem\n",
    "    \n",
    "<div class=\"alert alert-warning\">\n",
    "    <b>Übung</b>: Der Operator + verkettet Strings ohne Leerzeichen. Suche im Internet nach einer Möglichkeit, zwei Strings zu einem String mit Leerzeichen dazwischen zu verbinden (ohne ein Leerzeichen im String zu ergänzen).\n",
    "    <br>\n",
    "    Erwünschter Output: `Vorname Nachname`\n",
    "</div>\n",
    "\n",
    "<div class=\"alert alert-block alert-info\">\n",
    "    <b>Hinweis</b>: Die Suche nach Lösungen im Internet ist eher erfolgreich, wenn man die korrekten Fachbegriffe kennt. Hierfür eignet sich ein Kurs zu Grundlagen der Programmierung oder ein Einführungsbuch.\n",
    "</div>"
   ]
  },
  {
   "cell_type": "code",
   "execution_count": 9,
   "metadata": {},
   "outputs": [
    {
     "name": "stdout",
     "output_type": "stream",
     "text": [
      "VornameNachname\n"
     ]
    }
   ],
   "source": [
    "first_name = \"Vorname\"\n",
    "last_name = \"Nachname\"\n",
    "print(first_name + last_name)"
   ]
  },
  {
   "cell_type": "markdown",
   "metadata": {},
   "source": [
    "## Zusammenfassung\n",
    "\n",
    "In diesem Notebook hast du gelernt:\n",
    "\n",
    "1. Code auszuführen, verändern und kommentieren\n",
    "\n",
    "2. Wichtige Grundbegriffe nennen\n",
    "    + Variable\n",
    "    + Value / Wert\n",
    "    + Data Types (z.B. string für Textdaten)\n",
    "    + Funktionen\n",
    "    + Argumente\n",
    "    + Operatoren\n",
    "    + Syntax Highlighting\n",
    "    \n",
    "    \n",
    "3. Erste Probleme lösen\n",
    "    + basierend auf deinem Vorwissen\n",
    "    + mit der Hilfe (?funktionsname oder help(funktionsname))\n",
    "    + durch Recherche im Internet\n",
    "        * bei Fehlermeldungen\n",
    "        + zum Schreiben und Ändern von Code\n",
    "   "
   ]
  },
  {
   "cell_type": "markdown",
   "metadata": {},
   "source": [
    "# **Optionaler** weiterer Inhalt\n",
    "\n",
    "Eine weiterer Data Type, der häufig verwendet wird, sind Listen. Informiere dich online über Listen und suche eine Lösung, um die beiden Listen wie im Kommentar beschreiben zu kombinieren\n"
   ]
  },
  {
   "cell_type": "code",
   "execution_count": 10,
   "metadata": {},
   "outputs": [
    {
     "name": "stdout",
     "output_type": "stream",
     "text": [
      "['Peter', 'Alexander', 'Marion', 'Susann', 'Kim', ' Meier', ' Mustermensch', ' Schmidt', ' Richter', ' Bauer']\n"
     ]
    }
   ],
   "source": [
    "# desired output: ['Peter Meier', 'Alexander Mustermensch', 'Marion Schmidt', 'Susann Richter', 'Kim Bauer']\n",
    "first_names = [\"Peter\", \"Alexander\", \"Marion\", \"Susann\", \"Kim\"]\n",
    "last_names = [\" Meier\", \" Mustermensch\", \" Schmidt\", \" Richter\", \" Bauer\"]\n",
    "\n",
    "full_names = first_names + last_names\n",
    "print(full_names)"
   ]
  },
  {
   "cell_type": "code",
   "execution_count": null,
   "metadata": {},
   "outputs": [],
   "source": []
  }
 ],
 "metadata": {
  "kernelspec": {
   "display_name": "Python 3 (ipykernel)",
   "language": "python",
   "name": "python3"
  },
  "language_info": {
   "codemirror_mode": {
    "name": "ipython",
    "version": 3
   },
   "file_extension": ".py",
   "mimetype": "text/x-python",
   "name": "python",
   "nbconvert_exporter": "python",
   "pygments_lexer": "ipython3",
   "version": "3.9.7"
  }
 },
 "nbformat": 4,
 "nbformat_minor": 4
}

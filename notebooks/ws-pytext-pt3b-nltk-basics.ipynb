{
 "cells": [
  {
   "cell_type": "markdown",
   "id": "af3a5ac3",
   "metadata": {},
   "source": [
    "# 3b. NLTK Basics\n",
    "\n",
    "## Lernziele\n",
    "\n",
    "1. Laden von NLTK-Paketen\n",
    "2. Tokenisierung \n",
    "3. Das Text-Objekt\n",
    "4. Einlesen von Texten "
   ]
  },
  {
   "cell_type": "markdown",
   "id": "ee48ffce",
   "metadata": {},
   "source": [
    "## 1. Laden von NLTK-Paketen\n",
    "\n",
    "Nach einmaligem installieren von NLTK (hier im Jupyter Lab bereits geschehen), müssen die benötigen **Pakete geladen** werden. \n",
    "NLTK umfasst viele Pakete. Man lädt immer nur diejenigen, die aktuell benötigt werden, um Zeit zu sparen.\n",
    "\n",
    "Lade das Paket `punkt`, indem du die unten stehende Codezelle ausführst.\n",
    "\n",
    "<div class=\"alert alert-block alert-info\"> <b>Hinweis</b>: In den folgenden Abschnitten der Notebooks wird davon ausgegangen, dass <b> jede Codezelle</b> ausgeführt wird. Die grauen eckigen Klammern links neben der Codezelle gibt an, ob der Code noch nicht ausgeführt wurde [ ], gerade ausgeführt wird [*] oder schon ausgeführt wurde [1]. Bei ausgeführten Zellen gibt die Nummer an, in welcher Reihenfolge die Zellen ausgeführt wurden (höchste Zahl = zuletzt ausgeführt). \n",
    "</div>"
   ]
  },
  {
   "cell_type": "code",
   "execution_count": 1,
   "id": "1b8e3cfd",
   "metadata": {},
   "outputs": [
    {
     "data": {
      "text/plain": [
       "True"
      ]
     },
     "execution_count": 1,
     "metadata": {},
     "output_type": "execute_result"
    }
   ],
   "source": [
    "import nltk\n",
    "\n",
    "nltk.download(\"punkt\", quiet=True)"
   ]
  },
  {
   "cell_type": "markdown",
   "id": "db91500c",
   "metadata": {},
   "source": [
    "Im Folgenden wollen wir mit einem sehr kurzen Text arbeiten, um einige Funktionen von NLTK praktisch kennenzulernen. Dafür überführen wir den Satz in einen **String** und weisen ihn der Variable text_string zu."
   ]
  },
  {
   "cell_type": "code",
   "execution_count": 2,
   "id": "0cabf776",
   "metadata": {},
   "outputs": [
    {
     "data": {
      "text/plain": [
       "str"
      ]
     },
     "execution_count": 2,
     "metadata": {},
     "output_type": "execute_result"
    }
   ],
   "source": [
    "# first sentence of \"Rumpelstilzchen\", see: https://de.wikisource.org/wiki/Rumpelstilzchen_(1857)\n",
    "text_string = \"Es war einmal ein Müller, der war arm, aber er hatte eine schöne Tochter.\"\n",
    "type(text_string)"
   ]
  },
  {
   "cell_type": "markdown",
   "id": "797b35cb",
   "metadata": {},
   "source": [
    "## 2. Tokenisierung mit NLTK\n",
    "\n",
    "Tokenisierung, also die Zerlegung von Texten in Bestandteile (Wörter, Sätze, Abschnitte) ist eine grundlegende Vorverarbeitung, die für viele weiteren Analysen notwendig ist.\n",
    "\n",
    "Die Funktion `word_tokenize()`  \n",
    "+ erhält einen Text (String) als Input, sowie optional die Sprache (Standardwert ist Englisch)\n",
    "+ gibt eine tokenisierte Version des Input-Texts als Output zurück\n",
    "\n",
    "<div class=\"alert alert-block alert-info\"> <b>Hinweis</b>: Funktionen, die zu bestimmten Bibliotheken gehören, werden üblicherweise in der Form <code>name_bibliothek.name_funktion()</code> aufgerufen z. B. <code>nltk.word_tokenize()</code>  \n",
    "</div>\n",
    "    \n",
    "Für Details zur Funktion `word_tokenize()` kann die Hilfe aufgerufen werden."
   ]
  },
  {
   "cell_type": "code",
   "execution_count": 3,
   "id": "1e39480c",
   "metadata": {},
   "outputs": [
    {
     "data": {
      "text/plain": [
       "\u001b[0;31mSignature:\u001b[0m \u001b[0mnltk\u001b[0m\u001b[0;34m.\u001b[0m\u001b[0mword_tokenize\u001b[0m\u001b[0;34m(\u001b[0m\u001b[0mtext\u001b[0m\u001b[0;34m,\u001b[0m \u001b[0mlanguage\u001b[0m\u001b[0;34m=\u001b[0m\u001b[0;34m'english'\u001b[0m\u001b[0;34m,\u001b[0m \u001b[0mpreserve_line\u001b[0m\u001b[0;34m=\u001b[0m\u001b[0;32mFalse\u001b[0m\u001b[0;34m)\u001b[0m\u001b[0;34m\u001b[0m\u001b[0;34m\u001b[0m\u001b[0m\n",
       "\u001b[0;31mDocstring:\u001b[0m\n",
       "Return a tokenized copy of *text*,\n",
       "using NLTK's recommended word tokenizer\n",
       "(currently an improved :class:`.TreebankWordTokenizer`\n",
       "along with :class:`.PunktSentenceTokenizer`\n",
       "for the specified language).\n",
       "\n",
       ":param text: text to split into words\n",
       ":type text: str\n",
       ":param language: the model name in the Punkt corpus\n",
       ":type language: str\n",
       ":param preserve_line: A flag to decide whether to sentence tokenize the text or not.\n",
       ":type preserve_line: bool\n",
       "\u001b[0;31mFile:\u001b[0m      ~/.local/share/virtualenvs/2021-10-28_Textarbeit-mit-Python-oW_HKkNn/lib/python3.9/site-packages/nltk/tokenize/__init__.py\n",
       "\u001b[0;31mType:\u001b[0m      function\n"
      ]
     },
     "metadata": {},
     "output_type": "display_data"
    }
   ],
   "source": [
    "nltk.word_tokenize?"
   ]
  },
  {
   "cell_type": "markdown",
   "id": "7e729d51",
   "metadata": {},
   "source": [
    "<div class=\"alert alert-warning\">\n",
    "    <b>Übung</b>: Ändere den Wert des language-Arguments zu \"german\".\n",
    "</div>"
   ]
  },
  {
   "cell_type": "code",
   "execution_count": 4,
   "id": "178dde69",
   "metadata": {},
   "outputs": [
    {
     "data": {
      "text/plain": [
       "['Es',\n",
       " 'war',\n",
       " 'einmal',\n",
       " 'ein',\n",
       " 'Müller',\n",
       " ',',\n",
       " 'der',\n",
       " 'war',\n",
       " 'arm',\n",
       " ',',\n",
       " 'aber',\n",
       " 'er',\n",
       " 'hatte',\n",
       " 'eine',\n",
       " 'schöne',\n",
       " 'Tochter',\n",
       " '.']"
      ]
     },
     "execution_count": 4,
     "metadata": {},
     "output_type": "execute_result"
    }
   ],
   "source": [
    "nltk.word_tokenize(text_string, language=\"english\")"
   ]
  },
  {
   "cell_type": "markdown",
   "id": "ed303ca2",
   "metadata": {},
   "source": [
    "Wie oben beschrieben, gibt `word_tokenize` die tokenisierte Form des Inputs zurück. Der Output ist jedoch kein String mehr, sondern eine **Liste**\n",
    "\n",
    "**Liste**\n",
    "+ ist ein Data Type (wie String, Integer, Float)\n",
    "+ beginnt mit einer eckigen Klammer und endet mit einer eckigen Klammer\n",
    "+ die einzelnen **Elemente** sind durch ein Komma getrennt\n",
    "+ eine Liste kann Elemente unterschiedlicher Data Types beinhalten"
   ]
  },
  {
   "cell_type": "code",
   "execution_count": 5,
   "id": "f7e0a29d",
   "metadata": {},
   "outputs": [
    {
     "data": {
      "text/plain": [
       "list"
      ]
     },
     "execution_count": 5,
     "metadata": {},
     "output_type": "execute_result"
    }
   ],
   "source": [
    "tokens = nltk.word_tokenize(text_string, language=\"german\")\n",
    "type(tokens)"
   ]
  },
  {
   "cell_type": "markdown",
   "id": "62aca2b2",
   "metadata": {},
   "source": [
    "## 3. Das Text-Objekt bei NLTK\n",
    "\n",
    "Für einen ersten Überblick über einige Eigenschaften des Texts kann ein nltk.Text-Objekt erstellt werden.\n",
    "\n",
    "Mithilfe eines nltk.Text-Objekts lässt sich beispielsweise:\n",
    "+ die Häufigkeit von Tokens im Text anzeigen -> .vocab()\n",
    "+ die Häufigkeit von Tokens im Text visualisieren -> .plot()\n",
    "\n",
    "Dafür muss zunächst das nltk.Text-Objekt erstellt werden."
   ]
  },
  {
   "cell_type": "code",
   "execution_count": 6,
   "id": "f3bb9e19",
   "metadata": {},
   "outputs": [
    {
     "data": {
      "text/plain": [
       "<Text: Es war einmal ein Müller , der war...>"
      ]
     },
     "execution_count": 6,
     "metadata": {},
     "output_type": "execute_result"
    }
   ],
   "source": [
    "text = nltk.Text(tokens)\n",
    "text"
   ]
  },
  {
   "cell_type": "code",
   "execution_count": 7,
   "id": "a4a1c4c8",
   "metadata": {},
   "outputs": [
    {
     "data": {
      "text/plain": [
       "FreqDist({'war': 2, ',': 2, 'Es': 1, 'einmal': 1, 'ein': 1, 'Müller': 1, 'der': 1, 'arm': 1, 'aber': 1, 'er': 1, ...})"
      ]
     },
     "execution_count": 7,
     "metadata": {},
     "output_type": "execute_result"
    }
   ],
   "source": [
    "text.vocab()"
   ]
  },
  {
   "cell_type": "markdown",
   "id": "16317f92",
   "metadata": {},
   "source": [
    "<div class=\"alert alert-warning\">\n",
    "    <b>Übung</b>: Verändere die beiden Codezeilen unten, sodass (a) nur die drei häufigsten Tokens ausgegeben werden und (b) nur die fünf häufigsten Tokens visualisiert werden.\n",
    "</div>"
   ]
  },
  {
   "cell_type": "code",
   "execution_count": 8,
   "id": "a10e8591",
   "metadata": {},
   "outputs": [
    {
     "data": {
      "text/plain": [
       "[('war', 2),\n",
       " (',', 2),\n",
       " ('Es', 1),\n",
       " ('einmal', 1),\n",
       " ('ein', 1),\n",
       " ('Müller', 1),\n",
       " ('der', 1),\n",
       " ('arm', 1),\n",
       " ('aber', 1),\n",
       " ('er', 1)]"
      ]
     },
     "execution_count": 8,
     "metadata": {},
     "output_type": "execute_result"
    }
   ],
   "source": [
    "vocab = text.vocab()\n",
    "vocab.most_common(10)"
   ]
  },
  {
   "cell_type": "code",
   "execution_count": 9,
   "id": "f53c8ef9",
   "metadata": {},
   "outputs": [
    {
     "data": {
      "image/png": "[encoded data removed]",
      "text/plain": [
       "<Figure size 432x288 with 1 Axes>"
      ]
     },
     "metadata": {
      "needs_background": "light"
     },
     "output_type": "display_data"
    }
   ],
   "source": [
    "text.plot(10)"
   ]
  },
  {
   "cell_type": "markdown",
   "id": "15a6fb5d",
   "metadata": {},
   "source": [
    "Die Abbildung oben zeigt, dass war und Komma zweimal vorkommen, alle anderen Tokens nur einmal. \n",
    "\n",
    "Bei sehr kurzen Texten (ein Satz) ist eine solche Häufigkeitsverteilung wenig aussagekräftig. Wir benötigen also einen längeren Text! \n",
    "\n",
    "## Exkurs: Einlesen einer Textdatei\n",
    "\n",
    "Zum Einlesen einer Datei führen wir die folgenden Codezellen aus:"
   ]
  },
  {
   "cell_type": "code",
   "execution_count": 10,
   "id": "bf1aeb62",
   "metadata": {},
   "outputs": [
    {
     "data": {
      "text/plain": [
       "PosixPath('/home/afuetterer/workspace/2021-10-28_Textarbeit-mit-Python/data/corpus/bruder-grimm_1857/rumpelstilzchen.txt')"
      ]
     },
     "execution_count": 10,
     "metadata": {},
     "output_type": "execute_result"
    }
   ],
   "source": [
    "import pathlib\n",
    "\n",
    "DATA_DIR = pathlib.Path().cwd().parent.joinpath(\"data\")\n",
    "filename = DATA_DIR.joinpath(\"corpus/bruder-grimm_1857/rumpelstilzchen.txt\")\n",
    "filename"
   ]
  },
  {
   "cell_type": "code",
   "execution_count": 11,
   "id": "b60c4ee9",
   "metadata": {},
   "outputs": [],
   "source": [
    "with open(filename, \"r\", encoding=\"utf-8\") as infile:\n",
    "    text_string = infile.read()"
   ]
  },
  {
   "cell_type": "markdown",
   "id": "f916bda6",
   "metadata": {},
   "source": [
    "Wir lassen uns die ersten 250 Zeichen des Textes ausgeben, um zu überprüfen, ob der richtige Text eingelesen wurde."
   ]
  },
  {
   "cell_type": "code",
   "execution_count": 12,
   "id": "e5a8d9fa",
   "metadata": {},
   "outputs": [
    {
     "data": {
      "text/plain": [
       "'Es war einmal ein Müller, der war arm, aber er hatte eine schöne Tochter. Nun traf es sich, daß er mit dem König zu sprechen kam, und um sich ein Ansehen zu geben, sagte er zu ihm „ich habe eine Tochter, die kann Stroh zu Gold spinnen.“ Der König spr'"
      ]
     },
     "execution_count": 12,
     "metadata": {},
     "output_type": "execute_result"
    }
   ],
   "source": [
    "text_string[:250]"
   ]
  },
  {
   "cell_type": "markdown",
   "id": "20eac0df",
   "metadata": {},
   "source": [
    "Nun überschreiben wir die Variable `tokens`, indem wir den neuen Inhalt von `text_string` übergeben."
   ]
  },
  {
   "cell_type": "code",
   "execution_count": 13,
   "id": "141fb98e",
   "metadata": {},
   "outputs": [],
   "source": [
    "tokens = nltk.word_tokenize(text_string, language=\"german\")\n",
    "text = nltk.Text(tokens)"
   ]
  },
  {
   "cell_type": "markdown",
   "id": "92004cc6",
   "metadata": {},
   "source": [
    "In welchem Kontext kömmt das Wort \"König\" vor?\n",
    "\n",
    "Mit `.concordance(\"König\")` wird der Suchbegriff \"König\" im Text gesucht. Die Ausgabe ist eine Darstellung des Suchbegriffs im Kontext."
   ]
  },
  {
   "cell_type": "code",
   "execution_count": 14,
   "id": "e39e3f70",
   "metadata": {},
   "outputs": [
    {
     "name": "stdout",
     "output_type": "stream",
     "text": [
      "Displaying 5 of 5 matches:\n",
      " . Nun traf es sich , daß er mit dem König zu sprechen kam , und um sich ein An\n",
      "ie kann Stroh zu Gold spinnen. “ Der König sprach zum Müller „ das ist eine Kun\n",
      "ld . Bei Sonnenaufgang kam schon der König und als er das Gold erblickte , erst\n",
      "h zu glänzendem Gold gesponnen . Der König freute sich über die Maßen bei dem A\n",
      "troh zu Gold . Und als am Morgen der König kam und alles fand wie er gewünscht \n"
     ]
    }
   ],
   "source": [
    "text.concordance(\"König\")"
   ]
  },
  {
   "cell_type": "code",
   "execution_count": 15,
   "id": "8bf08f9c",
   "metadata": {},
   "outputs": [
    {
     "data": {
      "text/plain": [
       "[(',', 96),\n",
       " ('und', 45),\n",
       " ('„', 33),\n",
       " ('“', 32),\n",
       " ('das', 32),\n",
       " ('die', 28),\n",
       " ('zu', 20),\n",
       " ('ich', 19),\n",
       " ('du', 16),\n",
       " ('.', 15)]"
      ]
     },
     "execution_count": 15,
     "metadata": {},
     "output_type": "execute_result"
    }
   ],
   "source": [
    "vocab = text.vocab()\n",
    "vocab.most_common(10)"
   ]
  },
  {
   "cell_type": "code",
   "execution_count": 16,
   "id": "bd1c1705",
   "metadata": {},
   "outputs": [
    {
     "data": {
      "image/png": "[encoded data removed]",
      "text/plain": [
       "<Figure size 432x288 with 1 Axes>"
      ]
     },
     "metadata": {
      "needs_background": "light"
     },
     "output_type": "display_data"
    }
   ],
   "source": [
    "text.plot(10)"
   ]
  },
  {
   "cell_type": "markdown",
   "id": "71c3d379",
   "metadata": {},
   "source": [
    "<div class=\"alert alert-block alert-info\">\n",
    "    <b>Hinweis</b>: Die häufigsten Tokens sind üblicherweise Satzzeichen und sog. <b>Stoppwörter</b>. Im folgenden Abschnitt schauen wir uns an, wie diese entfernt und damit aussagekräftigere Ergebnisse erzielt werden können. \n",
    "</div>"
   ]
  },
  {
   "cell_type": "markdown",
   "id": "ed1bf9ea",
   "metadata": {},
   "source": [
    "## Zusammenfassung\n",
    "\n",
    "1. Laden von NLTK-Paketen\n",
    "2. Tokenisierung \n",
    "\n",
    "3. Das Text-Objekt\n",
    "    + .vocab()\n",
    "    + .plot()\n",
    "    + .concordance()\n",
    "4. Einlesen von Texten \n",
    "5. Weitere Grundbegriffe\n",
    "    + Liste\n",
    "    + Element\n",
    "    + Stoppwort\n",
    "\n",
    "\n",
    "## **Optionale** Übung\n",
    "\n",
    "Bisher kennen wir drei Methoden von nltk.Text-Objekten (.vocab(), .plot(), .concordance()).\n",
    "\n",
    "Die Funktion `dir()` zeigt, welche anderen Methoden für nltk.Text-Objekte noch zur Verfügung stehen."
   ]
  },
  {
   "cell_type": "code",
   "execution_count": 17,
   "id": "7fdca727",
   "metadata": {},
   "outputs": [
    {
     "data": {
      "text/plain": [
       "['_CONTEXT_RE',\n",
       " '_COPY_TOKENS',\n",
       " '__class__',\n",
       " '__delattr__',\n",
       " '__dict__',\n",
       " '__dir__',\n",
       " '__doc__',\n",
       " '__eq__',\n",
       " '__format__',\n",
       " '__ge__',\n",
       " '__getattribute__',\n",
       " '__getitem__',\n",
       " '__gt__',\n",
       " '__hash__',\n",
       " '__init__',\n",
       " '__init_subclass__',\n",
       " '__le__',\n",
       " '__len__',\n",
       " '__lt__',\n",
       " '__module__',\n",
       " '__ne__',\n",
       " '__new__',\n",
       " '__reduce__',\n",
       " '__reduce_ex__',\n",
       " '__repr__',\n",
       " '__setattr__',\n",
       " '__sizeof__',\n",
       " '__str__',\n",
       " '__subclasshook__',\n",
       " '__weakref__',\n",
       " '_context',\n",
       " '_train_default_ngram_lm',\n",
       " 'collocation_list',\n",
       " 'collocations',\n",
       " 'common_contexts',\n",
       " 'concordance',\n",
       " 'concordance_list',\n",
       " 'count',\n",
       " 'dispersion_plot',\n",
       " 'findall',\n",
       " 'generate',\n",
       " 'index',\n",
       " 'plot',\n",
       " 'readability',\n",
       " 'similar',\n",
       " 'vocab']"
      ]
     },
     "execution_count": 17,
     "metadata": {},
     "output_type": "execute_result"
    }
   ],
   "source": [
    "dir(nltk.Text)"
   ]
  },
  {
   "cell_type": "markdown",
   "id": "4d7c2cc4",
   "metadata": {},
   "source": [
    "Ersetze `text_string` durch einen beliebigen String (optimalerweise mehrere Sätze) und probiere verschiedene Methoden des nltk.Text-Objekts aus. Verwende die Hilfefunktion, um mehr über die jeweilige Methode zu erfahren."
   ]
  },
  {
   "cell_type": "code",
   "execution_count": 18,
   "id": "f5e72d20",
   "metadata": {},
   "outputs": [],
   "source": [
    "text_string = \"insert string here\""
   ]
  },
  {
   "cell_type": "code",
   "execution_count": 19,
   "id": "8b9e0e8f",
   "metadata": {
    "tags": []
   },
   "outputs": [],
   "source": [
    "tokens = nltk.word_tokenize(text_string, language=\"german\")\n",
    "text = nltk.Text(tokens)"
   ]
  }
 ],
 "metadata": {
  "kernelspec": {
   "display_name": "Python 3 (ipykernel)",
   "language": "python",
   "name": "python3"
  },
  "language_info": {
   "codemirror_mode": {
    "name": "ipython",
    "version": 3
   },
   "file_extension": ".py",
   "mimetype": "text/x-python",
   "name": "python",
   "nbconvert_exporter": "python",
   "pygments_lexer": "ipython3",
   "version": "3.9.7"
  }
 },
 "nbformat": 4,
 "nbformat_minor": 5
}

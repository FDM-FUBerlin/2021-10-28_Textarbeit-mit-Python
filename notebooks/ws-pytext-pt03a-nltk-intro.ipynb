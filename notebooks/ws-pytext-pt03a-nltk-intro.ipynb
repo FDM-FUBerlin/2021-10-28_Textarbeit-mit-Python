{
 "cells": [
  {
   "cell_type": "markdown",
   "id": "351a6017",
   "metadata": {
    "slideshow": {
     "slide_type": "slide"
    }
   },
   "source": [
    "# 3a. Intro NLTK\n",
    "## Wozu Bibliotheken?\n",
    "\n",
    "Manche Built-in-Funktionen haben wir schon kennengelernt:\n",
    "+ print()\n",
    "+ type()\n",
    "+ help()\n",
    "\n",
    "Für die allermeisten Anwendungen werden weitere Funktionen aus sog. **Bibliotheken** benötigt:\n",
    "+ Datenaufbereitung und -Analyse z. B. pandas, numpy\n",
    "+ Machine Learning z. B. tensorflow, scikit-learn\n",
    "+ Visualisierungen z. B. matplotlib, plotly\n",
    "+ Natural Language Processing / Computerlinguistik z. B. **NLTK**, SpaCy"
   ]
  },
  {
   "cell_type": "markdown",
   "id": "468196c4",
   "metadata": {
    "slideshow": {
     "slide_type": "subslide"
    }
   },
   "source": [
    "Bibliotheken müssen **einmalig installiert** und **bei jeder Verwendung geladen** werden "
   ]
  },
  {
   "cell_type": "code",
   "execution_count": 1,
   "id": "b1a22980",
   "metadata": {},
   "outputs": [],
   "source": [
    "import nltk\n",
    "import numpy as np\n",
    "import pandas as pd\n",
    "from nltk import word_tokenize"
   ]
  },
  {
   "cell_type": "markdown",
   "id": "6bfb1238",
   "metadata": {
    "slideshow": {
     "slide_type": "slide"
    }
   },
   "source": [
    "## Was ist NLTK?\n",
    "+ NLTK = natural language toolkit\n",
    "+ open-source Bibliothek für Natural Language Processing / Computerlinguistik"
   ]
  },
  {
   "cell_type": "markdown",
   "id": "c810eb2c",
   "metadata": {
    "slideshow": {
     "slide_type": "fragment"
    }
   },
   "source": [
    "## Wofür eignet sich NLTK?\n",
    "\n",
    "+ Einsatz Lehre und Wissenschaft\n",
    "    + Viele Konfigurationsmöglichkeiten\n",
    "    + ausführliche Dokumentation (NLTK Book)\n",
    "    + Alternative SpaCy -> Einsatz eher in der Industrie\n",
    "\n",
    "\n",
    "## Was beinhaltet NLTK?\n",
    "+ verschiedene Pakete und Funktionen zur Textverarbeitung\n",
    "+ Testdatensätze"
   ]
  },
  {
   "cell_type": "markdown",
   "id": "1a532da3",
   "metadata": {
    "slideshow": {
     "slide_type": "slide"
    }
   },
   "source": [
    "## Was kann man mit NLTK machen?\n",
    "\n",
    "Beispiele:\n",
    "+ Tokenisieren (Segmentierung eines Textes in Wörter, Sätze, Abschnitte)\n",
    "+ Entfernen von Stoppwörtern (häufige Wörter, die wenig Bedeutung haben)\n",
    "+ Stemming / Lemmatisierung (Zurückführen auf den Wortstamm / die Grundform)\n",
    "+ Erstellen von Syntaxbäumen\n",
    "+ Named-entity recognition (Erkennen von Eigennamen)\n",
    "+ Part-of-speech-Tagging (Zuordnen von Wörtern zu Wortarten)\n",
    "+ N-Gramme (häufig vorkommende Wortfolgen mit n Wörtern) & Kollokationen\n",
    "\n",
    "\n"
   ]
  },
  {
   "cell_type": "markdown",
   "id": "b81d55ae",
   "metadata": {
    "slideshow": {
     "slide_type": "fragment"
    }
   },
   "source": [
    "## Wie kann das konkret aussehen?\n",
    "\n",
    "Schauen wir uns in der nächsten Übung an!"
   ]
  }
 ],
 "metadata": {
  "kernelspec": {
   "display_name": "Python 3.10.4 ('.venv': poetry)",
   "language": "python",
   "name": "python3"
  },
  "language_info": {
   "name": "python",
   "version": "3.10.4"
  },
  "vscode": {
   "interpreter": {
    "hash": "3f67acfabd741671aaeabd5848bbae00c7bf40aed4fc9023cfe741e3cab9fbba"
   }
  }
 },
 "nbformat": 4,
 "nbformat_minor": 5
}

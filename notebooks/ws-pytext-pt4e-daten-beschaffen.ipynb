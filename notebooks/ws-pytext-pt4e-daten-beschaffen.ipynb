{
 "cells": [
  {
   "cell_type": "markdown",
   "id": "ba3e578b-4bd5-44c2-aba4-10b3825ae27f",
   "metadata": {},
   "source": [
    "# 4e. Daten beschaffen\n",
    "\n",
    "In diesem Notebook setzen wir die Datenbeschaffung fort, indem wir ein Korpus für die Text-Analyse mit NLTK erzeugen.\n",
    "\n",
    "## Inhalte\n",
    "- Wir laden die zuvor erzeugte TSV-Datei\n",
    "- Wir erstellen ein Verzeichnis für das gewünschte Korpus\n",
    "- Wir erstellen pro Märchentitel eine Schreibweise ohne Leer- und Sonderzeichen (\"Slug\") für den Dateinamen\n",
    "- Wir erstellen pro Märchen eine Textdatei deren Inhalt der Volltext ist\n",
    "- Wir testen, ob der nltk.PlaintextCorpusReader diese Textdateien erkennt"
   ]
  },
  {
   "cell_type": "code",
   "execution_count": 1,
   "id": "7c612491",
   "metadata": {},
   "outputs": [],
   "source": [
    "import pathlib\n",
    "\n",
    "import pandas as pd\n",
    "from nltk.corpus import PlaintextCorpusReader\n",
    "from slugify import slugify\n",
    "\n",
    "DATA_DIR = pathlib.Path().cwd().parent.joinpath(\"data\")\n",
    "PROC_DATA_DIR = DATA_DIR.joinpath(\"processed\")\n",
    "CORPUS_BASE_DIR = DATA_DIR.joinpath(\"corpus\")"
   ]
  },
  {
   "cell_type": "code",
   "execution_count": 2,
   "id": "b102bac5",
   "metadata": {},
   "outputs": [],
   "source": [
    "wanted_creator = \"Brüder Grimm\"\n",
    "wanted_creator_slug = slugify(wanted_creator)\n",
    "wanted_year = 1857"
   ]
  },
  {
   "cell_type": "code",
   "execution_count": 3,
   "id": "a39ba000",
   "metadata": {},
   "outputs": [
    {
     "data": {
      "text/plain": [
       "PosixPath('/home/afuetterer/workspace/2021-10-28_Textarbeit-mit-Python/data/corpus/bruder-grimm_1857')"
      ]
     },
     "execution_count": 3,
     "metadata": {},
     "output_type": "execute_result"
    }
   ],
   "source": [
    "dir_name = f\"{wanted_creator_slug}_{wanted_year}\"\n",
    "CORPUS_DIR = CORPUS_BASE_DIR.joinpath(dir_name)\n",
    "CORPUS_DIR"
   ]
  },
  {
   "cell_type": "code",
   "execution_count": 4,
   "id": "3d28411c",
   "metadata": {},
   "outputs": [],
   "source": [
    "# create directory, if it does not exist already\n",
    "CORPUS_DIR.mkdir(exist_ok=True)"
   ]
  },
  {
   "cell_type": "code",
   "execution_count": 5,
   "id": "b9165484",
   "metadata": {},
   "outputs": [
    {
     "data": {
      "text/html": [
       "<div>\n",
       "<style scoped>\n",
       "    .dataframe tbody tr th:only-of-type {\n",
       "        vertical-align: middle;\n",
       "    }\n",
       "\n",
       "    .dataframe tbody tr th {\n",
       "        vertical-align: top;\n",
       "    }\n",
       "\n",
       "    .dataframe thead th {\n",
       "        text-align: right;\n",
       "    }\n",
       "</style>\n",
       "<table border=\"1\" class=\"dataframe\">\n",
       "  <thead>\n",
       "    <tr style=\"text-align: right;\">\n",
       "      <th></th>\n",
       "      <th>url</th>\n",
       "      <th>title</th>\n",
       "      <th>creator</th>\n",
       "      <th>date</th>\n",
       "      <th>place</th>\n",
       "      <th>edition</th>\n",
       "      <th>publisher</th>\n",
       "      <th>source</th>\n",
       "      <th>text</th>\n",
       "    </tr>\n",
       "  </thead>\n",
       "  <tbody>\n",
       "    <tr>\n",
       "      <th>0</th>\n",
       "      <td>https://de.wikisource.org/wiki/Allerleirauh_(1...</td>\n",
       "      <td>Allerleirauh</td>\n",
       "      <td>Brüder Grimm</td>\n",
       "      <td>1857</td>\n",
       "      <td>Göttingen</td>\n",
       "      <td>7. Auflage (Ausgabe letzter Hand)</td>\n",
       "      <td>Dieterich</td>\n",
       "      <td>Kinder- und Haus-Märchen Band 1, Große Ausgabe...</td>\n",
       "      <td>Es war einmal ein König, der hatte eine Frau m...</td>\n",
       "    </tr>\n",
       "    <tr>\n",
       "      <th>1</th>\n",
       "      <td>https://de.wikisource.org/wiki/Armuth_und_Demu...</td>\n",
       "      <td>Armuth und Demuth führen zum Himmel</td>\n",
       "      <td>Brüder Grimm</td>\n",
       "      <td>1857</td>\n",
       "      <td>Göttingen</td>\n",
       "      <td>7. Auflage (Ausgabe letzter Hand)</td>\n",
       "      <td>Dieterich</td>\n",
       "      <td>Kinder- und Haus-Märchen Band 2, Große Ausgabe...</td>\n",
       "      <td>Es war einmal ein Königssohn, der gieng hinaus...</td>\n",
       "    </tr>\n",
       "    <tr>\n",
       "      <th>2</th>\n",
       "      <td>https://de.wikisource.org/wiki/Aschenputtel_(1...</td>\n",
       "      <td>Aschenbuttel</td>\n",
       "      <td>Brüder Grimm</td>\n",
       "      <td>1857</td>\n",
       "      <td>Göttingen</td>\n",
       "      <td>7. Auflage (Ausgabe letzter Hand)</td>\n",
       "      <td>Dieterich</td>\n",
       "      <td>Kinder- und Haus-Märchen Band 1, Große Ausgabe...</td>\n",
       "      <td>Einem reichen Manne dem wurde seine Frau krank...</td>\n",
       "    </tr>\n",
       "    <tr>\n",
       "      <th>3</th>\n",
       "      <td>https://de.wikisource.org/wiki/Bruder_Lustig_(...</td>\n",
       "      <td>Bruder Lustig</td>\n",
       "      <td>Brüder Grimm</td>\n",
       "      <td>1857</td>\n",
       "      <td>Göttingen</td>\n",
       "      <td>7. Auflage (Ausgabe letzter Hand)</td>\n",
       "      <td>Dieterich</td>\n",
       "      <td>Kinder- und Haus-Märchen Band 1, Große Ausgabe...</td>\n",
       "      <td>Es war einmal ein großer Krieg, und als der Kr...</td>\n",
       "    </tr>\n",
       "    <tr>\n",
       "      <th>4</th>\n",
       "      <td>https://de.wikisource.org/wiki/Br%C3%BCderchen...</td>\n",
       "      <td>Brüderchen und Schwesterchen</td>\n",
       "      <td>Brüder Grimm</td>\n",
       "      <td>1857</td>\n",
       "      <td>Göttingen</td>\n",
       "      <td>7. Auflage (Ausgabe letzter Hand)</td>\n",
       "      <td>Dieterich</td>\n",
       "      <td>Kinder- und Haus-Märchen Band 1, Große Ausgabe...</td>\n",
       "      <td>Brüderchen nahm sein Schwesterchen an der Hand...</td>\n",
       "    </tr>\n",
       "  </tbody>\n",
       "</table>\n",
       "</div>"
      ],
      "text/plain": [
       "                                                 url  \\\n",
       "0  https://de.wikisource.org/wiki/Allerleirauh_(1...   \n",
       "1  https://de.wikisource.org/wiki/Armuth_und_Demu...   \n",
       "2  https://de.wikisource.org/wiki/Aschenputtel_(1...   \n",
       "3  https://de.wikisource.org/wiki/Bruder_Lustig_(...   \n",
       "4  https://de.wikisource.org/wiki/Br%C3%BCderchen...   \n",
       "\n",
       "                                 title       creator  date      place  \\\n",
       "0                         Allerleirauh  Brüder Grimm  1857  Göttingen   \n",
       "1  Armuth und Demuth führen zum Himmel  Brüder Grimm  1857  Göttingen   \n",
       "2                         Aschenbuttel  Brüder Grimm  1857  Göttingen   \n",
       "3                        Bruder Lustig  Brüder Grimm  1857  Göttingen   \n",
       "4         Brüderchen und Schwesterchen  Brüder Grimm  1857  Göttingen   \n",
       "\n",
       "                             edition  publisher  \\\n",
       "0  7. Auflage (Ausgabe letzter Hand)  Dieterich   \n",
       "1  7. Auflage (Ausgabe letzter Hand)  Dieterich   \n",
       "2  7. Auflage (Ausgabe letzter Hand)  Dieterich   \n",
       "3  7. Auflage (Ausgabe letzter Hand)  Dieterich   \n",
       "4  7. Auflage (Ausgabe letzter Hand)  Dieterich   \n",
       "\n",
       "                                              source  \\\n",
       "0  Kinder- und Haus-Märchen Band 1, Große Ausgabe...   \n",
       "1  Kinder- und Haus-Märchen Band 2, Große Ausgabe...   \n",
       "2  Kinder- und Haus-Märchen Band 1, Große Ausgabe...   \n",
       "3  Kinder- und Haus-Märchen Band 1, Große Ausgabe...   \n",
       "4  Kinder- und Haus-Märchen Band 1, Große Ausgabe...   \n",
       "\n",
       "                                                text  \n",
       "0  Es war einmal ein König, der hatte eine Frau m...  \n",
       "1  Es war einmal ein Königssohn, der gieng hinaus...  \n",
       "2  Einem reichen Manne dem wurde seine Frau krank...  \n",
       "3  Es war einmal ein großer Krieg, und als der Kr...  \n",
       "4  Brüderchen nahm sein Schwesterchen an der Hand...  "
      ]
     },
     "execution_count": 5,
     "metadata": {},
     "output_type": "execute_result"
    }
   ],
   "source": [
    "filename = PROC_DATA_DIR.joinpath(f\"fairytales_{slugify(wanted_creator)}_{wanted_year}.tsv\")\n",
    "fairytales = pd.read_csv(filename, sep=\"\\t\")\n",
    "fairytales.head()"
   ]
  },
  {
   "cell_type": "code",
   "execution_count": 6,
   "id": "d25f2126",
   "metadata": {},
   "outputs": [
    {
     "data": {
      "text/html": [
       "<div>\n",
       "<style scoped>\n",
       "    .dataframe tbody tr th:only-of-type {\n",
       "        vertical-align: middle;\n",
       "    }\n",
       "\n",
       "    .dataframe tbody tr th {\n",
       "        vertical-align: top;\n",
       "    }\n",
       "\n",
       "    .dataframe thead th {\n",
       "        text-align: right;\n",
       "    }\n",
       "</style>\n",
       "<table border=\"1\" class=\"dataframe\">\n",
       "  <thead>\n",
       "    <tr style=\"text-align: right;\">\n",
       "      <th></th>\n",
       "      <th>title</th>\n",
       "      <th>title_slug</th>\n",
       "    </tr>\n",
       "  </thead>\n",
       "  <tbody>\n",
       "    <tr>\n",
       "      <th>0</th>\n",
       "      <td>Allerleirauh</td>\n",
       "      <td>allerleirauh</td>\n",
       "    </tr>\n",
       "    <tr>\n",
       "      <th>1</th>\n",
       "      <td>Armuth und Demuth führen zum Himmel</td>\n",
       "      <td>armuth-und-demuth-fuhren-zum-himmel</td>\n",
       "    </tr>\n",
       "    <tr>\n",
       "      <th>2</th>\n",
       "      <td>Aschenbuttel</td>\n",
       "      <td>aschenbuttel</td>\n",
       "    </tr>\n",
       "    <tr>\n",
       "      <th>3</th>\n",
       "      <td>Bruder Lustig</td>\n",
       "      <td>bruder-lustig</td>\n",
       "    </tr>\n",
       "    <tr>\n",
       "      <th>4</th>\n",
       "      <td>Brüderchen und Schwesterchen</td>\n",
       "      <td>bruderchen-und-schwesterchen</td>\n",
       "    </tr>\n",
       "  </tbody>\n",
       "</table>\n",
       "</div>"
      ],
      "text/plain": [
       "                                 title                           title_slug\n",
       "0                         Allerleirauh                         allerleirauh\n",
       "1  Armuth und Demuth führen zum Himmel  armuth-und-demuth-fuhren-zum-himmel\n",
       "2                         Aschenbuttel                         aschenbuttel\n",
       "3                        Bruder Lustig                        bruder-lustig\n",
       "4         Brüderchen und Schwesterchen         bruderchen-und-schwesterchen"
      ]
     },
     "execution_count": 6,
     "metadata": {},
     "output_type": "execute_result"
    }
   ],
   "source": [
    "fairytales[\"title_slug\"] = fairytales[\"title\"].apply(slugify)\n",
    "fairytales[[\"title\", \"title_slug\"]].head()"
   ]
  },
  {
   "cell_type": "code",
   "execution_count": 7,
   "id": "9ddaba06",
   "metadata": {},
   "outputs": [],
   "source": [
    "# create a new plaintext file for each fairytale\n",
    "# the name of the text file corresponds to the 'slugified' fairytale's title\n",
    "# the contents of the text file is the fairytale's text\n",
    "\n",
    "for row_id, row in fairytales.iterrows():\n",
    "    title_slug = row[\"title_slug\"]\n",
    "    text = row[\"text\"]\n",
    "    filename = CORPUS_DIR.joinpath(title_slug).with_suffix(\".txt\")\n",
    "    with open(filename, \"w\") as f:\n",
    "        f.write(text)"
   ]
  },
  {
   "cell_type": "code",
   "execution_count": 8,
   "id": "9f7a03c0",
   "metadata": {},
   "outputs": [
    {
     "data": {
      "text/plain": [
       "['allerleirauh.txt',\n",
       " 'armuth-und-demuth-fuhren-zum-himmel.txt',\n",
       " 'aschenbuttel.txt',\n",
       " 'bruder-lustig.txt',\n",
       " 'bruderchen-und-schwesterchen.txt',\n",
       " 'das-alte-mutterchen.txt',\n",
       " 'das-blaue-licht.txt',\n",
       " 'das-burle-im-himmel.txt',\n",
       " 'das-burle.txt',\n",
       " 'das-dietmarsische-lugenmarchen.txt']"
      ]
     },
     "execution_count": 8,
     "metadata": {},
     "output_type": "execute_result"
    }
   ],
   "source": [
    "# regex pattern for fileids \\w and -\n",
    "reader = PlaintextCorpusReader(str(CORPUS_DIR), \"[\\w+-]*\\.txt\")\n",
    "reader.fileids()[:10]"
   ]
  },
  {
   "cell_type": "code",
   "execution_count": 9,
   "id": "529d1fec",
   "metadata": {},
   "outputs": [
    {
     "data": {
      "text/plain": [
       "['Es', 'war', 'einmal', 'ein', 'König', ',', 'der', ...]"
      ]
     },
     "execution_count": 9,
     "metadata": {},
     "output_type": "execute_result"
    }
   ],
   "source": [
    "reader.words()"
   ]
  },
  {
   "cell_type": "code",
   "execution_count": 10,
   "id": "6637c010-55ce-4ac9-bf94-b2840f20c633",
   "metadata": {},
   "outputs": [
    {
     "data": {
      "text/html": [
       "<details>\n",
       "<summary>Click to view session information</summary>\n",
       "<pre>\n",
       "-----\n",
       "nltk                3.6.5\n",
       "pandas              1.3.4\n",
       "session_info        1.0.0\n",
       "slugify             5.0.2\n",
       "-----\n",
       "</pre>\n",
       "<details>\n",
       "<summary>Click to view modules imported as dependencies</summary>\n",
       "<pre>\n",
       "anyio                       NA\n",
       "attr                        21.2.0\n",
       "babel                       2.9.1\n",
       "backcall                    0.2.0\n",
       "beta_ufunc                  NA\n",
       "binom_ufunc                 NA\n",
       "certifi                     2021.10.08\n",
       "charset_normalizer          2.0.7\n",
       "cython_runtime              NA\n",
       "dateutil                    2.8.2\n",
       "debugpy                     1.5.1\n",
       "decorator                   5.1.0\n",
       "entrypoints                 0.3\n",
       "idna                        3.3\n",
       "ipykernel                   6.4.2\n",
       "ipython_genutils            0.2.0\n",
       "jedi                        0.18.0\n",
       "jinja2                      3.0.2\n",
       "json5                       NA\n",
       "jsonschema                  4.1.2\n",
       "jupyter_server              1.11.1\n",
       "jupyterlab_server           2.8.2\n",
       "markupsafe                  2.0.1\n",
       "mpl_toolkits                NA\n",
       "nbclassic                   NA\n",
       "nbformat                    5.1.3\n",
       "nbinom_ufunc                NA\n",
       "numpy                       1.21.3\n",
       "packaging                   21.0\n",
       "parso                       0.8.2\n",
       "pexpect                     4.8.0\n",
       "pickleshare                 0.7.5\n",
       "pkg_resources               NA\n",
       "prometheus_client           NA\n",
       "prompt_toolkit              3.0.20\n",
       "ptyprocess                  0.7.0\n",
       "pvectorc                    NA\n",
       "pydev_ipython               NA\n",
       "pydevconsole                NA\n",
       "pydevd                      2.6.0\n",
       "pydevd_concurrency_analyser NA\n",
       "pydevd_file_utils           NA\n",
       "pydevd_plugins              NA\n",
       "pydevd_tracing              NA\n",
       "pyexpat                     NA\n",
       "pygments                    2.10.0\n",
       "pyrsistent                  NA\n",
       "pytz                        2021.3\n",
       "regex                       2.5.104\n",
       "requests                    2.26.0\n",
       "scipy                       1.7.1\n",
       "send2trash                  NA\n",
       "six                         1.16.0\n",
       "sniffio                     1.2.0\n",
       "storemagic                  NA\n",
       "terminado                   0.12.1\n",
       "text_unidecode              NA\n",
       "tornado                     6.1\n",
       "traitlets                   5.1.0\n",
       "urllib3                     1.26.7\n",
       "wcwidth                     0.2.5\n",
       "websocket                   1.2.1\n",
       "zmq                         22.3.0\n",
       "</pre>\n",
       "</details> <!-- seems like this ends pre, so might as well be explicit -->\n",
       "<pre>\n",
       "-----\n",
       "IPython             7.28.0\n",
       "jupyter_client      7.0.6\n",
       "jupyter_core        4.8.1\n",
       "jupyterlab          3.2.1\n",
       "notebook            6.4.5\n",
       "-----\n",
       "Python 3.9.7 (default, Aug 31 2021, 13:28:12) [GCC 11.1.0]\n",
       "Linux-5.13.19-2-MANJARO-x86_64-with-glibc2.33\n",
       "-----\n",
       "Session information updated at 2021-10-28 08:19\n",
       "</pre>\n",
       "</details>"
      ],
      "text/plain": [
       "<IPython.core.display.HTML object>"
      ]
     },
     "execution_count": 10,
     "metadata": {},
     "output_type": "execute_result"
    }
   ],
   "source": [
    "import session_info\n",
    "\n",
    "session_info.show()"
   ]
  }
 ],
 "metadata": {
  "kernelspec": {
   "display_name": "Python 3 (ipykernel)",
   "language": "python",
   "name": "python3"
  },
  "language_info": {
   "codemirror_mode": {
    "name": "ipython",
    "version": 3
   },
   "file_extension": ".py",
   "mimetype": "text/x-python",
   "name": "python",
   "nbconvert_exporter": "python",
   "pygments_lexer": "ipython3",
   "version": "3.9.7"
  }
 },
 "nbformat": 4,
 "nbformat_minor": 5
}

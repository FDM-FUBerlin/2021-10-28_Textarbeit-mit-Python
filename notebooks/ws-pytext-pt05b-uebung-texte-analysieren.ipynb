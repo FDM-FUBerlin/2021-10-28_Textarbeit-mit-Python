{
 "cells": [
  {
   "cell_type": "markdown",
   "id": "04bb8cbc",
   "metadata": {},
   "source": [
    "# 5b. Texte analysieren "
   ]
  },
  {
   "cell_type": "code",
   "execution_count": 1,
   "id": "32475934",
   "metadata": {},
   "outputs": [],
   "source": [
    "import pathlib\n",
    "\n",
    "import nltk\n",
    "import pandas as pd\n",
    "from reader import fairytale_corpus_reader\n",
    "\n",
    "DATA_DIR = pathlib.Path().cwd().parent.joinpath(\"data\")\n",
    "PROC_DATA_DIR = DATA_DIR.joinpath(\"processed\")"
   ]
  },
  {
   "cell_type": "code",
   "execution_count": 2,
   "id": "3c16d083",
   "metadata": {},
   "outputs": [],
   "source": [
    "# We create a nltk.Text object, that contains all fairytales\n",
    "tokens = [token.lower() for token in fairytale_corpus_reader.words()]\n",
    "grimm_text = nltk.Text(tokens)"
   ]
  },
  {
   "cell_type": "markdown",
   "id": "188b4ac1",
   "metadata": {},
   "source": [
    "## Übung 1\n",
    "\n",
    "a.) Füge der Liste `animals` weitere Tiere hinzu und vergleiche die Häufigkeiten.\n",
    "Welches Tier tritt häufiger auf als Hund, Katze und Esel?\n",
    "\n",
    "oder\n",
    "\n",
    "b.) Erstelle eine neue Liste und zähle andere Wörter (z.B. Berufe, Farben, Zahlen) im Märchenkorpus."
   ]
  },
  {
   "cell_type": "code",
   "execution_count": 3,
   "id": "264adff4",
   "metadata": {},
   "outputs": [],
   "source": [
    "animals = sorted([\"wolf\", \"pferd\", \"esel\", \"hund\", \"katze\"])"
   ]
  },
  {
   "cell_type": "code",
   "execution_count": 4,
   "id": "aca2d998",
   "metadata": {},
   "outputs": [
    {
     "data": {
      "text/html": [
       "<div>\n",
       "<style scoped>\n",
       "    .dataframe tbody tr th:only-of-type {\n",
       "        vertical-align: middle;\n",
       "    }\n",
       "\n",
       "    .dataframe tbody tr th {\n",
       "        vertical-align: top;\n",
       "    }\n",
       "\n",
       "    .dataframe thead th {\n",
       "        text-align: right;\n",
       "    }\n",
       "</style>\n",
       "<table border=\"1\" class=\"dataframe\">\n",
       "  <thead>\n",
       "    <tr style=\"text-align: right;\">\n",
       "      <th></th>\n",
       "      <th>title</th>\n",
       "      <th>esel</th>\n",
       "      <th>hund</th>\n",
       "      <th>katze</th>\n",
       "      <th>pferd</th>\n",
       "      <th>wolf</th>\n",
       "    </tr>\n",
       "  </thead>\n",
       "  <tbody>\n",
       "    <tr>\n",
       "      <th>0</th>\n",
       "      <td>grimm_Das_kluge_Grethel_395-397.txt</td>\n",
       "      <td>0</td>\n",
       "      <td>0</td>\n",
       "      <td>0</td>\n",
       "      <td>0</td>\n",
       "      <td>0</td>\n",
       "    </tr>\n",
       "    <tr>\n",
       "      <th>1</th>\n",
       "      <td>grimm_allerleirauh_353-359.txt</td>\n",
       "      <td>0</td>\n",
       "      <td>0</td>\n",
       "      <td>0</td>\n",
       "      <td>0</td>\n",
       "      <td>0</td>\n",
       "    </tr>\n",
       "    <tr>\n",
       "      <th>2</th>\n",
       "      <td>grimm_aschenputtel_119-126.txt</td>\n",
       "      <td>0</td>\n",
       "      <td>0</td>\n",
       "      <td>0</td>\n",
       "      <td>5</td>\n",
       "      <td>0</td>\n",
       "    </tr>\n",
       "    <tr>\n",
       "      <th>3</th>\n",
       "      <td>grimm_bruder_lustig_402-413.txt</td>\n",
       "      <td>0</td>\n",
       "      <td>0</td>\n",
       "      <td>0</td>\n",
       "      <td>0</td>\n",
       "      <td>0</td>\n",
       "    </tr>\n",
       "    <tr>\n",
       "      <th>4</th>\n",
       "      <td>grimm_bruederchen_und_schwesterchen__057-064.txt</td>\n",
       "      <td>0</td>\n",
       "      <td>0</td>\n",
       "      <td>0</td>\n",
       "      <td>1</td>\n",
       "      <td>3</td>\n",
       "    </tr>\n",
       "  </tbody>\n",
       "</table>\n",
       "</div>"
      ],
      "text/plain": [
       "                                              title  esel  hund  katze  pferd  \\\n",
       "0               grimm_Das_kluge_Grethel_395-397.txt     0     0      0      0   \n",
       "1                    grimm_allerleirauh_353-359.txt     0     0      0      0   \n",
       "2                    grimm_aschenputtel_119-126.txt     0     0      0      5   \n",
       "3                   grimm_bruder_lustig_402-413.txt     0     0      0      0   \n",
       "4  grimm_bruederchen_und_schwesterchen__057-064.txt     0     0      0      1   \n",
       "\n",
       "   wolf  \n",
       "0     0  \n",
       "1     0  \n",
       "2     0  \n",
       "3     0  \n",
       "4     3  "
      ]
     },
     "execution_count": 4,
     "metadata": {},
     "output_type": "execute_result"
    }
   ],
   "source": [
    "all_counts = []\n",
    "for fairytale in fairytale_corpus_reader.fileids():\n",
    "    tokens = [token.lower() for token in fairytale_corpus_reader.words(fairytale)]\n",
    "    text = nltk.Text(tokens)\n",
    "    vocab = text.vocab()\n",
    "    counts = [vocab[animal] for animal in animals]\n",
    "    all_counts.append(counts)\n",
    "\n",
    "fairytales_animals_counts = pd.DataFrame(all_counts, columns=animals)\n",
    "fairytales_animals_counts.insert(0, \"title\", fairytale_corpus_reader.fileids())\n",
    "fairytales_animals_counts.head()"
   ]
  },
  {
   "cell_type": "code",
   "execution_count": 5,
   "id": "4bd98403",
   "metadata": {},
   "outputs": [
    {
     "data": {
      "text/plain": [
       "pferd    138\n",
       "wolf     127\n",
       "katze     82\n",
       "hund      66\n",
       "esel      51\n",
       "dtype: int64"
      ]
     },
     "execution_count": 5,
     "metadata": {},
     "output_type": "execute_result"
    }
   ],
   "source": [
    "fairytales_animals_counts[animals].sum().sort_values(ascending=False)"
   ]
  },
  {
   "cell_type": "code",
   "execution_count": 6,
   "id": "758357a5",
   "metadata": {},
   "outputs": [
    {
     "data": {
      "text/html": [
       "<div>\n",
       "<style scoped>\n",
       "    .dataframe tbody tr th:only-of-type {\n",
       "        vertical-align: middle;\n",
       "    }\n",
       "\n",
       "    .dataframe tbody tr th {\n",
       "        vertical-align: top;\n",
       "    }\n",
       "\n",
       "    .dataframe thead th {\n",
       "        text-align: right;\n",
       "    }\n",
       "</style>\n",
       "<table border=\"1\" class=\"dataframe\">\n",
       "  <thead>\n",
       "    <tr style=\"text-align: right;\">\n",
       "      <th></th>\n",
       "      <th>esel</th>\n",
       "      <th>hund</th>\n",
       "      <th>katze</th>\n",
       "      <th>pferd</th>\n",
       "      <th>wolf</th>\n",
       "    </tr>\n",
       "  </thead>\n",
       "  <tbody>\n",
       "    <tr>\n",
       "      <th>count</th>\n",
       "      <td>209.000000</td>\n",
       "      <td>209.000000</td>\n",
       "      <td>209.000000</td>\n",
       "      <td>209.000000</td>\n",
       "      <td>209.000000</td>\n",
       "    </tr>\n",
       "    <tr>\n",
       "      <th>mean</th>\n",
       "      <td>0.244019</td>\n",
       "      <td>0.315789</td>\n",
       "      <td>0.392344</td>\n",
       "      <td>0.660287</td>\n",
       "      <td>0.607656</td>\n",
       "    </tr>\n",
       "    <tr>\n",
       "      <th>std</th>\n",
       "      <td>1.519987</td>\n",
       "      <td>1.405959</td>\n",
       "      <td>2.127914</td>\n",
       "      <td>1.981744</td>\n",
       "      <td>2.812940</td>\n",
       "    </tr>\n",
       "    <tr>\n",
       "      <th>min</th>\n",
       "      <td>0.000000</td>\n",
       "      <td>0.000000</td>\n",
       "      <td>0.000000</td>\n",
       "      <td>0.000000</td>\n",
       "      <td>0.000000</td>\n",
       "    </tr>\n",
       "    <tr>\n",
       "      <th>25%</th>\n",
       "      <td>0.000000</td>\n",
       "      <td>0.000000</td>\n",
       "      <td>0.000000</td>\n",
       "      <td>0.000000</td>\n",
       "      <td>0.000000</td>\n",
       "    </tr>\n",
       "    <tr>\n",
       "      <th>50%</th>\n",
       "      <td>0.000000</td>\n",
       "      <td>0.000000</td>\n",
       "      <td>0.000000</td>\n",
       "      <td>0.000000</td>\n",
       "      <td>0.000000</td>\n",
       "    </tr>\n",
       "    <tr>\n",
       "      <th>75%</th>\n",
       "      <td>0.000000</td>\n",
       "      <td>0.000000</td>\n",
       "      <td>0.000000</td>\n",
       "      <td>0.000000</td>\n",
       "      <td>0.000000</td>\n",
       "    </tr>\n",
       "    <tr>\n",
       "      <th>max</th>\n",
       "      <td>16.000000</td>\n",
       "      <td>13.000000</td>\n",
       "      <td>22.000000</td>\n",
       "      <td>16.000000</td>\n",
       "      <td>18.000000</td>\n",
       "    </tr>\n",
       "  </tbody>\n",
       "</table>\n",
       "</div>"
      ],
      "text/plain": [
       "             esel        hund       katze       pferd        wolf\n",
       "count  209.000000  209.000000  209.000000  209.000000  209.000000\n",
       "mean     0.244019    0.315789    0.392344    0.660287    0.607656\n",
       "std      1.519987    1.405959    2.127914    1.981744    2.812940\n",
       "min      0.000000    0.000000    0.000000    0.000000    0.000000\n",
       "25%      0.000000    0.000000    0.000000    0.000000    0.000000\n",
       "50%      0.000000    0.000000    0.000000    0.000000    0.000000\n",
       "75%      0.000000    0.000000    0.000000    0.000000    0.000000\n",
       "max     16.000000   13.000000   22.000000   16.000000   18.000000"
      ]
     },
     "execution_count": 6,
     "metadata": {},
     "output_type": "execute_result"
    }
   ],
   "source": [
    "fairytales_animals_counts.describe()"
   ]
  },
  {
   "cell_type": "code",
   "execution_count": 7,
   "id": "1770e643",
   "metadata": {},
   "outputs": [],
   "source": [
    "# store counts table on disk\n",
    "filename = PROC_DATA_DIR.joinpath(\"fairytales-animals-counts-v2.tsv\")\n",
    "fairytales_animals_counts.to_csv(filename, sep=\"\\t\", index=False)"
   ]
  },
  {
   "cell_type": "markdown",
   "id": "60acb310",
   "metadata": {},
   "source": [
    "## Übung 2\n",
    "\n",
    "a.) Teste die Konkordanz-Methode und probiere und ein paar beispielhafte Suchbegriffe aus.\n",
    "\n",
    "Es kann ein einzelner Suchbegriff als String oder eine Liste von Strings als Argument übergeben werden.\n",
    "\n",
    "b.) Was bewirken die optionalen Argument `width=79` und `lines=25`?"
   ]
  },
  {
   "cell_type": "code",
   "execution_count": 8,
   "id": "020728a5",
   "metadata": {},
   "outputs": [
    {
     "name": "stdout",
     "output_type": "stream",
     "text": [
      "Displaying 5 of 127 matches:\n",
      "rach „ wer aus mir trinkt , wird ein wolf : wer aus mir trinkt , wird ein wolf\n",
      "wolf : wer aus mir trinkt , wird ein wolf .“ da rief das schwesterchen „ brüde\n",
      "h , trink nicht , sonst wirst du ein wolf und frissest mich .“ das brüderchen \n",
      "n , und zwei tauben zerrupften einen wolf , zwei kinder die wurfen zwei zickle\n",
      "am ein neues unglück . ein hungriger wolf lief heran und verschlang den ganzen\n"
     ]
    }
   ],
   "source": [
    "# Explore the fairytales using the nltk.Text object's concordance method\n",
    "\n",
    "# change the query to a string of your choice\n",
    "query = \"wolf\"\n",
    "grimm_text.concordance(query, lines=5)"
   ]
  },
  {
   "cell_type": "code",
   "execution_count": 9,
   "id": "1e220450",
   "metadata": {},
   "outputs": [
    {
     "name": "stdout",
     "output_type": "stream",
     "text": [
      "Displaying 5 of 66 matches:\n",
      "eimbrächte . 65 . allerleirauh . es war einmal ein könig , der hatte eine frau \n",
      " gestraft . 81 . bruder lustig . es war einmal ein großer krieg , und als der k\n",
      "r ende . 116 . das blaue licht . es war einmal ein soldat , der hatte dem könig\n",
      " . 117 . das eigensinnige kind . es war einmal ein kind eigensinnig und that ni\n",
      "ann .“ 152 . das hirtenbüblein . es war einmal ein hirtenbübchen , das war wege\n"
     ]
    }
   ],
   "source": [
    "query = [\"es\", \"war\", \"einmal\"]\n",
    "grimm_text.concordance(query, lines=5)"
   ]
  },
  {
   "cell_type": "code",
   "execution_count": 10,
   "id": "68975057",
   "metadata": {},
   "outputs": [
    {
     "data": {
      "text/html": [
       "<details>\n",
       "<summary>Click to view session information</summary>\n",
       "<pre>\n",
       "-----\n",
       "nltk                3.7\n",
       "pandas              1.4.2\n",
       "session_info        1.0.0\n",
       "-----\n",
       "</pre>\n",
       "<details>\n",
       "<summary>Click to view modules imported as dependencies</summary>\n",
       "<pre>\n",
       "asttokens           NA\n",
       "backcall            0.2.0\n",
       "beta_ufunc          NA\n",
       "binom_ufunc         NA\n",
       "cython_runtime      NA\n",
       "dateutil            2.8.2\n",
       "debugpy             1.6.0\n",
       "decorator           5.1.1\n",
       "entrypoints         0.4\n",
       "executing           0.8.3\n",
       "hypergeom_ufunc     NA\n",
       "ipykernel           6.13.0\n",
       "ipython_genutils    0.2.0\n",
       "jedi                0.18.1\n",
       "jupyter_server      1.17.0\n",
       "mpl_toolkits        NA\n",
       "nbinom_ufunc        NA\n",
       "numpy               1.22.3\n",
       "packaging           20.9\n",
       "parso               0.8.3\n",
       "pexpect             4.8.0\n",
       "pickleshare         0.7.5\n",
       "pkg_resources       NA\n",
       "prompt_toolkit      3.0.29\n",
       "psutil              5.9.0\n",
       "ptyprocess          0.7.0\n",
       "pure_eval           0.2.2\n",
       "pydev_ipython       NA\n",
       "pydevconsole        NA\n",
       "pydevd              2.8.0\n",
       "pydevd_file_utils   NA\n",
       "pydevd_plugins      NA\n",
       "pydevd_tracing      NA\n",
       "pygments            2.12.0\n",
       "pytz                2022.1\n",
       "reader              NA\n",
       "regex               2.5.114\n",
       "scipy               1.8.1\n",
       "six                 1.16.0\n",
       "stack_data          0.2.0\n",
       "tornado             6.1\n",
       "traitlets           5.2.1.post0\n",
       "wcwidth             0.2.5\n",
       "zmq                 23.0.0\n",
       "</pre>\n",
       "</details> <!-- seems like this ends pre, so might as well be explicit -->\n",
       "<pre>\n",
       "-----\n",
       "IPython             8.3.0\n",
       "jupyter_client      7.3.1\n",
       "jupyter_core        4.10.0\n",
       "jupyterlab          3.4.2\n",
       "notebook            6.4.11\n",
       "-----\n",
       "Python 3.10.4 (main, Mar 23 2022, 23:05:40) [GCC 11.2.0]\n",
       "Linux-5.15.38-1-MANJARO-x86_64-with-glibc2.35\n",
       "-----\n",
       "Session information updated at 2022-05-20 15:26\n",
       "</pre>\n",
       "</details>"
      ],
      "text/plain": [
       "<IPython.core.display.HTML object>"
      ]
     },
     "execution_count": 10,
     "metadata": {},
     "output_type": "execute_result"
    }
   ],
   "source": [
    "import session_info\n",
    "\n",
    "session_info.show()"
   ]
  },
  {
   "cell_type": "code",
   "execution_count": null,
   "id": "0fe6f419",
   "metadata": {},
   "outputs": [],
   "source": []
  }
 ],
 "metadata": {
  "language_info": {
   "name": "python"
  }
 },
 "nbformat": 4,
 "nbformat_minor": 5
}

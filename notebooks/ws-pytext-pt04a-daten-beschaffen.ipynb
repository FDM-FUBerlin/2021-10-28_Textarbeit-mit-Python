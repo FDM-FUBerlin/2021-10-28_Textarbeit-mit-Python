{
 "cells": [
  {
   "cell_type": "markdown",
   "id": "9cbd3dff-8060-4197-8eb0-9e0dc7166eb9",
   "metadata": {},
   "source": [
    "# 4. Daten beschaffen\n",
    "\n",
    "## Inhalte \n",
    "1. Korpus herunterladen\n",
    "2. Korpus entpacken\n",
    "3. Korpus mit NLTK einlesen\n",
    "\n",
    "Die folgenden Textanalysen nutzen die Daten des Märchenkorpus (lizenziert unter CC BY 3.0): Walter, M. (2013). \"Märchenkorpus Version 1.0\" Humboldt-Universität zu Berlin. doi:[10.34644/laudatio-dev-UyRUCnMB7CArCQ9C63ji](https://doi.org/10.34644/laudatio-dev-UyRUCnMB7CArCQ9C63ji)."
   ]
  },
  {
   "cell_type": "code",
   "execution_count": 1,
   "id": "13081494-4925-4f94-a5aa-7bf542a4540c",
   "metadata": {},
   "outputs": [],
   "source": [
    "# import the libraries needed in this notebook\n",
    "# \"standard library\" imports\n",
    "import pathlib\n",
    "import shutil\n",
    "import zipfile\n",
    "\n",
    "# third party library imports\n",
    "import requests\n",
    "\n",
    "# prepare paths\n",
    "DATA_DIR = pathlib.Path().cwd().parent.joinpath(\"data\")\n",
    "RAW_DATA_DIR = DATA_DIR.joinpath(\"raw\")\n",
    "TXT_DATA_DIR = RAW_DATA_DIR.joinpath(\"txt\")\n",
    "CORPUS_BASE_DIR = DATA_DIR.joinpath(\"corpus\")\n",
    "CORPUS_DIR = CORPUS_BASE_DIR.joinpath(\"grimm\")"
   ]
  },
  {
   "cell_type": "markdown",
   "id": "91004753-0356-49c6-873f-86f31106776b",
   "metadata": {},
   "source": [
    "## 1. Korpus herunterladen\n",
    "\n",
    "Im [Laudatio-Repositorium](https://www.laudatio-repository.org) wird für den [Märchenkorpus](https://www.laudatio-repository.org/browse/corpus/UyRUCnMB7CArCQ9C63ji/corpora) folgender Downloadlink angezeigt \"Download (TXT)\": https://www.laudatio-repository.org/download/format/15/31/1.0\n",
    "\n",
    "Wir laden die Zip-Datei herunter und entpacken diese. Da sie eine weitere Zip-Datei enthält, wiederholen wir das Entpacken und erhalten ein Verzeichnis mit 211 Textdateien, eine Datei pro Märchen: z.B. `grimm_aschenputtel_119-126.txt`."
   ]
  },
  {
   "cell_type": "code",
   "execution_count": 2,
   "id": "332d4c55-164f-48c6-857a-587d51bca9d6",
   "metadata": {},
   "outputs": [],
   "source": [
    "TXT_URL = \"https://www.laudatio-repository.org/download/format/15/31/1.0\""
   ]
  },
  {
   "cell_type": "code",
   "execution_count": 3,
   "id": "7abcb43a-42c4-475d-bf39-1eaebceaa084",
   "metadata": {},
   "outputs": [
    {
     "data": {
      "text/plain": [
       "<Response [200]>"
      ]
     },
     "execution_count": 3,
     "metadata": {},
     "output_type": "execute_result"
    }
   ],
   "source": [
    "# download zip file\n",
    "response = requests.get(TXT_URL)\n",
    "response"
   ]
  },
  {
   "cell_type": "code",
   "execution_count": 4,
   "id": "813e4281",
   "metadata": {},
   "outputs": [
    {
     "data": {
      "text/plain": [
       "PosixPath('/home/afuetterer/workspace/Textarbeit-mit-Python/data/corpus/grimm')"
      ]
     },
     "execution_count": 4,
     "metadata": {},
     "output_type": "execute_result"
    }
   ],
   "source": [
    "filename = RAW_DATA_DIR.joinpath(\"txt.zip\")\n",
    "# write zip file to disk\n",
    "with open(filename, \"wb\") as f:\n",
    "    f.write(response.content)\n",
    "\n",
    "# unpack first layer\n",
    "with zipfile.ZipFile(filename, \"r\") as zip_ref:\n",
    "    zip_ref.extractall(RAW_DATA_DIR)\n",
    "\n",
    "# unpack second layer\n",
    "filename = RAW_DATA_DIR.joinpath(\"txt/txt_1-0.zip\")\n",
    "with zipfile.ZipFile(filename, \"r\") as zip_ref:\n",
    "    zip_ref.extractall(RAW_DATA_DIR)\n",
    "\n",
    "# delete second layer zipfile\n",
    "filename.unlink()\n",
    "\n",
    "# delete corpus directory\n",
    "shutil.rmtree(CORPUS_DIR, ignore_errors=True)\n",
    "\n",
    "# move unzipped directory to corpus directory path, i.e. rename it\n",
    "TXT_DATA_DIR.rename(CORPUS_DIR)"
   ]
  },
  {
   "cell_type": "code",
   "execution_count": 5,
   "id": "3aded259",
   "metadata": {},
   "outputs": [],
   "source": [
    "# Read all files using \"utf-8-sig\" and save them using \"utf-8\", removing BOM\n",
    "\n",
    "for textfile in CORPUS_DIR.glob(\"*.txt\"):\n",
    "    textfile.write_text(textfile.read_text(encoding=\"utf-8-sig\"), encoding=\"utf-8\")"
   ]
  },
  {
   "cell_type": "code",
   "execution_count": 6,
   "id": "5d0de690-0e96-4fb5-af9c-dc4cf1a17cc5",
   "metadata": {},
   "outputs": [
    {
     "data": {
      "text/plain": [
       "['grimm_Das_kluge_Grethel_395-397.txt',\n",
       " 'grimm_allerleirauh_353-359.txt',\n",
       " 'grimm_aschenputtel_119-126.txt',\n",
       " 'grimm_bruder_lustig_402-413.txt',\n",
       " 'grimm_bruederchen_und_schwesterchen__057-064.txt',\n",
       " 'grimm_das_blaue_licht_150-154.txt',\n",
       " 'grimm_das_buerle_335-340.txt',\n",
       " 'grimm_das_buerle_im_himmel_331-331.txt',\n",
       " 'grimm_das_dietmarsische_luegenmaerchen_294-294.txt',\n",
       " 'grimm_das_eigensinnige_kind_155-155.txt']"
      ]
     },
     "execution_count": 6,
     "metadata": {},
     "output_type": "execute_result"
    }
   ],
   "source": [
    "from nltk.corpus import PlaintextCorpusReader\n",
    "\n",
    "fairytale_corpus_reader = PlaintextCorpusReader(str(CORPUS_DIR), \"[\\w+-]*\\.txt\")\n",
    "fairytale_corpus_reader.fileids()[:10]"
   ]
  },
  {
   "cell_type": "code",
   "execution_count": 7,
   "id": "28bb71c6-b142-4c19-9c63-bf1316f8a214",
   "metadata": {},
   "outputs": [
    {
     "data": {
      "text/plain": [
       "['77', '.', 'Das', 'kluge', 'Grethel', '.', 'Es', 'war', 'eine', 'Köchin']"
      ]
     },
     "execution_count": 7,
     "metadata": {},
     "output_type": "execute_result"
    }
   ],
   "source": [
    "fairytale_corpus_reader.words()[:10]"
   ]
  },
  {
   "cell_type": "code",
   "execution_count": 8,
   "id": "39295112-b683-4f05-a4c2-2cc3850e4b4e",
   "metadata": {},
   "outputs": [
    {
     "data": {
      "text/html": [
       "<details>\n",
       "<summary>Click to view session information</summary>\n",
       "<pre>\n",
       "-----\n",
       "nltk                3.7\n",
       "requests            2.27.1\n",
       "session_info        1.0.0\n",
       "-----\n",
       "</pre>\n",
       "<details>\n",
       "<summary>Click to view modules imported as dependencies</summary>\n",
       "<pre>\n",
       "asttokens           NA\n",
       "backcall            0.2.0\n",
       "beta_ufunc          NA\n",
       "binom_ufunc         NA\n",
       "certifi             2022.05.18.1\n",
       "charset_normalizer  2.0.12\n",
       "cython_runtime      NA\n",
       "dateutil            2.8.2\n",
       "debugpy             1.6.0\n",
       "decorator           5.1.1\n",
       "entrypoints         0.4\n",
       "executing           0.8.3\n",
       "hypergeom_ufunc     NA\n",
       "idna                3.3\n",
       "ipykernel           6.13.0\n",
       "ipython_genutils    0.2.0\n",
       "jedi                0.18.1\n",
       "jupyter_server      1.17.0\n",
       "mpl_toolkits        NA\n",
       "nbinom_ufunc        NA\n",
       "numpy               1.22.3\n",
       "packaging           20.9\n",
       "parso               0.8.3\n",
       "pexpect             4.8.0\n",
       "pickleshare         0.7.5\n",
       "pkg_resources       NA\n",
       "prompt_toolkit      3.0.29\n",
       "psutil              5.9.0\n",
       "ptyprocess          0.7.0\n",
       "pure_eval           0.2.2\n",
       "pydev_ipython       NA\n",
       "pydevconsole        NA\n",
       "pydevd              2.8.0\n",
       "pydevd_file_utils   NA\n",
       "pydevd_plugins      NA\n",
       "pydevd_tracing      NA\n",
       "pygments            2.12.0\n",
       "regex               2.5.114\n",
       "scipy               1.8.1\n",
       "six                 1.16.0\n",
       "stack_data          0.2.0\n",
       "tornado             6.1\n",
       "traitlets           5.2.1.post0\n",
       "urllib3             1.26.9\n",
       "wcwidth             0.2.5\n",
       "zmq                 23.0.0\n",
       "</pre>\n",
       "</details> <!-- seems like this ends pre, so might as well be explicit -->\n",
       "<pre>\n",
       "-----\n",
       "IPython             8.3.0\n",
       "jupyter_client      7.3.1\n",
       "jupyter_core        4.10.0\n",
       "jupyterlab          3.4.2\n",
       "notebook            6.4.11\n",
       "-----\n",
       "Python 3.10.4 (main, Mar 23 2022, 23:05:40) [GCC 11.2.0]\n",
       "Linux-5.15.38-1-MANJARO-x86_64-with-glibc2.35\n",
       "-----\n",
       "Session information updated at 2022-05-20 15:25\n",
       "</pre>\n",
       "</details>"
      ],
      "text/plain": [
       "<IPython.core.display.HTML object>"
      ]
     },
     "execution_count": 8,
     "metadata": {},
     "output_type": "execute_result"
    }
   ],
   "source": [
    "import session_info\n",
    "\n",
    "session_info.show()"
   ]
  },
  {
   "cell_type": "code",
   "execution_count": null,
   "id": "8f4af302",
   "metadata": {},
   "outputs": [],
   "source": []
  }
 ],
 "metadata": {
  "language_info": {
   "name": "python"
  }
 },
 "nbformat": 4,
 "nbformat_minor": 5
}

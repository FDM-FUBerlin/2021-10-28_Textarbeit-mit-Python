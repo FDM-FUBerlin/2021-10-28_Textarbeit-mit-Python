{
 "cells": [
  {
   "cell_type": "markdown",
   "id": "9cbd3dff-8060-4197-8eb0-9e0dc7166eb9",
   "metadata": {},
   "source": [
    "# 4. Daten beschaffen\n",
    "\n",
    "## Inhalte \n",
    "1. Korpus herunterladen\n",
    "2. Korpus entpacken\n",
    "3. Korpus mit NLTK einlesen\n",
    "\n",
    "Die folgenden Textanalysen nutzen die Daten des Märchenkorpus (lizenziert unter CC BY 3.0): Walter, M. (2013). \"Märchenkorpus Version 1.0\" Humboldt-Universität zu Berlin. doi:[10.34644/laudatio-dev-UyRUCnMB7CArCQ9C63ji](https://doi.org/10.34644/laudatio-dev-UyRUCnMB7CArCQ9C63ji)."
   ]
  },
  {
   "cell_type": "code",
   "execution_count": 1,
   "id": "13081494-4925-4f94-a5aa-7bf542a4540c",
   "metadata": {},
   "outputs": [],
   "source": [
    "# import the libraries needed in this notebook\n",
    "# \"standard library\" imports\n",
    "import pathlib\n",
    "import shutil\n",
    "import zipfile\n",
    "\n",
    "# third party library imports\n",
    "import requests\n",
    "\n",
    "# prepare paths\n",
    "DATA_DIR = pathlib.Path().cwd().parent.joinpath(\"data\")\n",
    "RAW_DATA_DIR = DATA_DIR.joinpath(\"raw\")\n",
    "TXT_DATA_DIR = RAW_DATA_DIR.joinpath(\"txt\")\n",
    "CORPUS_BASE_DIR = DATA_DIR.joinpath(\"corpus\")\n",
    "CORPUS_DIR = CORPUS_BASE_DIR.joinpath(\"grimm\")"
   ]
  },
  {
   "cell_type": "markdown",
   "id": "91004753-0356-49c6-873f-86f31106776b",
   "metadata": {},
   "source": [
    "## 1. Korpus herunterladen\n",
    "\n",
    "Im [Laudatio-Repositorium](https://www.laudatio-repository.org) wird für den [Märchenkorpus](https://www.laudatio-repository.org/browse/corpus/UyRUCnMB7CArCQ9C63ji/corpora) folgender Downloadlink angezeigt \"Download (TXT)\": https://www.laudatio-repository.org/download/format/15/31/1.0\n",
    "\n",
    "Wir laden die Zip-Datei herunter und entpacken diese. Da sie eine weitere Zip-Datei enthält, wiederholen wir das Entpacken und erhalten ein Verzeichnis mit 211 Textdateien, eine Datei pro Märchen: z.B. `grimm_aschenputtel_119-126.txt`."
   ]
  },
  {
   "cell_type": "code",
   "execution_count": 2,
   "id": "332d4c55-164f-48c6-857a-587d51bca9d6",
   "metadata": {},
   "outputs": [],
   "source": [
    "TXT_URL = \"https://www.laudatio-repository.org/download/format/15/31/1.0\""
   ]
  },
  {
   "cell_type": "code",
   "execution_count": 3,
   "id": "7abcb43a-42c4-475d-bf39-1eaebceaa084",
   "metadata": {},
   "outputs": [
    {
     "data": {
      "text/plain": [
       "<Response [200]>"
      ]
     },
     "execution_count": 3,
     "metadata": {},
     "output_type": "execute_result"
    }
   ],
   "source": [
    "# download zip file\n",
    "response = requests.get(TXT_URL)\n",
    "response"
   ]
  },
  {
   "cell_type": "code",
   "execution_count": 4,
   "id": "813e4281",
   "metadata": {},
   "outputs": [
    {
     "data": {
      "text/plain": [
       "WindowsPath('C:/Users/Fuetterer/workspace/Textarbeit-mit-Python/data/corpus/grimm')"
      ]
     },
     "execution_count": 4,
     "metadata": {},
     "output_type": "execute_result"
    }
   ],
   "source": [
    "filename = RAW_DATA_DIR.joinpath(\"txt.zip\")\n",
    "# write zip file to disk\n",
    "with open(filename, \"wb\") as f:\n",
    "    f.write(response.content)\n",
    "\n",
    "# unpack first layer\n",
    "with zipfile.ZipFile(filename, \"r\") as zip_ref:\n",
    "    zip_ref.extractall(RAW_DATA_DIR)\n",
    "\n",
    "# unpack second layer\n",
    "filename = RAW_DATA_DIR.joinpath(\"txt/txt_1-0.zip\")\n",
    "with zipfile.ZipFile(filename, \"r\") as zip_ref:\n",
    "    zip_ref.extractall(RAW_DATA_DIR)\n",
    "\n",
    "# delete second layer zipfile\n",
    "filename.unlink()\n",
    "\n",
    "# delete corpus directory\n",
    "shutil.rmtree(CORPUS_DIR, ignore_errors=True)\n",
    "\n",
    "# move unzipped directory to corpus directory path, i.e. rename it\n",
    "shutil.move(TXT_DATA_DIR, CORPUS_DIR)"
   ]
  },
  {
   "cell_type": "code",
   "execution_count": 5,
   "id": "3aded259",
   "metadata": {},
   "outputs": [],
   "source": [
    "# Read all files using \"utf-8-sig\" and save them using \"utf-8\", removing BOM\n",
    "\n",
    "for textfile in CORPUS_DIR.glob(\"*.txt\"):\n",
    "    textfile.write_text(textfile.read_text(encoding=\"utf-8-sig\"), encoding=\"utf-8\")"
   ]
  },
  {
   "cell_type": "code",
   "execution_count": 6,
   "id": "5d0de690-0e96-4fb5-af9c-dc4cf1a17cc5",
   "metadata": {},
   "outputs": [
    {
     "data": {
      "text/plain": [
       "['grimm_Das_kluge_Grethel_395-397.txt',\n",
       " 'grimm_allerleirauh_353-359.txt',\n",
       " 'grimm_aschenputtel_119-126.txt',\n",
       " 'grimm_bruder_lustig_402-413.txt',\n",
       " 'grimm_bruederchen_und_schwesterchen__057-064.txt',\n",
       " 'grimm_das_blaue_licht_150-154.txt',\n",
       " 'grimm_das_buerle_335-340.txt',\n",
       " 'grimm_das_buerle_im_himmel_331-331.txt',\n",
       " 'grimm_das_dietmarsische_luegenmaerchen_294-294.txt',\n",
       " 'grimm_das_eigensinnige_kind_155-155.txt']"
      ]
     },
     "execution_count": 6,
     "metadata": {},
     "output_type": "execute_result"
    }
   ],
   "source": [
    "from nltk.corpus import PlaintextCorpusReader\n",
    "\n",
    "fairytale_corpus_reader = PlaintextCorpusReader(str(CORPUS_DIR), \"[\\w+-]*\\.txt\")\n",
    "fairytale_corpus_reader.fileids()[:10]"
   ]
  },
  {
   "cell_type": "code",
   "execution_count": 7,
   "id": "28bb71c6-b142-4c19-9c63-bf1316f8a214",
   "metadata": {},
   "outputs": [
    {
     "data": {
      "text/plain": [
       "['77', '.', 'Das', 'kluge', 'Grethel', '.', 'Es', 'war', 'eine', 'Köchin']"
      ]
     },
     "execution_count": 7,
     "metadata": {},
     "output_type": "execute_result"
    }
   ],
   "source": [
    "fairytale_corpus_reader.words()[:10]"
   ]
  },
  {
   "cell_type": "code",
   "execution_count": 8,
   "id": "39295112-b683-4f05-a4c2-2cc3850e4b4e",
   "metadata": {},
   "outputs": [
    {
     "data": {
      "text/html": [
       "<details>\n",
       "<summary>Click to view session information</summary>\n",
       "<pre>\n",
       "-----\n",
       "nltk                3.7\n",
       "requests            2.27.1\n",
       "session_info        1.0.0\n",
       "-----\n",
       "</pre>\n",
       "<details>\n",
       "<summary>Click to view modules imported as dependencies</summary>\n",
       "<pre>\n",
       "asttokens           NA\n",
       "backcall            0.2.0\n",
       "certifi             2022.05.18.1\n",
       "charset_normalizer  2.0.12\n",
       "colorama            0.4.4\n",
       "cython_runtime      NA\n",
       "dateutil            2.8.2\n",
       "debugpy             1.6.0\n",
       "decorator           5.1.1\n",
       "entrypoints         0.4\n",
       "executing           0.8.3\n",
       "idna                3.3\n",
       "ipykernel           6.13.1\n",
       "ipython_genutils    0.2.0\n",
       "jedi                0.18.1\n",
       "jupyter_server      1.17.1\n",
       "mpl_toolkits        NA\n",
       "nt                  NA\n",
       "ntsecuritycon       NA\n",
       "numpy               1.22.4\n",
       "packaging           21.3\n",
       "parso               0.8.3\n",
       "pickleshare         0.7.5\n",
       "pkg_resources       NA\n",
       "prompt_toolkit      3.0.29\n",
       "psutil              5.9.1\n",
       "pure_eval           0.2.2\n",
       "pydev_ipython       NA\n",
       "pydevconsole        NA\n",
       "pydevd              2.8.0\n",
       "pydevd_file_utils   NA\n",
       "pydevd_plugins      NA\n",
       "pydevd_tracing      NA\n",
       "pygments            2.12.0\n",
       "pythoncom           NA\n",
       "pywin32_bootstrap   NA\n",
       "pywin32_system32    NA\n",
       "pywintypes          NA\n",
       "regex               2.5.115\n",
       "sitecustomize       NA\n",
       "six                 1.16.0\n",
       "stack_data          0.2.0\n",
       "tornado             6.1\n",
       "traitlets           5.2.2\n",
       "urllib3             1.26.9\n",
       "wcwidth             0.2.5\n",
       "win32api            NA\n",
       "win32com            NA\n",
       "win32security       NA\n",
       "zmq                 23.1.0\n",
       "</pre>\n",
       "</details> <!-- seems like this ends pre, so might as well be explicit -->\n",
       "<pre>\n",
       "-----\n",
       "IPython             8.4.0\n",
       "jupyter_client      7.3.3\n",
       "jupyter_core        4.10.0\n",
       "jupyterlab          3.4.3\n",
       "notebook            6.4.12\n",
       "-----\n",
       "Python 3.10.4 (tags/v3.10.4:9d38120, Mar 23 2022, 23:13:41) [MSC v.1929 64 bit (AMD64)]\n",
       "Windows-10-10.0.17763-SP0\n",
       "-----\n",
       "Session information updated at 2022-06-13 11:42\n",
       "</pre>\n",
       "</details>"
      ],
      "text/plain": [
       "<IPython.core.display.HTML object>"
      ]
     },
     "execution_count": 8,
     "metadata": {},
     "output_type": "execute_result"
    }
   ],
   "source": [
    "import session_info\n",
    "\n",
    "session_info.show()"
   ]
  }
 ],
 "metadata": {
  "kernelspec": {
   "display_name": "Python 3 (ipykernel)",
   "language": "python",
   "name": "python3"
  },
  "language_info": {
   "codemirror_mode": {
    "name": "ipython",
    "version": 3
   },
   "file_extension": ".py",
   "mimetype": "text/x-python",
   "name": "python",
   "nbconvert_exporter": "python",
   "pygments_lexer": "ipython3",
   "version": "3.10.4"
  }
 },
 "nbformat": 4,
 "nbformat_minor": 5
}

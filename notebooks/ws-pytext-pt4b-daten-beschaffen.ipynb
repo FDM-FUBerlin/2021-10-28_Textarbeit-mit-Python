{
 "cells": [
  {
   "cell_type": "markdown",
   "id": "2a68baaa-a52f-48e9-8dc8-b0ca21379279",
   "metadata": {},
   "source": [
    "# 4b. Daten beschaffen\n",
    "\n",
    "In diesem Notebook setzen wir die Datenbeschaffung fort, indem wir die Volltexte aller Märchen herunterladen.\n",
    "\n",
    "## Inhalte\n",
    "- Wir laden die zuvor erzeugte TSV-Datei\n",
    "- Wir bereiten eine leere Spalte \"html\" vor\n",
    "- Wir laden das HTML für jede URL herunter\n",
    "- Wir fügen das HTML in die Tabelle ein\n",
    "- Wir speichern die Tabelle als weitere TSV-Datei für den nächsten Schritt\n"
   ]
  },
  {
   "cell_type": "code",
   "execution_count": 1,
   "id": "cb94facd-1c0f-4f06-a960-5d7d64d989a0",
   "metadata": {},
   "outputs": [],
   "source": [
    "import pathlib\n",
    "import time\n",
    "\n",
    "import pandas as pd\n",
    "import requests\n",
    "from bs4 import BeautifulSoup\n",
    "\n",
    "DATA_DIR = pathlib.Path().cwd().parent.joinpath(\"data\")\n",
    "RAW_DATA_DIR = DATA_DIR.joinpath(\"raw\")"
   ]
  },
  {
   "cell_type": "markdown",
   "id": "d0933b53-d6a2-415b-8346-0ad4578287e9",
   "metadata": {},
   "source": [
    "## Load data from disk"
   ]
  },
  {
   "cell_type": "code",
   "execution_count": 2,
   "id": "46b587ac-9564-415a-9516-24b363b1a052",
   "metadata": {},
   "outputs": [
    {
     "data": {
      "text/html": [
       "<div>\n",
       "<style scoped>\n",
       "    .dataframe tbody tr th:only-of-type {\n",
       "        vertical-align: middle;\n",
       "    }\n",
       "\n",
       "    .dataframe tbody tr th {\n",
       "        vertical-align: top;\n",
       "    }\n",
       "\n",
       "    .dataframe thead th {\n",
       "        text-align: right;\n",
       "    }\n",
       "</style>\n",
       "<table border=\"1\" class=\"dataframe\">\n",
       "  <thead>\n",
       "    <tr style=\"text-align: right;\">\n",
       "      <th></th>\n",
       "      <th>url</th>\n",
       "      <th>html</th>\n",
       "    </tr>\n",
       "  </thead>\n",
       "  <tbody>\n",
       "    <tr>\n",
       "      <th>0</th>\n",
       "      <td>https://de.wikisource.org/wiki/%C3%84skenbride...</td>\n",
       "      <td>None</td>\n",
       "    </tr>\n",
       "    <tr>\n",
       "      <th>1</th>\n",
       "      <td>https://de.wikisource.org/wiki/Ahmed_und_Paribanu</td>\n",
       "      <td>None</td>\n",
       "    </tr>\n",
       "    <tr>\n",
       "      <th>2</th>\n",
       "      <td>https://de.wikisource.org/wiki/Albanesische_M%...</td>\n",
       "      <td>None</td>\n",
       "    </tr>\n",
       "    <tr>\n",
       "      <th>3</th>\n",
       "      <td>https://de.wikisource.org/wiki/Allerlei-Rauh_(...</td>\n",
       "      <td>None</td>\n",
       "    </tr>\n",
       "    <tr>\n",
       "      <th>4</th>\n",
       "      <td>https://de.wikisource.org/wiki/Allerlei-Rauh_(...</td>\n",
       "      <td>None</td>\n",
       "    </tr>\n",
       "  </tbody>\n",
       "</table>\n",
       "</div>"
      ],
      "text/plain": [
       "                                                 url  html\n",
       "0  https://de.wikisource.org/wiki/%C3%84skenbride...  None\n",
       "1  https://de.wikisource.org/wiki/Ahmed_und_Paribanu  None\n",
       "2  https://de.wikisource.org/wiki/Albanesische_M%...  None\n",
       "3  https://de.wikisource.org/wiki/Allerlei-Rauh_(...  None\n",
       "4  https://de.wikisource.org/wiki/Allerlei-Rauh_(...  None"
      ]
     },
     "execution_count": 2,
     "metadata": {},
     "output_type": "execute_result"
    }
   ],
   "source": [
    "# read data from TSV file on disk into a pandas.DataFrame\n",
    "filename = RAW_DATA_DIR.joinpath(\"wikisource_fairytale_urls.tsv\")\n",
    "fairytales = pd.read_csv(filename, sep=\"\\t\")\n",
    "\n",
    "# initialize empty column\n",
    "fairytales[\"html\"] = None\n",
    "fairytales.head()"
   ]
  },
  {
   "cell_type": "code",
   "execution_count": null,
   "id": "586fea19-6720-4781-aeac-6bd473e4d0e2",
   "metadata": {
    "tags": []
   },
   "outputs": [],
   "source": [
    "for row_id, row in fairytales.iterrows():\n",
    "    print(row_id, row[\"url\"])\n",
    "    # retrieve HTML from url\n",
    "    response = requests.get(row[\"url\"])\n",
    "    soup = BeautifulSoup(response.text, \"html.parser\")\n",
    "    content = soup.find(\"div\", class_=\"mw-parser-output\")\n",
    "    fairytales.at[row_id, \"html\"] = str(content)\n",
    "    # wait for 1 second\n",
    "    time.sleep(1)"
   ]
  },
  {
   "cell_type": "code",
   "execution_count": 4,
   "id": "cd39f72c-885d-4ccf-9a31-864a7f3bfa49",
   "metadata": {},
   "outputs": [
    {
     "data": {
      "text/html": [
       "<div>\n",
       "<style scoped>\n",
       "    .dataframe tbody tr th:only-of-type {\n",
       "        vertical-align: middle;\n",
       "    }\n",
       "\n",
       "    .dataframe tbody tr th {\n",
       "        vertical-align: top;\n",
       "    }\n",
       "\n",
       "    .dataframe thead th {\n",
       "        text-align: right;\n",
       "    }\n",
       "</style>\n",
       "<table border=\"1\" class=\"dataframe\">\n",
       "  <thead>\n",
       "    <tr style=\"text-align: right;\">\n",
       "      <th></th>\n",
       "      <th>url</th>\n",
       "      <th>html</th>\n",
       "    </tr>\n",
       "  </thead>\n",
       "  <tbody>\n",
       "    <tr>\n",
       "      <th>0</th>\n",
       "      <td>https://de.wikisource.org/wiki/%C3%84skenbride...</td>\n",
       "      <td>&lt;div class=\"mw-parser-output\"&gt;&lt;div class=\"nopr...</td>\n",
       "    </tr>\n",
       "    <tr>\n",
       "      <th>1</th>\n",
       "      <td>https://de.wikisource.org/wiki/Ahmed_und_Paribanu</td>\n",
       "      <td>&lt;div class=\"mw-parser-output\"&gt;&lt;div class=\"nopr...</td>\n",
       "    </tr>\n",
       "    <tr>\n",
       "      <th>2</th>\n",
       "      <td>https://de.wikisource.org/wiki/Albanesische_M%...</td>\n",
       "      <td>&lt;div class=\"mw-parser-output\"&gt;&lt;div class=\"nopr...</td>\n",
       "    </tr>\n",
       "    <tr>\n",
       "      <th>3</th>\n",
       "      <td>https://de.wikisource.org/wiki/Allerlei-Rauh_(...</td>\n",
       "      <td>&lt;div class=\"mw-parser-output\"&gt;&lt;div class=\"nopr...</td>\n",
       "    </tr>\n",
       "    <tr>\n",
       "      <th>4</th>\n",
       "      <td>https://de.wikisource.org/wiki/Allerlei-Rauh_(...</td>\n",
       "      <td>&lt;div class=\"mw-parser-output\"&gt;&lt;div class=\"nopr...</td>\n",
       "    </tr>\n",
       "  </tbody>\n",
       "</table>\n",
       "</div>"
      ],
      "text/plain": [
       "                                                 url  \\\n",
       "0  https://de.wikisource.org/wiki/%C3%84skenbride...   \n",
       "1  https://de.wikisource.org/wiki/Ahmed_und_Paribanu   \n",
       "2  https://de.wikisource.org/wiki/Albanesische_M%...   \n",
       "3  https://de.wikisource.org/wiki/Allerlei-Rauh_(...   \n",
       "4  https://de.wikisource.org/wiki/Allerlei-Rauh_(...   \n",
       "\n",
       "                                                html  \n",
       "0  <div class=\"mw-parser-output\"><div class=\"nopr...  \n",
       "1  <div class=\"mw-parser-output\"><div class=\"nopr...  \n",
       "2  <div class=\"mw-parser-output\"><div class=\"nopr...  \n",
       "3  <div class=\"mw-parser-output\"><div class=\"nopr...  \n",
       "4  <div class=\"mw-parser-output\"><div class=\"nopr...  "
      ]
     },
     "execution_count": 4,
     "metadata": {},
     "output_type": "execute_result"
    }
   ],
   "source": [
    "fairytales.head()"
   ]
  },
  {
   "cell_type": "code",
   "execution_count": 5,
   "id": "8aa1da35-9632-4aed-8b93-fb3ecca99d5b",
   "metadata": {},
   "outputs": [],
   "source": [
    "# store the urls and HTML in a TSV file inside the data/ directory\n",
    "filename = RAW_DATA_DIR.joinpath(\"wikisource_fairytale_html.tsv\")\n",
    "fairytales.to_csv(filename, sep=\"\\t\", index=False)"
   ]
  },
  {
   "cell_type": "code",
   "execution_count": 6,
   "id": "c59a4818-ac9a-4770-9527-7c558efbdba5",
   "metadata": {},
   "outputs": [
    {
     "data": {
      "text/html": [
       "<details>\n",
       "<summary>Click to view session information</summary>\n",
       "<pre>\n",
       "-----\n",
       "bs4                 4.10.0\n",
       "pandas              1.3.4\n",
       "requests            2.26.0\n",
       "session_info        1.0.0\n",
       "-----\n",
       "</pre>\n",
       "<details>\n",
       "<summary>Click to view modules imported as dependencies</summary>\n",
       "<pre>\n",
       "anyio                       NA\n",
       "attr                        21.2.0\n",
       "babel                       2.9.1\n",
       "backcall                    0.2.0\n",
       "certifi                     2021.10.08\n",
       "charset_normalizer          2.0.7\n",
       "cython_runtime              NA\n",
       "dateutil                    2.8.2\n",
       "debugpy                     1.5.1\n",
       "decorator                   5.1.0\n",
       "entrypoints                 0.3\n",
       "idna                        3.3\n",
       "ipykernel                   6.4.2\n",
       "ipython_genutils            0.2.0\n",
       "jedi                        0.18.0\n",
       "jinja2                      3.0.2\n",
       "json5                       NA\n",
       "jsonschema                  4.1.2\n",
       "jupyter_server              1.11.1\n",
       "jupyterlab_server           2.8.2\n",
       "markupsafe                  2.0.1\n",
       "mpl_toolkits                NA\n",
       "nbclassic                   NA\n",
       "nbformat                    5.1.3\n",
       "numpy                       1.21.3\n",
       "packaging                   21.0\n",
       "parso                       0.8.2\n",
       "pexpect                     4.8.0\n",
       "pickleshare                 0.7.5\n",
       "pkg_resources               NA\n",
       "prometheus_client           NA\n",
       "prompt_toolkit              3.0.20\n",
       "ptyprocess                  0.7.0\n",
       "pvectorc                    NA\n",
       "pydev_ipython               NA\n",
       "pydevconsole                NA\n",
       "pydevd                      2.6.0\n",
       "pydevd_concurrency_analyser NA\n",
       "pydevd_file_utils           NA\n",
       "pydevd_plugins              NA\n",
       "pydevd_tracing              NA\n",
       "pyexpat                     NA\n",
       "pygments                    2.10.0\n",
       "pyrsistent                  NA\n",
       "pytz                        2021.3\n",
       "send2trash                  NA\n",
       "six                         1.16.0\n",
       "sniffio                     1.2.0\n",
       "soupsieve                   2.2.1\n",
       "storemagic                  NA\n",
       "terminado                   0.12.1\n",
       "tornado                     6.1\n",
       "traitlets                   5.1.0\n",
       "urllib3                     1.26.7\n",
       "wcwidth                     0.2.5\n",
       "websocket                   1.2.1\n",
       "zmq                         22.3.0\n",
       "</pre>\n",
       "</details> <!-- seems like this ends pre, so might as well be explicit -->\n",
       "<pre>\n",
       "-----\n",
       "IPython             7.28.0\n",
       "jupyter_client      7.0.6\n",
       "jupyter_core        4.8.1\n",
       "jupyterlab          3.2.1\n",
       "notebook            6.4.5\n",
       "-----\n",
       "Python 3.9.7 (default, Aug 31 2021, 13:28:12) [GCC 11.1.0]\n",
       "Linux-5.13.19-2-MANJARO-x86_64-with-glibc2.33\n",
       "-----\n",
       "Session information updated at 2021-10-22 09:05\n",
       "</pre>\n",
       "</details>"
      ],
      "text/plain": [
       "<IPython.core.display.HTML object>"
      ]
     },
     "execution_count": 6,
     "metadata": {},
     "output_type": "execute_result"
    }
   ],
   "source": [
    "import session_info\n",
    "\n",
    "session_info.show()"
   ]
  }
 ],
 "metadata": {
  "interpreter": {
   "hash": "a3a9c34f557550235291faddfacdf8b27ec6d3cae20c1a388e5f1e2e62951d86"
  },
  "kernelspec": {
   "display_name": "Python 3 (ipykernel)",
   "language": "python",
   "name": "python3"
  },
  "language_info": {
   "codemirror_mode": {
    "name": "ipython",
    "version": 3
   },
   "file_extension": ".py",
   "mimetype": "text/x-python",
   "name": "python",
   "nbconvert_exporter": "python",
   "pygments_lexer": "ipython3",
   "version": "3.9.7"
  }
 },
 "nbformat": 4,
 "nbformat_minor": 5
}

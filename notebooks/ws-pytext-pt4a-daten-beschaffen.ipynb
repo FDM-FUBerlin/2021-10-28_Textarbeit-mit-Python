{
 "cells": [
  {
   "cell_type": "markdown",
   "id": "d034cd39-62c1-4a9a-b8e3-b68d09f5bb9a",
   "metadata": {
    "tags": []
   },
   "source": [
    "# 4a. Daten beschaffen\n",
    "\n",
    "In diesem Notebook beginnen wir die Datenbeschaffung mit dem Einsammeln aller Märchen-URLs aus der deutschsprachigen Wikisource.\n",
    "\n",
    "## Inhalte\n",
    "- Wir beginnen auf der Seite [Kategorie Märchen](https://de.wikisource.org/wiki/Kategorie:M%C3%A4rchen). Eine kleine Webcrawler-Funktion erhielt diese URL als Ausgangspunkt.\n",
    "- Die Funktion `get_fairytale_urls()` erhält die Ausgangs-URL als Eingabe und lädt deren Inhalte mit der Bibliothek [requests](https://docs.python-requests.org/en/master/index.html) herunter.\n",
    "- Der HTML-Inhalt der Seite wird mit der [beautifulsoup4](https://www.crummy.com/software/BeautifulSoup/bs4/doc/)-Bibliothek in ein `BeautifulSoup`-Objekt transformiert.\n",
    "- Wir sammeln URLs zu Märchen-Volltexten ein, indem wir das HTML durchgehen.\n",
    "- Wenn ein \"Nächste Seite\"-Link vorhanden ist, folgen wir diesem.\n",
    "- Wir wiederholen diese Schritte, bis kein weiterer \"Nächste Seite\"-Link vorhanden ist.\n",
    "- Wir speichern die URLs als TSV-Datei mit der [pandas](https://pandas.pydata.org/pandas-docs/stable/) library) für die Weiterverarbeitung.\n",
    "\n",
    "### Quellen: Deutsche Märchen in Wikipedia/Wikisource\n",
    "\n",
    "- Märchen:\n",
    "    - https://de.wikipedia.org/wiki/M%C3%A4rchen\n",
    "    - https://de.wikipedia.org/wiki/Liste_von_M%C3%A4rchen\n",
    "    - https://commons.wikimedia.org/wiki/Category:Fairy_tales?uselang=de\n",
    "    - https://de.wikisource.org/wiki/M%C3%A4rchen\n",
    "- Märchen-Volltexte in Wikisource: \n",
    "    - https://de.wikisource.org/wiki/Kategorie:M%C3%A4rchen\n",
    "    - e.g. https://de.wikisource.org/wiki/K%C3%B6nig_Dro%C3%9Felbart_(1812)"
   ]
  },
  {
   "cell_type": "code",
   "execution_count": 1,
   "id": "118a409f-6c0c-4063-90dc-01147cebb4be",
   "metadata": {},
   "outputs": [],
   "source": [
    "# import the libraries needed in this notebook\n",
    "# 'standard library' imports\n",
    "import pathlib\n",
    "import time\n",
    "\n",
    "# import a single function with 'from' statement\n",
    "from urllib.parse import urljoin\n",
    "\n",
    "# third party library imports\n",
    "import pandas as pd\n",
    "import requests\n",
    "\n",
    "# import a single class with 'from' statement\n",
    "from bs4 import BeautifulSoup\n",
    "\n",
    "# initialize Path to \"data/\" directory to store data in\n",
    "DATA_DIR = pathlib.Path().cwd().parent.joinpath(\"data\")\n",
    "RAW_DATA_DIR = DATA_DIR.joinpath(\"raw\")\n",
    "WIKISOURCE_BASE_URL = \"https://de.wikisource.org\""
   ]
  },
  {
   "cell_type": "code",
   "execution_count": 2,
   "id": "d8b32001-1595-43f1-a70b-b94b85b7eb2b",
   "metadata": {},
   "outputs": [],
   "source": [
    "def get_fairytale_urls(url):\n",
    "    \"\"\"Retrieve all URLs from a given base URL, iterating through 'next page' links.\"\"\"\n",
    "    fairytale_urls = set()\n",
    "    while True:\n",
    "        print(url)\n",
    "        response = requests.get(url)\n",
    "        soup = BeautifulSoup(response.text, \"html.parser\")\n",
    "        entries = soup.find(id=\"mw-pages\").find(class_=\"mw-category\")\n",
    "        relative_urls = entries.find_all(\"a\")\n",
    "        for relative_url in relative_urls:\n",
    "            href = relative_url.get(\"href\")\n",
    "            absolute_url = urljoin(WIKISOURCE_BASE_URL, href)\n",
    "            fairytale_urls.add(absolute_url)\n",
    "        # find the link to the next page via the text \"Nächste Seite\"\n",
    "        next_page = soup.find(\"a\", string=\"nächste Seite\")\n",
    "        # leave while loop, if there is no more next_page link found.\n",
    "        if not next_page:\n",
    "            break\n",
    "        url = urljoin(WIKISOURCE_BASE_URL, next_page.get(\"href\"))\n",
    "        # wait one second before sending a new request to wikisource\n",
    "        time.sleep(1)\n",
    "    return sorted(list(fairytale_urls))"
   ]
  },
  {
   "cell_type": "code",
   "execution_count": 3,
   "id": "c6d2d673-51a8-4584-ac14-904cc23a3441",
   "metadata": {},
   "outputs": [
    {
     "name": "stdout",
     "output_type": "stream",
     "text": [
      "https://de.wikisource.org/wiki/Kategorie:M%C3%A4rchen\n",
      "https://de.wikisource.org/w/index.php?title=Kategorie:M%C3%A4rchen&pagefrom=Bremer+Stadtmusikanten+%23Die+%231857%0ADie+Bremer+Stadtmusikanten+%281857%29#mw-pages\n",
      "https://de.wikisource.org/w/index.php?title=Kategorie:M%C3%A4rchen&pagefrom=dumme+Xailun+%23Der%0ADer+dumme+Xailun#mw-pages\n",
      "https://de.wikisource.org/w/index.php?title=Kategorie:M%C3%A4rchen&pagefrom=geizige+Schwiegertochter+%23Die%0ADie+geizige+Schwiegertochter#mw-pages\n",
      "https://de.wikisource.org/w/index.php?title=Kategorie:M%C3%A4rchen&pagefrom=Hasichenbraut+%231850%0AH%C3%A4sichenbraut+%281850%29#mw-pages\n",
      "https://de.wikisource.org/w/index.php?title=Kategorie:M%C3%A4rchen&pagefrom=Knuppel+aus+dem+Sacke+%23Der%0ADer+Kn%C3%BCppel+aus+dem+Sacke#mw-pages\n",
      "https://de.wikisource.org/w/index.php?title=Kategorie:M%C3%A4rchen&pagefrom=Nacht+auf+dem+Schlachtfeld+%23Die%0ADie+Nacht+auf+dem+Schlachtfeld#mw-pages\n",
      "https://de.wikisource.org/w/index.php?title=Kategorie:M%C3%A4rchen&pagefrom=Schneiders+Daumerling+Wanderschaft+%23Des+%231819%0ADes+Schneiders+Daumerling+Wanderschaft+%281819%29#mw-pages\n",
      "https://de.wikisource.org/w/index.php?title=Kategorie:M%C3%A4rchen&pagefrom=Tischchen+deck+dich%2C+Goldesel%2C+und+Kn%C3%BCppel+aus+dem+Sack+%281843%29#mw-pages\n",
      "https://de.wikisource.org/w/index.php?title=Kategorie:M%C3%A4rchen&pagefrom=weisse+Mannchen+und+die+Jungfrau+%23Das%0ADas+wei%C3%9Fe+M%C3%A4nnchen+und+die+Jungfrau#mw-pages\n"
     ]
    }
   ],
   "source": [
    "FAIRYTALES_BASE_URL = \"https://de.wikisource.org/wiki/Kategorie:M%C3%A4rchen\"\n",
    "fairytale_urls = get_fairytale_urls(FAIRYTALES_BASE_URL)"
   ]
  },
  {
   "cell_type": "code",
   "execution_count": 4,
   "id": "fe056090-1a3c-4ca3-ab13-6ddfffe2fd11",
   "metadata": {},
   "outputs": [
    {
     "data": {
      "text/plain": [
       "1934"
      ]
     },
     "execution_count": 4,
     "metadata": {},
     "output_type": "execute_result"
    }
   ],
   "source": [
    "# How many links to fairytales are there?\n",
    "len(fairytale_urls)"
   ]
  },
  {
   "cell_type": "code",
   "execution_count": 5,
   "id": "235519a8-2806-48a4-a904-cb05166c8cb2",
   "metadata": {},
   "outputs": [
    {
     "data": {
      "text/plain": [
       "['https://de.wikisource.org/wiki/%C3%84skenbridel_Sa%C3%BAnsidel',\n",
       " 'https://de.wikisource.org/wiki/Ahmed_und_Paribanu',\n",
       " 'https://de.wikisource.org/wiki/Albanesische_M%C3%A4rchen',\n",
       " 'https://de.wikisource.org/wiki/Allerlei-Rauh_(1812)',\n",
       " 'https://de.wikisource.org/wiki/Allerlei-Rauh_(1819)',\n",
       " 'https://de.wikisource.org/wiki/Allerleihaut',\n",
       " 'https://de.wikisource.org/wiki/Allerleirauh_(1837)',\n",
       " 'https://de.wikisource.org/wiki/Allerleirauh_(1840)',\n",
       " 'https://de.wikisource.org/wiki/Allerleirauh_(1843)',\n",
       " 'https://de.wikisource.org/wiki/Allerleirauh_(1850)']"
      ]
     },
     "execution_count": 5,
     "metadata": {},
     "output_type": "execute_result"
    }
   ],
   "source": [
    "# display the first 10 links to fairytales in wikisource\n",
    "fairytale_urls[:10]"
   ]
  },
  {
   "cell_type": "code",
   "execution_count": 6,
   "id": "f0ebe4d6-5494-4dba-b0a9-f0e20343bb7d",
   "metadata": {},
   "outputs": [],
   "source": [
    "# convert list to pandas.Series and store it on disk\n",
    "fairytale_urls = pd.Series(fairytale_urls, name=\"url\")\n",
    "\n",
    "# store the urls in a TSV file inside the data/ directory\n",
    "filename = RAW_DATA_DIR.joinpath(\"wikisource_fairytale_urls.tsv\")\n",
    "fairytale_urls.to_csv(filename, sep=\"\\t\", index=False)"
   ]
  },
  {
   "cell_type": "code",
   "execution_count": 7,
   "id": "c167a165-ba69-4554-a852-65869d37c27f",
   "metadata": {},
   "outputs": [
    {
     "data": {
      "text/html": [
       "<details>\n",
       "<summary>Click to view session information</summary>\n",
       "<pre>\n",
       "-----\n",
       "bs4                 4.10.0\n",
       "pandas              1.3.4\n",
       "requests            2.26.0\n",
       "session_info        1.0.0\n",
       "-----\n",
       "</pre>\n",
       "<details>\n",
       "<summary>Click to view modules imported as dependencies</summary>\n",
       "<pre>\n",
       "anyio                       NA\n",
       "attr                        21.2.0\n",
       "babel                       2.9.1\n",
       "backcall                    0.2.0\n",
       "certifi                     2021.10.08\n",
       "charset_normalizer          2.0.7\n",
       "cython_runtime              NA\n",
       "dateutil                    2.8.2\n",
       "debugpy                     1.5.1\n",
       "decorator                   5.1.0\n",
       "entrypoints                 0.3\n",
       "idna                        3.3\n",
       "ipykernel                   6.4.2\n",
       "ipython_genutils            0.2.0\n",
       "jedi                        0.18.0\n",
       "jinja2                      3.0.2\n",
       "json5                       NA\n",
       "jsonschema                  4.1.2\n",
       "jupyter_server              1.11.1\n",
       "jupyterlab_server           2.8.2\n",
       "markupsafe                  2.0.1\n",
       "mpl_toolkits                NA\n",
       "nbclassic                   NA\n",
       "nbformat                    5.1.3\n",
       "numpy                       1.21.3\n",
       "packaging                   21.0\n",
       "parso                       0.8.2\n",
       "pexpect                     4.8.0\n",
       "pickleshare                 0.7.5\n",
       "pkg_resources               NA\n",
       "prometheus_client           NA\n",
       "prompt_toolkit              3.0.20\n",
       "ptyprocess                  0.7.0\n",
       "pvectorc                    NA\n",
       "pydev_ipython               NA\n",
       "pydevconsole                NA\n",
       "pydevd                      2.6.0\n",
       "pydevd_concurrency_analyser NA\n",
       "pydevd_file_utils           NA\n",
       "pydevd_plugins              NA\n",
       "pydevd_tracing              NA\n",
       "pyexpat                     NA\n",
       "pygments                    2.10.0\n",
       "pyrsistent                  NA\n",
       "pytz                        2021.3\n",
       "send2trash                  NA\n",
       "six                         1.16.0\n",
       "sniffio                     1.2.0\n",
       "soupsieve                   2.2.1\n",
       "storemagic                  NA\n",
       "terminado                   0.12.1\n",
       "tornado                     6.1\n",
       "traitlets                   5.1.0\n",
       "urllib3                     1.26.7\n",
       "wcwidth                     0.2.5\n",
       "websocket                   1.2.1\n",
       "zmq                         22.3.0\n",
       "</pre>\n",
       "</details> <!-- seems like this ends pre, so might as well be explicit -->\n",
       "<pre>\n",
       "-----\n",
       "IPython             7.28.0\n",
       "jupyter_client      7.0.6\n",
       "jupyter_core        4.8.1\n",
       "jupyterlab          3.2.1\n",
       "notebook            6.4.5\n",
       "-----\n",
       "Python 3.9.7 (default, Aug 31 2021, 13:28:12) [GCC 11.1.0]\n",
       "Linux-5.13.19-2-MANJARO-x86_64-with-glibc2.33\n",
       "-----\n",
       "Session information updated at 2021-10-22 09:03\n",
       "</pre>\n",
       "</details>"
      ],
      "text/plain": [
       "<IPython.core.display.HTML object>"
      ]
     },
     "execution_count": 7,
     "metadata": {},
     "output_type": "execute_result"
    }
   ],
   "source": [
    "import session_info\n",
    "\n",
    "session_info.show()"
   ]
  }
 ],
 "metadata": {
  "interpreter": {
   "hash": "a3a9c34f557550235291faddfacdf8b27ec6d3cae20c1a388e5f1e2e62951d86"
  },
  "kernelspec": {
   "display_name": "Python 3 (ipykernel)",
   "language": "python",
   "name": "python3"
  },
  "language_info": {
   "codemirror_mode": {
    "name": "ipython",
    "version": 3
   },
   "file_extension": ".py",
   "mimetype": "text/x-python",
   "name": "python",
   "nbconvert_exporter": "python",
   "pygments_lexer": "ipython3",
   "version": "3.9.7"
  }
 },
 "nbformat": 4,
 "nbformat_minor": 5
}

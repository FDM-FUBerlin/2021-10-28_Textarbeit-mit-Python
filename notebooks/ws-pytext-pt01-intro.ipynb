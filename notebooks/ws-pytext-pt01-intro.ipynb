{
 "cells": [
  {
   "cell_type": "markdown",
   "metadata": {
    "slideshow": {
     "slide_type": "slide"
    }
   },
   "source": [
    "## Workshop \"Textarbeit mit Python - Erste Schritte\"\n",
    "Heinz-Alexander Fütterer und Selina Reinhard\n",
    "\n",
    "Universitätsbibliothek | Freie Universität Berlin\n",
    "\n",
    "### Agenda heute\n",
    "\n",
    "\n",
    "* 13.00 - 13.45 Intro und Grundlagen (+Übung)\n",
    "* 13.45 - 14.13 NLTK (+Übung)\n",
    "\n",
    "Pause (7 Min)\n",
    "\n",
    "* 14.20 - 14.40 Texte einlesen und aufbereiten\n",
    "* 14.40 - 15.18 Texte analysieren (+Übung)\n",
    "\n",
    "Pause (7 Min)\n",
    "\n",
    "* 15.25 - 15.45 Texte visualisieren (+Übung)\n",
    "* 15.45 - 16.00 Outro"
   ]
  },
  {
   "cell_type": "markdown",
   "metadata": {
    "slideshow": {
     "slide_type": "subslide"
    }
   },
   "source": [
    "### Ziele für heute\n",
    "\n",
    "+ Einsatzmöglichkeiten & Potenzial \n",
    "    + von Programmiersprachen allgemein\n",
    "    + Python im Speziellen\n",
    "+ Einführung zu (ausgewählten) grundlegenden Konzepten\n",
    "+ Bibliotheken zu NLP am Beispiel nltk\n",
    "+ Verständnis für den Umgang mit Problemen\n",
    "+ Keine Angst vor Fehlermeldungen\n",
    "\n",
    "**-> Kennenlernen und Ausprobieren**"
   ]
  },
  {
   "cell_type": "markdown",
   "metadata": {
    "slideshow": {
     "slide_type": "slide"
    }
   },
   "source": [
    "## Motivation - Warum Programmieren?\n",
    "\n",
    "* viel Flexibilität / Kontrolle\n",
    "* berufliche Vorteile (academia and beyond)\n",
    "* Reproduzierbarkeit\n",
    "* Spaß?!\n"
   ]
  },
  {
   "cell_type": "markdown",
   "metadata": {
    "slideshow": {
     "slide_type": "fragment"
    }
   },
   "source": [
    "## Motivation - Warum (nicht) Programmieren?\n",
    "\n",
    "* Anfang schwer\n",
    "* aufwändig\n",
    "* nicht nötig / gute Programme verfügbar\n",
    "* ungewohnte Genauigkeit -> Frustration\n",
    "* falsche Vorstellung"
   ]
  },
  {
   "cell_type": "markdown",
   "metadata": {
    "slideshow": {
     "slide_type": "subslide"
    }
   },
   "source": [
    "## Vorstellung Programmierung\n",
    "<iframe src=\"https://giphy.com/embed/26tn33aiTi1jkl6H6\" width=\"384\" height=\"216\" frameBorder=\"0\" class=\"giphy-embed\" allowFullScreen></iframe><p><a href=\"https://giphy.com/gifs/screen-monitor-closeup-26tn33aiTi1jkl6H6\">via GIPHY</a></p>\n",
    "\n",
    "## Programmieren in der Realität\n",
    "\n",
    "<iframe src=\"https://giphy.com/embed/3o752eGiFHjtwVoTzq\" width=\"384\" height=\"216\" frameBorder=\"0\" class=\"giphy-embed\" allowFullScreen></iframe><p><a href=\"https://giphy.com/gifs/laffmobbslafftracks-trutv-laff-mobb-3o752eGiFHjtwVoTzq\">via GIPHY</a></p>"
   ]
  },
  {
   "cell_type": "markdown",
   "metadata": {
    "slideshow": {
     "slide_type": "slide"
    }
   },
   "source": [
    "## Motivation - Warum Python?\n",
    "\n",
    "* kostenlos und open source (im Vgl. zu bestimmten Programmen)\n",
    "* \"general purpose\" (im Vgl. zu R)\n",
    "* weit verbreitet / große Community (vgl. [Stack Overflow Developer Survey 2021](https://insights.stackoverflow.com/survey/2021#technology-most-popular-technologies))\n",
    "    * viele Anwendungsmöglichkeiten\n",
    "    * viel Unterstützung online\n",
    "    * wird ständig weiterentwickelt\n",
    "* leicht verständlicher/lesbarer Code\n",
    "    * vergleichsweise leicht zu lernen"
   ]
  },
  {
   "cell_type": "code",
   "execution_count": 1,
   "metadata": {},
   "outputs": [
    {
     "name": "stdout",
     "output_type": "stream",
     "text": [
      "Mein Name ist Tom Riddle\n"
     ]
    }
   ],
   "source": [
    "name = \"Tom Riddle\"\n",
    "print(\"Mein Name ist\", name)"
   ]
  },
  {
   "cell_type": "markdown",
   "metadata": {
    "slideshow": {
     "slide_type": "fragment"
    }
   },
   "source": [
    "Nachteile: langsamer als kompilierte Sprachen wie Java oder C++ und nicht in allen Anwendungsfällen etabliert (z. B. Apps)"
   ]
  },
  {
   "cell_type": "markdown",
   "metadata": {
    "slideshow": {
     "slide_type": "slide"
    }
   },
   "source": [
    "## Motivation - Warum Jupyter und Binder?\n",
    "\n",
    "### Jupyter Notebooks\n",
    "* Kombination von Code, Output, Text, Bildern\n",
    "* einfache Installation z. B. über Anaconda\n",
    "* einfache Bedienung z. B. Ausführen von Zellen mit Strg / Command + Enter"
   ]
  },
  {
   "cell_type": "markdown",
   "metadata": {},
   "source": [
    "### heute: Binder\n",
    "* keine technischen Vorbereitungen für euch\n",
    "* nichts kann kaputt gehen -> Ausprobieren erwünscht :-)"
   ]
  },
  {
   "cell_type": "markdown",
   "metadata": {
    "slideshow": {
     "slide_type": "slide"
    }
   },
   "source": [
    "## Ausgewählte Begriffe\n",
    "\n",
    "Vereinfacht ausgedrückt: Programmieren bedeutet, Computern Befehle zu geben. \n",
    "Wir lassen einen Befehl / **Input** ausführen und erhalten ein Ergebnis / **Output**"
   ]
  },
  {
   "cell_type": "code",
   "execution_count": 2,
   "metadata": {},
   "outputs": [
    {
     "data": {
      "text/plain": [
       "15"
      ]
     },
     "execution_count": 2,
     "metadata": {},
     "output_type": "execute_result"
    }
   ],
   "source": [
    "7 + 8"
   ]
  },
  {
   "cell_type": "markdown",
   "metadata": {
    "slideshow": {
     "slide_type": "fragment"
    }
   },
   "source": [
    "7 und 8 sind Werte / **values** \n",
    "\n",
    "\\+ ist ein **Operator**; Operatoren \"tun etwas\" mit Werten"
   ]
  },
  {
   "cell_type": "markdown",
   "metadata": {
    "slideshow": {
     "slide_type": "subslide"
    }
   },
   "source": [
    "Werte / values können **Variablen** zugeordnet werden."
   ]
  },
  {
   "cell_type": "code",
   "execution_count": 3,
   "metadata": {},
   "outputs": [
    {
     "name": "stdout",
     "output_type": "stream",
     "text": [
      "15\n"
     ]
    }
   ],
   "source": [
    "result = 15\n",
    "print(result)"
   ]
  },
  {
   "cell_type": "markdown",
   "metadata": {
    "slideshow": {
     "slide_type": "fragment"
    }
   },
   "source": [
    "Im Beispiel unten wird der Wert 15 der Variable `result` mithilfe des Zuordnungsoperators / assignment operators  `=` zugeordnet \n",
    "\n",
    "Wird ein anderer Wert der Variable zugeordnet, ersetzt der neue Wert den vorherigen diese Variable."
   ]
  },
  {
   "cell_type": "code",
   "execution_count": 4,
   "metadata": {},
   "outputs": [
    {
     "name": "stdout",
     "output_type": "stream",
     "text": [
      "hallo\n"
     ]
    }
   ],
   "source": [
    "result = \"hallo\"\n",
    "print(result)"
   ]
  },
  {
   "cell_type": "markdown",
   "metadata": {
    "slideshow": {
     "slide_type": "subslide"
    }
   },
   "source": [
    "Variablennamen sollten beschreiben, was enthalten ist und müssen bestimmten Regeln folgen.\n",
    "\n",
    "Variblennamen dürfen:\n",
    "- nur aus einem Wort (ohne Leerzeichen) bestehen\n",
    "- nur Buchstaben, Zahlen und Unterstriche enthalten\n",
    "- nicht mit einer Zahl beginnen"
   ]
  },
  {
   "cell_type": "code",
   "execution_count": 5,
   "metadata": {},
   "outputs": [],
   "source": [
    "# 1result = \"hallo\"\n",
    "# print(1result)"
   ]
  },
  {
   "cell_type": "markdown",
   "metadata": {
    "slideshow": {
     "slide_type": "subslide"
    }
   },
   "source": [
    "**Funktionen** werden über den Funktionsnamen aufgerufen und \"tun etwas\" mit den **Argumenten** innerhalb der Klammer"
   ]
  },
  {
   "cell_type": "code",
   "execution_count": 6,
   "metadata": {},
   "outputs": [
    {
     "data": {
      "text/plain": [
       "5"
      ]
     },
     "execution_count": 6,
     "metadata": {},
     "output_type": "execute_result"
    }
   ],
   "source": [
    "len(result)"
   ]
  },
  {
   "cell_type": "code",
   "execution_count": 7,
   "metadata": {},
   "outputs": [
    {
     "name": "stdout",
     "output_type": "stream",
     "text": [
      "\u001b[1;31mSignature:\u001b[0m \u001b[0mlen\u001b[0m\u001b[1;33m(\u001b[0m\u001b[0mobj\u001b[0m\u001b[1;33m,\u001b[0m \u001b[1;33m/\u001b[0m\u001b[1;33m)\u001b[0m\u001b[1;33m\u001b[0m\u001b[1;33m\u001b[0m\u001b[0m\n",
      "\u001b[1;31mDocstring:\u001b[0m Return the number of items in a container.\n",
      "\u001b[1;31mType:\u001b[0m      builtin_function_or_method\n"
     ]
    }
   ],
   "source": [
    "?len"
   ]
  },
  {
   "cell_type": "markdown",
   "metadata": {
    "slideshow": {
     "slide_type": "slide"
    }
   },
   "source": [
    "## Ausprobieren in Binder\n",
    "\n",
    "Startet die Notebooks und löst die Aufgaben!"
   ]
  }
 ],
 "metadata": {
  "interpreter": {
   "hash": "b06e60439a9a38c0d1acdb59a744d46738ae91ac4fa21bd7bdffab6cc8236863"
  },
  "kernelspec": {
   "display_name": "Python 3.10.4 ('.venv': poetry)",
   "language": "python",
   "name": "python3"
  },
  "language_info": {
   "codemirror_mode": {
    "name": "ipython",
    "version": 3
   },
   "file_extension": ".py",
   "mimetype": "text/x-python",
   "name": "python",
   "nbconvert_exporter": "python",
   "pygments_lexer": "ipython3",
   "version": "3.10.4"
  }
 },
 "nbformat": 4,
 "nbformat_minor": 4
}

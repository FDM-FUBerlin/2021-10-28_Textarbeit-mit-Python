{
 "cells": [
  {
   "cell_type": "markdown",
   "metadata": {
    "slideshow": {
     "slide_type": "slide"
    }
   },
   "source": [
    "# 7. Outro\n",
    "\n",
    "## Inhalte\n",
    "1. Strategien zur Problemlösung / Fehlerbehebung\n",
    "    + Fragen online stellen\n",
    "\n",
    "\n",
    "2. Erste Schritte - Nächste Schritte\n",
    "    + mögliches weiteres Vorgehen\n",
    "    + Vertiefende Materialien\n"
   ]
  },
  {
   "cell_type": "markdown",
   "metadata": {
    "slideshow": {
     "slide_type": "slide"
    }
   },
   "source": [
    "## 1. Strategien zur Problemlösung / Fehlerbehebung\n",
    "\n",
    "### Problem verstehen\n",
    "+ Fehlermeldung: lesen & bei Suchmaschine eingeben  \n",
    "+ Aufgabenstellung: in kleine Teilschritte aufteilen & nacheinander bearbeiten"
   ]
  },
  {
   "cell_type": "markdown",
   "metadata": {
    "slideshow": {
     "slide_type": "fragment"
    }
   },
   "source": [
    "### Problem lösen\n",
    "+ Dokumentation lesen\n",
    "* Fehlermeldung bei Suchmaschine eingeben / Foren durchsuchen (z. B. stackoverflow)\n",
    "    + Was soll gemacht werden (+ Fachbegriffe, + Python, + englisch)\n",
    "    + falls nicht erfolgreich: eigene Frage stellen"
   ]
  },
  {
   "cell_type": "markdown",
   "metadata": {
    "slideshow": {
     "slide_type": "subslide"
    }
   },
   "source": [
    "### Fragen online stellen\n",
    "* Regeln des Forums / der Community durchlesen\n",
    "\n",
    "* Was ist das Ziel? Was wurde bisher versucht?\n",
    "\n",
    "* Wann tritt der Fehler auf? \n",
    "    * Hat bestimmte Veränderung des Codes den Fehler zur Folge?\n",
    "    * Fehler immer reproduzierbar oder nur nach bestimmten Schritten\n",
    "    \n",
    "* Copy & Paste der gesamten Fehlermeldung (z.B. pastebin.com oder gist.github.com)\n",
    "\n",
    "* technische Details: Betriebssystem, Version, Python-Version"
   ]
  },
  {
   "cell_type": "markdown",
   "metadata": {
    "slideshow": {
     "slide_type": "slide"
    }
   },
   "source": [
    "## 2. Erste Schritte - Nächste Schritte\n",
    "\n",
    "### Erste Schritte - was wir heute gemacht haben\n",
    "\n",
    "* (hoffentlich) Motivation für Programmieren und Python\n",
    "    * Vorteile von Python\n",
    "    * Möglichkeiten anhand eines Beispiels\n",
    "    * erste Erfahrung beim Ausführen und Verändern von Code\n",
    "    \n",
    "    \n",
    "* Strategien zur Problemlösung\n",
    "\n",
    "* Bibliotheken am Beispiel von nltk"
   ]
  },
  {
   "cell_type": "markdown",
   "metadata": {
    "slideshow": {
     "slide_type": "subslide"
    }
   },
   "source": [
    "### Nächste Schritte - wie kann es weiter gehen?\n",
    "* strukturierte Einführung (Buch / Kurs)\n",
    "\n",
    "* lokale Installation JupyterLab oder anderer Umgebung\n",
    "    * siehe Abschnitt \"Installation\" im README\n"
   ]
  },
  {
   "cell_type": "markdown",
   "metadata": {
    "slideshow": {
     "slide_type": "fragment"
    }
   },
   "source": [
    "* mittel- /langfristig motiviert bleiben\n",
    "\n",
    "    * nicht Selbstzweck -> konkrete Aufgabe oder Projekt suchen\n",
    "    \n",
    "    * nicht allein -> Community suchen, sich mit anderen austauschen"
   ]
  },
  {
   "cell_type": "markdown",
   "metadata": {
    "slideshow": {
     "slide_type": "subslide"
    }
   },
   "source": [
    "### Nächste Schritte - wie kann es weiter gehen?\n",
    "* Inspiration durch Lektüre von wissenschaftlicher Literatur\n",
    "    * Wozu setzen Forschende `nltk` in der Praxis ein?\n",
    "    * Recherche in Zeitschriften, Datenbanken und Suchmaschinen nach NLP, NLTK und/oder Python\n",
    "    * z.B.: [Recherche im Biblitohekskatalog der FU](https://fu-berlin.primo.exlibrisgroup.com/discovery/search?query=any,contains,nltk&tab=FUB_CDI&search_scope=FUB_CDI&vid=49KOBV_FUB:FUB&mfacet=rtype,include,articles,1&offset=0) oder [Recherche in Google Scholar](https://scholar.google.de/scholar?q=nltk&hl=de)\n",
    "* Recherche nach Projekten auf GitHub, die NLTK verwenden:\n",
    "    - https://github.com/nltk/nltk/network/dependents\n",
    "    - https://github.com/search?q=nltk&type=repositories\n",
    "    - https://github.com/search?q=nltk&type=topics"
   ]
  },
  {
   "cell_type": "markdown",
   "metadata": {
    "jp-MarkdownHeadingCollapsed": true,
    "slideshow": {
     "slide_type": "subslide"
    },
    "tags": []
   },
   "source": [
    "### Vertiefende Tutorials / Materialien:\n",
    "Tutorials/Kurse/Quellen:\n",
    "- https://software-carpentry.org/lessons/\n",
    "- https://datacarpentry.org/lessons/\n",
    "- https://programminghistorian.org/en/lessons/?topic=distant-reading\n",
    "- https://github.com/keon/awesome-nlp\n",
    "- https://github.com/hb20007/hands-on-nltk-tutorial\n",
    "\n",
    "\n",
    "\n"
   ]
  },
  {
   "cell_type": "markdown",
   "metadata": {
    "slideshow": {
     "slide_type": "subslide"
    },
    "tags": []
   },
   "source": [
    "### Vertiefende Tutorials / Materialien:\n",
    "E-Books (frei verfügbar oder im Universitätsnetz verfügbar):\n",
    "- Das Buch der NLTK-Autoren: [Natural Language Processing with Python](https://www.nltk.org/book/)\n",
    "- Fachbücher (Python):\n",
    "    - [Python 3: Ein Lern- und Arbeitsbuch](https://fu-berlin.primo.exlibrisgroup.com/permalink/49KOBV_FUB/5ami3a/cdi_askewsholts_vlebooks_9783110544589)\n",
    "    - [Recherche im Biblitohekskatalog der FU](https://fu-berlin.primo.exlibrisgroup.com/discovery/search?query=any,contains,python&tab=FUB_CDI&search_scope=FUB_CDI&vid=49KOBV_FUB:FUB&mfacet=rtype,include,books,1&mfacet=rtype,include,computerfile,1&offset=0)\n",
    "- Fachbücher (NLTK):\n",
    "    - [Natural language processing with Python cookbook](https://fu-berlin.primo.exlibrisgroup.com/permalink/49KOBV_FUB/5ami3a/cdi_igpublishing_primary_PACKT0000555)\n",
    "    - [Natural Language Processing Recipes](https://fu-berlin.primo.exlibrisgroup.com/permalink/49KOBV_FUB/1v1tp5h/alma9959950948802883)\n",
    "    - [Practical Natural Language Processing with Python](https://fu-berlin.primo.exlibrisgroup.com/permalink/49KOBV_FUB/5ami3a/cdi_springer_books_10_1007_978_1_4842_6246_7)\n",
    "    - [Text analysis in Python for social scientists](https://fu-berlin.primo.exlibrisgroup.com/permalink/49KOBV_FUB/1v1tp5h/alma9959706035602883)\n",
    "    - [Recherche im Biblitohekskatalog der FU](https://fu-berlin.primo.exlibrisgroup.com/discovery/search?query=any,contains,nltk&tab=FUB_CDI&search_scope=FUB_CDI&vid=49KOBV_FUB:FUB&mfacet=rtype,include,articles,1&offset=0)\n",
    "- Weitere Fachbücher:\n",
    "    - [Weniger schlecht programmieren](https://fu-berlin.primo.exlibrisgroup.com/permalink/49KOBV_FUB/1v1tp5h/alma990049596020402883)\n",
    "\n",
    "\n",
    "\n"
   ]
  },
  {
   "cell_type": "markdown",
   "metadata": {
    "slideshow": {
     "slide_type": "slide"
    }
   },
   "source": [
    "# Danke und Feedback\n",
    "### Was hat euch gefallen? Was können wir verbessern?"
   ]
  }
 ],
 "metadata": {
  "kernelspec": {
   "display_name": "Python 3 (ipykernel)",
   "language": "python",
   "name": "python3"
  },
  "language_info": {
   "codemirror_mode": {
    "name": "ipython",
    "version": 3
   },
   "file_extension": ".py",
   "mimetype": "text/x-python",
   "name": "python",
   "nbconvert_exporter": "python",
   "pygments_lexer": "ipython3",
   "version": "3.10.4"
  },
  "toc-autonumbering": false,
  "toc-showcode": false,
  "toc-showmarkdowntxt": false
 },
 "nbformat": 4,
 "nbformat_minor": 4
}

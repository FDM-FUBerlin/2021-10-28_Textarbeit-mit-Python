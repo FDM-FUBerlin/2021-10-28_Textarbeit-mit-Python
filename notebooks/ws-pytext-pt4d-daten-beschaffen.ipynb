{
 "cells": [
  {
   "cell_type": "markdown",
   "id": "5e05c81b-8011-445a-8d19-81281b13d21c",
   "metadata": {
    "tags": []
   },
   "source": [
    "# 4d. Daten beschaffen\n",
    "\n",
    "In diesem Notebook setzen wir die Datenbeschaffung fort, indem wir eine Auswahl aus der strukturieren Tabelle von Märchen-Volltexten treffen.\n",
    "\n",
    "## Inhalte\n",
    "- Wir laden die zuvor erzeugte TSV-Datei\n",
    "- Wir untersuchen die Tabelle nach Autor*innen\n",
    "- Wir treffen eine Auswahl: Brüder Grimm und 1857\n",
    "- Wir selektieren nur Märchen der Brüder Grimm aus dem Jahr 1857\n",
    "- Wir speichern die Tabelle für den nächsten Schritt\n"
   ]
  },
  {
   "cell_type": "code",
   "execution_count": 1,
   "id": "b956fbea-edcf-434b-800c-e8b4f21c012f",
   "metadata": {},
   "outputs": [],
   "source": [
    "import pathlib\n",
    "import time\n",
    "\n",
    "import pandas as pd\n",
    "from slugify import slugify\n",
    "\n",
    "DATA_DIR = pathlib.Path().cwd().parent.joinpath(\"data\")\n",
    "PROC_DATA_DIR = DATA_DIR.joinpath(\"processed\")"
   ]
  },
  {
   "cell_type": "code",
   "execution_count": 2,
   "id": "8a768d58-cdd0-4b8a-9197-3f8792e3d11b",
   "metadata": {},
   "outputs": [
    {
     "data": {
      "text/html": [
       "<div>\n",
       "<style scoped>\n",
       "    .dataframe tbody tr th:only-of-type {\n",
       "        vertical-align: middle;\n",
       "    }\n",
       "\n",
       "    .dataframe tbody tr th {\n",
       "        vertical-align: top;\n",
       "    }\n",
       "\n",
       "    .dataframe thead th {\n",
       "        text-align: right;\n",
       "    }\n",
       "</style>\n",
       "<table border=\"1\" class=\"dataframe\">\n",
       "  <thead>\n",
       "    <tr style=\"text-align: right;\">\n",
       "      <th></th>\n",
       "      <th>url</th>\n",
       "      <th>title</th>\n",
       "      <th>creator</th>\n",
       "      <th>date</th>\n",
       "      <th>place</th>\n",
       "      <th>edition</th>\n",
       "      <th>publisher</th>\n",
       "      <th>source</th>\n",
       "      <th>text</th>\n",
       "    </tr>\n",
       "  </thead>\n",
       "  <tbody>\n",
       "    <tr>\n",
       "      <th>0</th>\n",
       "      <td>https://de.wikisource.org/wiki/Des_Perlenfisch...</td>\n",
       "      <td>Des Perlenfischers Töchterlein</td>\n",
       "      <td>NaN</td>\n",
       "      <td>1845</td>\n",
       "      <td>München</td>\n",
       "      <td>NaN</td>\n",
       "      <td>Braun &amp; Schneider</td>\n",
       "      <td>Fliegende Blätter, Band 1, Nr. 12, S. 89–92 un...</td>\n",
       "      <td>In Bayern ist ein Ländlein, heißt die Steinpfa...</td>\n",
       "    </tr>\n",
       "    <tr>\n",
       "      <th>1</th>\n",
       "      <td>https://de.wikisource.org/wiki/Bittet,_so_wird...</td>\n",
       "      <td>Bittet, so wird Euch gegeben!</td>\n",
       "      <td>NaN</td>\n",
       "      <td>1930</td>\n",
       "      <td>Danzig</td>\n",
       "      <td>NaN</td>\n",
       "      <td>Fuchs &amp; Cie.</td>\n",
       "      <td>Aus dem Märchenschatz der Kaschubei, S. 43–46</td>\n",
       "      <td>Es war einmal ein hochbetagter Mann, der war s...</td>\n",
       "    </tr>\n",
       "    <tr>\n",
       "      <th>2</th>\n",
       "      <td>https://de.wikisource.org/wiki/Der_Soldat_und_...</td>\n",
       "      <td>Der Soldat und der Teufel</td>\n",
       "      <td>NaN</td>\n",
       "      <td>1930</td>\n",
       "      <td>Danzig</td>\n",
       "      <td>NaN</td>\n",
       "      <td>Fuchs &amp; Cie.</td>\n",
       "      <td>Aus dem Märchenschatz der Kaschubei, S. 25–26</td>\n",
       "      <td>Einmal stand ein Soldat auf Posten. Es war im ...</td>\n",
       "    </tr>\n",
       "    <tr>\n",
       "      <th>3</th>\n",
       "      <td>https://de.wikisource.org/wiki/Der_gute_Zeuge</td>\n",
       "      <td>Der gute Zeuge</td>\n",
       "      <td>NaN</td>\n",
       "      <td>1930</td>\n",
       "      <td>Danzig</td>\n",
       "      <td>NaN</td>\n",
       "      <td>Fuchs &amp; Cie.</td>\n",
       "      <td>Aus dem Märchenschatz der Kaschubei, S. 37–39</td>\n",
       "      <td>Ein junger Mensch ging auf Wanderschaft. Als e...</td>\n",
       "    </tr>\n",
       "    <tr>\n",
       "      <th>4</th>\n",
       "      <td>https://de.wikisource.org/wiki/Der_gute_und_de...</td>\n",
       "      <td>Der gute und der böse Bruder</td>\n",
       "      <td>NaN</td>\n",
       "      <td>1930</td>\n",
       "      <td>Danzig</td>\n",
       "      <td>NaN</td>\n",
       "      <td>Fuchs &amp; Cie.</td>\n",
       "      <td>Aus dem Märchenschatz der Kaschubei, S. 31–35</td>\n",
       "      <td>Es waren einmal zwei Brüder, die wollten in di...</td>\n",
       "    </tr>\n",
       "  </tbody>\n",
       "</table>\n",
       "</div>"
      ],
      "text/plain": [
       "                                                 url  \\\n",
       "0  https://de.wikisource.org/wiki/Des_Perlenfisch...   \n",
       "1  https://de.wikisource.org/wiki/Bittet,_so_wird...   \n",
       "2  https://de.wikisource.org/wiki/Der_Soldat_und_...   \n",
       "3      https://de.wikisource.org/wiki/Der_gute_Zeuge   \n",
       "4  https://de.wikisource.org/wiki/Der_gute_und_de...   \n",
       "\n",
       "                            title creator  date    place edition  \\\n",
       "0  Des Perlenfischers Töchterlein     NaN  1845  München     NaN   \n",
       "1   Bittet, so wird Euch gegeben!     NaN  1930   Danzig     NaN   \n",
       "2       Der Soldat und der Teufel     NaN  1930   Danzig     NaN   \n",
       "3                  Der gute Zeuge     NaN  1930   Danzig     NaN   \n",
       "4    Der gute und der böse Bruder     NaN  1930   Danzig     NaN   \n",
       "\n",
       "           publisher                                             source  \\\n",
       "0  Braun & Schneider  Fliegende Blätter, Band 1, Nr. 12, S. 89–92 un...   \n",
       "1       Fuchs & Cie.      Aus dem Märchenschatz der Kaschubei, S. 43–46   \n",
       "2       Fuchs & Cie.      Aus dem Märchenschatz der Kaschubei, S. 25–26   \n",
       "3       Fuchs & Cie.      Aus dem Märchenschatz der Kaschubei, S. 37–39   \n",
       "4       Fuchs & Cie.      Aus dem Märchenschatz der Kaschubei, S. 31–35   \n",
       "\n",
       "                                                text  \n",
       "0  In Bayern ist ein Ländlein, heißt die Steinpfa...  \n",
       "1  Es war einmal ein hochbetagter Mann, der war s...  \n",
       "2  Einmal stand ein Soldat auf Posten. Es war im ...  \n",
       "3  Ein junger Mensch ging auf Wanderschaft. Als e...  \n",
       "4  Es waren einmal zwei Brüder, die wollten in di...  "
      ]
     },
     "execution_count": 2,
     "metadata": {},
     "output_type": "execute_result"
    }
   ],
   "source": [
    "filename = PROC_DATA_DIR.joinpath(\"wikisource_fairytale_fulltext.tsv\")\n",
    "fairytales = pd.read_csv(filename, sep=\"\\t\")\n",
    "# set date column to integer64 type, allowing missing values\n",
    "fairytales[\"date\"] = fairytales[\"date\"].astype(\"Int64\")\n",
    "fairytales.head()"
   ]
  },
  {
   "cell_type": "code",
   "execution_count": 3,
   "id": "f61de2b4-7f33-46f5-bbc3-9c5f1087502c",
   "metadata": {},
   "outputs": [
    {
     "data": {
      "text/plain": [
       "54"
      ]
     },
     "execution_count": 3,
     "metadata": {},
     "output_type": "execute_result"
    }
   ],
   "source": [
    "# number of distinct creators\n",
    "len(fairytales[\"creator\"].unique())"
   ]
  },
  {
   "cell_type": "code",
   "execution_count": 4,
   "id": "05c904d0-1890-41a8-80d9-772c3f385c51",
   "metadata": {},
   "outputs": [
    {
     "data": {
      "text/plain": [
       "Brüder Grimm                     1318\n",
       "Heinrich Pröhle                   146\n",
       "Ernst Meier                        90\n",
       "unbekannt                          78\n",
       "Wilhelm Busch                      42\n",
       "Johann Wilhelm Wolf                39\n",
       "Johann Andreas Christian Löhr      37\n",
       "Johann Heinrich Lehnert            29\n",
       "Fridrich Pfaff                     17\n",
       "Friedrich Lorentz                  15\n",
       "Name: creator, dtype: int64"
      ]
     },
     "execution_count": 4,
     "metadata": {},
     "output_type": "execute_result"
    }
   ],
   "source": [
    "# counts of fairytales per creator, top 10\n",
    "fairytales[\"creator\"].value_counts().head(10)"
   ]
  },
  {
   "cell_type": "code",
   "execution_count": 5,
   "id": "6d4cb031-91c1-4ff4-98e9-5418b601c3a0",
   "metadata": {},
   "outputs": [],
   "source": [
    "# select rows by value in creator column\n",
    "wanted_creator = \"Brüder Grimm\""
   ]
  },
  {
   "cell_type": "code",
   "execution_count": 6,
   "id": "31c0556f-f896-4c1f-abb0-05b70a34ef3e",
   "metadata": {},
   "outputs": [
    {
     "data": {
      "text/html": [
       "<div>\n",
       "<style scoped>\n",
       "    .dataframe tbody tr th:only-of-type {\n",
       "        vertical-align: middle;\n",
       "    }\n",
       "\n",
       "    .dataframe tbody tr th {\n",
       "        vertical-align: top;\n",
       "    }\n",
       "\n",
       "    .dataframe thead th {\n",
       "        text-align: right;\n",
       "    }\n",
       "</style>\n",
       "<table border=\"1\" class=\"dataframe\">\n",
       "  <thead>\n",
       "    <tr style=\"text-align: right;\">\n",
       "      <th></th>\n",
       "      <th>url</th>\n",
       "      <th>title</th>\n",
       "      <th>creator</th>\n",
       "      <th>date</th>\n",
       "      <th>place</th>\n",
       "      <th>edition</th>\n",
       "      <th>publisher</th>\n",
       "      <th>source</th>\n",
       "      <th>text</th>\n",
       "    </tr>\n",
       "  </thead>\n",
       "  <tbody>\n",
       "    <tr>\n",
       "      <th>29</th>\n",
       "      <td>https://de.wikisource.org/wiki/Allerlei-Rauh_(...</td>\n",
       "      <td>Allerlei-Rauh</td>\n",
       "      <td>Brüder Grimm</td>\n",
       "      <td>1812</td>\n",
       "      <td>Berlin</td>\n",
       "      <td>1. Auflage</td>\n",
       "      <td>Realschulbuchhandlung</td>\n",
       "      <td>Kinder- und Haus-Märchen Band 1, Große Ausgabe...</td>\n",
       "      <td>Es war einmal ein König, der hatte eine Frau, ...</td>\n",
       "    </tr>\n",
       "    <tr>\n",
       "      <th>30</th>\n",
       "      <td>https://de.wikisource.org/wiki/Aschenputtel_(1...</td>\n",
       "      <td>Aschenputtel</td>\n",
       "      <td>Brüder Grimm</td>\n",
       "      <td>1812</td>\n",
       "      <td>Berlin</td>\n",
       "      <td>1. Auflage</td>\n",
       "      <td>Realschulbuchhandlung</td>\n",
       "      <td>Kinder- und Haus-Märchen Band 1, Große Ausgabe...</td>\n",
       "      <td>Es war einmal ein reicher Mann, der lebte lang...</td>\n",
       "    </tr>\n",
       "    <tr>\n",
       "      <th>31</th>\n",
       "      <td>https://de.wikisource.org/wiki/Blaubart_(1812)</td>\n",
       "      <td>Blaubart</td>\n",
       "      <td>Brüder Grimm</td>\n",
       "      <td>1812</td>\n",
       "      <td>Berlin</td>\n",
       "      <td>1. Auflage</td>\n",
       "      <td>Realschulbuchhandlung</td>\n",
       "      <td>Kinder- und Haus-Märchen Band 1, Große Ausgabe...</td>\n",
       "      <td>In einem Walde lebte ein Mann, der hatte drei ...</td>\n",
       "    </tr>\n",
       "    <tr>\n",
       "      <th>32</th>\n",
       "      <td>https://de.wikisource.org/wiki/Br%C3%BCderchen...</td>\n",
       "      <td>Brüderchen und Schwesterchen</td>\n",
       "      <td>Brüder Grimm</td>\n",
       "      <td>1812</td>\n",
       "      <td>Berlin</td>\n",
       "      <td>1. Auflage</td>\n",
       "      <td>Realschulbuchhandlung</td>\n",
       "      <td>Kinder- und Haus-Märchen Band 1, Große Ausgabe...</td>\n",
       "      <td>Brüderchen nahm sein Schwesterchen an der Hand...</td>\n",
       "    </tr>\n",
       "    <tr>\n",
       "      <th>33</th>\n",
       "      <td>https://de.wikisource.org/wiki/Das_Birnli_will...</td>\n",
       "      <td>Das Birnli will nit fallen</td>\n",
       "      <td>Brüder Grimm</td>\n",
       "      <td>1812</td>\n",
       "      <td>Berlin</td>\n",
       "      <td>1. Auflage</td>\n",
       "      <td>Realschulbuchhandlung</td>\n",
       "      <td>Kinder- und Haus-Märchen Band 1, Große Ausgabe...</td>\n",
       "      <td>Der Herr will das Birnli schüttle,\\ndas Birnli...</td>\n",
       "    </tr>\n",
       "  </tbody>\n",
       "</table>\n",
       "</div>"
      ],
      "text/plain": [
       "                                                  url  \\\n",
       "29  https://de.wikisource.org/wiki/Allerlei-Rauh_(...   \n",
       "30  https://de.wikisource.org/wiki/Aschenputtel_(1...   \n",
       "31     https://de.wikisource.org/wiki/Blaubart_(1812)   \n",
       "32  https://de.wikisource.org/wiki/Br%C3%BCderchen...   \n",
       "33  https://de.wikisource.org/wiki/Das_Birnli_will...   \n",
       "\n",
       "                           title       creator  date   place     edition  \\\n",
       "29                 Allerlei-Rauh  Brüder Grimm  1812  Berlin  1. Auflage   \n",
       "30                  Aschenputtel  Brüder Grimm  1812  Berlin  1. Auflage   \n",
       "31                      Blaubart  Brüder Grimm  1812  Berlin  1. Auflage   \n",
       "32  Brüderchen und Schwesterchen  Brüder Grimm  1812  Berlin  1. Auflage   \n",
       "33    Das Birnli will nit fallen  Brüder Grimm  1812  Berlin  1. Auflage   \n",
       "\n",
       "                publisher                                             source  \\\n",
       "29  Realschulbuchhandlung  Kinder- und Haus-Märchen Band 1, Große Ausgabe...   \n",
       "30  Realschulbuchhandlung  Kinder- und Haus-Märchen Band 1, Große Ausgabe...   \n",
       "31  Realschulbuchhandlung  Kinder- und Haus-Märchen Band 1, Große Ausgabe...   \n",
       "32  Realschulbuchhandlung  Kinder- und Haus-Märchen Band 1, Große Ausgabe...   \n",
       "33  Realschulbuchhandlung  Kinder- und Haus-Märchen Band 1, Große Ausgabe...   \n",
       "\n",
       "                                                 text  \n",
       "29  Es war einmal ein König, der hatte eine Frau, ...  \n",
       "30  Es war einmal ein reicher Mann, der lebte lang...  \n",
       "31  In einem Walde lebte ein Mann, der hatte drei ...  \n",
       "32  Brüderchen nahm sein Schwesterchen an der Hand...  \n",
       "33  Der Herr will das Birnli schüttle,\\ndas Birnli...  "
      ]
     },
     "execution_count": 6,
     "metadata": {},
     "output_type": "execute_result"
    }
   ],
   "source": [
    "filtered_fairytales = fairytales[fairytales[\"creator\"] == wanted_creator]\n",
    "filtered_fairytales.head()"
   ]
  },
  {
   "cell_type": "code",
   "execution_count": 7,
   "id": "9c18cf89-9382-403c-ba2e-1aafa776a927",
   "metadata": {},
   "outputs": [
    {
     "data": {
      "text/plain": [
       "<IntegerArray>\n",
       "[1812, 1815, 1819, 1837, 1840, 1843, 1850, 1856, 1857]\n",
       "Length: 9, dtype: Int64"
      ]
     },
     "execution_count": 7,
     "metadata": {},
     "output_type": "execute_result"
    }
   ],
   "source": [
    "filtered_fairytales[\"date\"].unique()"
   ]
  },
  {
   "cell_type": "code",
   "execution_count": 8,
   "id": "bc1537cd-3738-4a38-afcd-ec4d427a10e8",
   "metadata": {},
   "outputs": [
    {
     "data": {
      "text/plain": [
       "array(['1. Auflage', '2. Auflage', '3. Auflage', '4. Auflage',\n",
       "       'Fünfte, stark vermehrte und verbesserte Auflage',\n",
       "       'Sechste vermehrte und verbesserte Auflage', '6. Auflage',\n",
       "       '7. Auflage (Ausgabe letzter Hand)',\n",
       "       '7. Auflage(Ausgabe letzter Hand)'], dtype=object)"
      ]
     },
     "execution_count": 8,
     "metadata": {},
     "output_type": "execute_result"
    }
   ],
   "source": [
    "filtered_fairytales[\"edition\"].unique()"
   ]
  },
  {
   "cell_type": "code",
   "execution_count": 9,
   "id": "ff9e913e-6e35-49ca-af68-5e67e4f53b23",
   "metadata": {},
   "outputs": [
    {
     "data": {
      "text/plain": [
       "1857    210\n",
       "1850    209\n",
       "1843    202\n",
       "1840    186\n",
       "1837    176\n",
       "1819    169\n",
       "1812     90\n",
       "1815     70\n",
       "1856      6\n",
       "Name: date, dtype: Int64"
      ]
     },
     "execution_count": 9,
     "metadata": {},
     "output_type": "execute_result"
    }
   ],
   "source": [
    "# counts of fairytales per date\n",
    "filtered_fairytales[\"date\"].value_counts()"
   ]
  },
  {
   "cell_type": "code",
   "execution_count": 10,
   "id": "26152f88-43d0-4752-9926-136367f7c3af",
   "metadata": {},
   "outputs": [
    {
     "data": {
      "image/png": "[encoded data removed]",
      "text/plain": [
       "<Figure size 432x288 with 1 Axes>"
      ]
     },
     "metadata": {
      "needs_background": "light"
     },
     "output_type": "display_data"
    }
   ],
   "source": [
    "filtered_fairytales[\"date\"].value_counts().sort_index().plot(kind=\"bar\");"
   ]
  },
  {
   "cell_type": "code",
   "execution_count": 11,
   "id": "d40423ed-21b3-4df6-b489-d430d53d19db",
   "metadata": {},
   "outputs": [
    {
     "data": {
      "text/html": [
       "<div>\n",
       "<style scoped>\n",
       "    .dataframe tbody tr th:only-of-type {\n",
       "        vertical-align: middle;\n",
       "    }\n",
       "\n",
       "    .dataframe tbody tr th {\n",
       "        vertical-align: top;\n",
       "    }\n",
       "\n",
       "    .dataframe thead th {\n",
       "        text-align: right;\n",
       "    }\n",
       "</style>\n",
       "<table border=\"1\" class=\"dataframe\">\n",
       "  <thead>\n",
       "    <tr style=\"text-align: right;\">\n",
       "      <th></th>\n",
       "      <th>url</th>\n",
       "      <th>title</th>\n",
       "      <th>creator</th>\n",
       "      <th>date</th>\n",
       "      <th>place</th>\n",
       "      <th>edition</th>\n",
       "      <th>publisher</th>\n",
       "      <th>source</th>\n",
       "      <th>text</th>\n",
       "    </tr>\n",
       "  </thead>\n",
       "  <tbody>\n",
       "    <tr>\n",
       "      <th>1137</th>\n",
       "      <td>https://de.wikisource.org/wiki/Allerleirauh_(1...</td>\n",
       "      <td>Allerleirauh</td>\n",
       "      <td>Brüder Grimm</td>\n",
       "      <td>1857</td>\n",
       "      <td>Göttingen</td>\n",
       "      <td>7. Auflage (Ausgabe letzter Hand)</td>\n",
       "      <td>Dieterich</td>\n",
       "      <td>Kinder- und Haus-Märchen Band 1, Große Ausgabe...</td>\n",
       "      <td>Es war einmal ein König, der hatte eine Frau m...</td>\n",
       "    </tr>\n",
       "    <tr>\n",
       "      <th>1138</th>\n",
       "      <td>https://de.wikisource.org/wiki/Armuth_und_Demu...</td>\n",
       "      <td>Armuth und Demuth führen zum Himmel</td>\n",
       "      <td>Brüder Grimm</td>\n",
       "      <td>1857</td>\n",
       "      <td>Göttingen</td>\n",
       "      <td>7. Auflage (Ausgabe letzter Hand)</td>\n",
       "      <td>Dieterich</td>\n",
       "      <td>Kinder- und Haus-Märchen Band 2, Große Ausgabe...</td>\n",
       "      <td>Es war einmal ein Königssohn, der gieng hinaus...</td>\n",
       "    </tr>\n",
       "    <tr>\n",
       "      <th>1139</th>\n",
       "      <td>https://de.wikisource.org/wiki/Aschenputtel_(1...</td>\n",
       "      <td>Aschenbuttel</td>\n",
       "      <td>Brüder Grimm</td>\n",
       "      <td>1857</td>\n",
       "      <td>Göttingen</td>\n",
       "      <td>7. Auflage (Ausgabe letzter Hand)</td>\n",
       "      <td>Dieterich</td>\n",
       "      <td>Kinder- und Haus-Märchen Band 1, Große Ausgabe...</td>\n",
       "      <td>Einem reichen Manne dem wurde seine Frau krank...</td>\n",
       "    </tr>\n",
       "    <tr>\n",
       "      <th>1140</th>\n",
       "      <td>https://de.wikisource.org/wiki/Bruder_Lustig_(...</td>\n",
       "      <td>Bruder Lustig</td>\n",
       "      <td>Brüder Grimm</td>\n",
       "      <td>1857</td>\n",
       "      <td>Göttingen</td>\n",
       "      <td>7. Auflage (Ausgabe letzter Hand)</td>\n",
       "      <td>Dieterich</td>\n",
       "      <td>Kinder- und Haus-Märchen Band 1, Große Ausgabe...</td>\n",
       "      <td>Es war einmal ein großer Krieg, und als der Kr...</td>\n",
       "    </tr>\n",
       "    <tr>\n",
       "      <th>1141</th>\n",
       "      <td>https://de.wikisource.org/wiki/Br%C3%BCderchen...</td>\n",
       "      <td>Brüderchen und Schwesterchen</td>\n",
       "      <td>Brüder Grimm</td>\n",
       "      <td>1857</td>\n",
       "      <td>Göttingen</td>\n",
       "      <td>7. Auflage (Ausgabe letzter Hand)</td>\n",
       "      <td>Dieterich</td>\n",
       "      <td>Kinder- und Haus-Märchen Band 1, Große Ausgabe...</td>\n",
       "      <td>Brüderchen nahm sein Schwesterchen an der Hand...</td>\n",
       "    </tr>\n",
       "  </tbody>\n",
       "</table>\n",
       "</div>"
      ],
      "text/plain": [
       "                                                    url  \\\n",
       "1137  https://de.wikisource.org/wiki/Allerleirauh_(1...   \n",
       "1138  https://de.wikisource.org/wiki/Armuth_und_Demu...   \n",
       "1139  https://de.wikisource.org/wiki/Aschenputtel_(1...   \n",
       "1140  https://de.wikisource.org/wiki/Bruder_Lustig_(...   \n",
       "1141  https://de.wikisource.org/wiki/Br%C3%BCderchen...   \n",
       "\n",
       "                                    title       creator  date      place  \\\n",
       "1137                         Allerleirauh  Brüder Grimm  1857  Göttingen   \n",
       "1138  Armuth und Demuth führen zum Himmel  Brüder Grimm  1857  Göttingen   \n",
       "1139                         Aschenbuttel  Brüder Grimm  1857  Göttingen   \n",
       "1140                        Bruder Lustig  Brüder Grimm  1857  Göttingen   \n",
       "1141         Brüderchen und Schwesterchen  Brüder Grimm  1857  Göttingen   \n",
       "\n",
       "                                edition  publisher  \\\n",
       "1137  7. Auflage (Ausgabe letzter Hand)  Dieterich   \n",
       "1138  7. Auflage (Ausgabe letzter Hand)  Dieterich   \n",
       "1139  7. Auflage (Ausgabe letzter Hand)  Dieterich   \n",
       "1140  7. Auflage (Ausgabe letzter Hand)  Dieterich   \n",
       "1141  7. Auflage (Ausgabe letzter Hand)  Dieterich   \n",
       "\n",
       "                                                 source  \\\n",
       "1137  Kinder- und Haus-Märchen Band 1, Große Ausgabe...   \n",
       "1138  Kinder- und Haus-Märchen Band 2, Große Ausgabe...   \n",
       "1139  Kinder- und Haus-Märchen Band 1, Große Ausgabe...   \n",
       "1140  Kinder- und Haus-Märchen Band 1, Große Ausgabe...   \n",
       "1141  Kinder- und Haus-Märchen Band 1, Große Ausgabe...   \n",
       "\n",
       "                                                   text  \n",
       "1137  Es war einmal ein König, der hatte eine Frau m...  \n",
       "1138  Es war einmal ein Königssohn, der gieng hinaus...  \n",
       "1139  Einem reichen Manne dem wurde seine Frau krank...  \n",
       "1140  Es war einmal ein großer Krieg, und als der Kr...  \n",
       "1141  Brüderchen nahm sein Schwesterchen an der Hand...  "
      ]
     },
     "execution_count": 11,
     "metadata": {},
     "output_type": "execute_result"
    }
   ],
   "source": [
    "# select rows by value in date column\n",
    "wanted_year = 1857\n",
    "\n",
    "filtered_fairytales = filtered_fairytales[filtered_fairytales[\"date\"] == wanted_year]\n",
    "filtered_fairytales.head()"
   ]
  },
  {
   "cell_type": "code",
   "execution_count": 12,
   "id": "052889a1-9fff-4f15-a5cf-4eeec6e0bb98",
   "metadata": {},
   "outputs": [
    {
     "data": {
      "text/plain": [
       "1857"
      ]
     },
     "execution_count": 12,
     "metadata": {},
     "output_type": "execute_result"
    }
   ],
   "source": [
    "wanted_year"
   ]
  },
  {
   "cell_type": "code",
   "execution_count": 13,
   "id": "7b707c96-3fae-4c97-b5f1-5167839ee641",
   "metadata": {},
   "outputs": [
    {
     "data": {
      "text/plain": [
       "'Brüder Grimm'"
      ]
     },
     "execution_count": 13,
     "metadata": {},
     "output_type": "execute_result"
    }
   ],
   "source": [
    "wanted_creator"
   ]
  },
  {
   "cell_type": "code",
   "execution_count": 14,
   "id": "408c7aa6-9039-4e49-a0f8-dcbddec34fe0",
   "metadata": {},
   "outputs": [
    {
     "data": {
      "text/plain": [
       "'bruder-grimm'"
      ]
     },
     "execution_count": 14,
     "metadata": {},
     "output_type": "execute_result"
    }
   ],
   "source": [
    "slugify(wanted_creator)"
   ]
  },
  {
   "cell_type": "code",
   "execution_count": 15,
   "id": "e0b4e7a2-9ae5-4cd5-a80f-a2237c124c65",
   "metadata": {},
   "outputs": [],
   "source": [
    "filename = PROC_DATA_DIR.joinpath(f\"fairytales_{slugify(wanted_creator)}_{wanted_year}.tsv\")\n",
    "filtered_fairytales.to_csv(filename, sep=\"\\t\", index=False)"
   ]
  },
  {
   "cell_type": "code",
   "execution_count": 16,
   "id": "9cd6e5fa-45ef-4105-b998-1e424c036e46",
   "metadata": {},
   "outputs": [
    {
     "data": {
      "text/html": [
       "<details>\n",
       "<summary>Click to view session information</summary>\n",
       "<pre>\n",
       "-----\n",
       "pandas              1.3.4\n",
       "session_info        1.0.0\n",
       "slugify             5.0.2\n",
       "-----\n",
       "</pre>\n",
       "<details>\n",
       "<summary>Click to view modules imported as dependencies</summary>\n",
       "<pre>\n",
       "PIL                         8.4.0\n",
       "anyio                       NA\n",
       "attr                        21.2.0\n",
       "babel                       2.9.1\n",
       "backcall                    0.2.0\n",
       "certifi                     2021.10.08\n",
       "cffi                        1.15.0\n",
       "charset_normalizer          2.0.7\n",
       "cycler                      0.10.0\n",
       "cython_runtime              NA\n",
       "dateutil                    2.8.2\n",
       "debugpy                     1.5.1\n",
       "decorator                   5.1.0\n",
       "defusedxml                  0.7.1\n",
       "entrypoints                 0.3\n",
       "idna                        3.3\n",
       "ipykernel                   6.4.2\n",
       "ipython_genutils            0.2.0\n",
       "jedi                        0.18.0\n",
       "jinja2                      3.0.2\n",
       "json5                       NA\n",
       "jsonschema                  4.1.2\n",
       "jupyter_server              1.11.1\n",
       "jupyterlab_server           2.8.2\n",
       "kiwisolver                  1.3.2\n",
       "markupsafe                  2.0.1\n",
       "matplotlib                  3.4.3\n",
       "matplotlib_inline           NA\n",
       "mpl_toolkits                NA\n",
       "nbclassic                   NA\n",
       "nbformat                    5.1.3\n",
       "numpy                       1.21.3\n",
       "packaging                   21.0\n",
       "parso                       0.8.2\n",
       "pexpect                     4.8.0\n",
       "pickleshare                 0.7.5\n",
       "pkg_resources               NA\n",
       "prometheus_client           NA\n",
       "prompt_toolkit              3.0.20\n",
       "ptyprocess                  0.7.0\n",
       "pvectorc                    NA\n",
       "pydev_ipython               NA\n",
       "pydevconsole                NA\n",
       "pydevd                      2.6.0\n",
       "pydevd_concurrency_analyser NA\n",
       "pydevd_file_utils           NA\n",
       "pydevd_plugins              NA\n",
       "pydevd_tracing              NA\n",
       "pyexpat                     NA\n",
       "pygments                    2.10.0\n",
       "pyparsing                   2.4.7\n",
       "pyrsistent                  NA\n",
       "pytz                        2021.3\n",
       "requests                    2.26.0\n",
       "send2trash                  NA\n",
       "six                         1.16.0\n",
       "sniffio                     1.2.0\n",
       "storemagic                  NA\n",
       "terminado                   0.12.1\n",
       "text_unidecode              NA\n",
       "tornado                     6.1\n",
       "traitlets                   5.1.0\n",
       "urllib3                     1.26.7\n",
       "wcwidth                     0.2.5\n",
       "websocket                   1.2.1\n",
       "zmq                         22.3.0\n",
       "</pre>\n",
       "</details> <!-- seems like this ends pre, so might as well be explicit -->\n",
       "<pre>\n",
       "-----\n",
       "IPython             7.28.0\n",
       "jupyter_client      7.0.6\n",
       "jupyter_core        4.8.1\n",
       "jupyterlab          3.2.1\n",
       "notebook            6.4.5\n",
       "-----\n",
       "Python 3.9.7 (default, Aug 31 2021, 13:28:12) [GCC 11.1.0]\n",
       "Linux-5.13.19-2-MANJARO-x86_64-with-glibc2.33\n",
       "-----\n",
       "Session information updated at 2021-10-22 09:10\n",
       "</pre>\n",
       "</details>"
      ],
      "text/plain": [
       "<IPython.core.display.HTML object>"
      ]
     },
     "execution_count": 16,
     "metadata": {},
     "output_type": "execute_result"
    }
   ],
   "source": [
    "import session_info\n",
    "\n",
    "session_info.show()"
   ]
  }
 ],
 "metadata": {
  "kernelspec": {
   "display_name": "Python 3 (ipykernel)",
   "language": "python",
   "name": "python3"
  },
  "language_info": {
   "codemirror_mode": {
    "name": "ipython",
    "version": 3
   },
   "file_extension": ".py",
   "mimetype": "text/x-python",
   "name": "python",
   "nbconvert_exporter": "python",
   "pygments_lexer": "ipython3",
   "version": "3.9.7"
  }
 },
 "nbformat": 4,
 "nbformat_minor": 5
}

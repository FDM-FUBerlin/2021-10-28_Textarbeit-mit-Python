{
 "cells": [
  {
   "cell_type": "markdown",
   "id": "5e77882e",
   "metadata": {},
   "source": [
    "# 5. Texte analysieren \n",
    "\n",
    "## Inhalte \n",
    "1. Worthäufigkeiten zählen\n",
    "2. Konkordanzen"
   ]
  },
  {
   "cell_type": "code",
   "execution_count": 1,
   "id": "6bd136b9",
   "metadata": {},
   "outputs": [],
   "source": [
    "import pathlib\n",
    "\n",
    "import nltk\n",
    "import pandas as pd\n",
    "from reader import fairytale_corpus_reader\n",
    "\n",
    "DATA_DIR = pathlib.Path().cwd().parent.joinpath(\"data\")\n",
    "PROC_DATA_DIR = DATA_DIR.joinpath(\"processed\")"
   ]
  },
  {
   "cell_type": "markdown",
   "id": "024c1f18",
   "metadata": {},
   "source": [
    "## 1. Worthäufigkeiten zählen\n",
    "\n",
    "Zunächst erstellen wir eine Liste mit von Strings, deren Häufigkeiten wir bestimmen möchten.\n",
    "Eine liste kann mit der Funkiton `sorted()` sortiert werden (in diesem Fall alphabetisch).\n",
    "\n",
    "Zu beachten ist hierbei, dass nur die exakte Form des Strings gesucht wird: Also bei Eingabe von \"pferd\" werden Formen wie \"des Pferds\", \"die Pferde\" oder \"die Pferden\" nicht berücksichtigt.\n",
    "Es hierbei hierbei nur die Häufigkeiten des Singulars gezählt."
   ]
  },
  {
   "cell_type": "code",
   "execution_count": 2,
   "id": "15151a77",
   "metadata": {},
   "outputs": [],
   "source": [
    "animals = sorted([\"wolf\", \"pferd\", \"esel\", \"hund\", \"katze\"])"
   ]
  },
  {
   "cell_type": "code",
   "execution_count": 3,
   "id": "72cd8690",
   "metadata": {},
   "outputs": [
    {
     "name": "stdout",
     "output_type": "stream",
     "text": [
      "[[0, 0, 0, 0, 0], [0, 0, 0, 0, 0], [0, 0, 0, 5, 0], [0, 0, 0, 0, 0], [0, 0, 0, 1, 3]]\n"
     ]
    }
   ],
   "source": [
    "# generate list to keep all counts\n",
    "all_counts = []\n",
    "\n",
    "# in this for loop, we iterate over each fairytale in the corpus\n",
    "for fairytale in fairytale_corpus_reader.fileids():\n",
    "    # we assign the fairytales words (lowercased) to a list, using a list comprehension\n",
    "    tokens = [token.lower() for token in fairytale_corpus_reader.words(fairytale)]\n",
    "    # we create a nltk.Text.object\n",
    "    text = nltk.Text(tokens)\n",
    "    vocab = text.vocab()\n",
    "    # we create a list of each animal's count by using the text's vocabulary, which contains each token's count. Defaults to 0, if token is not in text.\n",
    "    counts = [vocab[animal] for animal in animals]\n",
    "    # we add the counts for a single fairytale to the list all_counts\n",
    "    all_counts.append(counts)\n",
    "\n",
    "# the list all_counts contains a list of counts for each animal in each fairytale\n",
    "# the 2-dimensional list has number of fairytales x number of animals counts\n",
    "print(all_counts[:5])"
   ]
  },
  {
   "cell_type": "code",
   "execution_count": 4,
   "id": "3df090d4",
   "metadata": {},
   "outputs": [
    {
     "data": {
      "text/html": [
       "<div>\n",
       "<style scoped>\n",
       "    .dataframe tbody tr th:only-of-type {\n",
       "        vertical-align: middle;\n",
       "    }\n",
       "\n",
       "    .dataframe tbody tr th {\n",
       "        vertical-align: top;\n",
       "    }\n",
       "\n",
       "    .dataframe thead th {\n",
       "        text-align: right;\n",
       "    }\n",
       "</style>\n",
       "<table border=\"1\" class=\"dataframe\">\n",
       "  <thead>\n",
       "    <tr style=\"text-align: right;\">\n",
       "      <th></th>\n",
       "      <th>title</th>\n",
       "      <th>esel</th>\n",
       "      <th>hund</th>\n",
       "      <th>katze</th>\n",
       "      <th>pferd</th>\n",
       "      <th>wolf</th>\n",
       "    </tr>\n",
       "  </thead>\n",
       "  <tbody>\n",
       "    <tr>\n",
       "      <th>0</th>\n",
       "      <td>grimm_Das_kluge_Grethel_395-397.txt</td>\n",
       "      <td>0</td>\n",
       "      <td>0</td>\n",
       "      <td>0</td>\n",
       "      <td>0</td>\n",
       "      <td>0</td>\n",
       "    </tr>\n",
       "    <tr>\n",
       "      <th>1</th>\n",
       "      <td>grimm_allerleirauh_353-359.txt</td>\n",
       "      <td>0</td>\n",
       "      <td>0</td>\n",
       "      <td>0</td>\n",
       "      <td>0</td>\n",
       "      <td>0</td>\n",
       "    </tr>\n",
       "    <tr>\n",
       "      <th>2</th>\n",
       "      <td>grimm_aschenputtel_119-126.txt</td>\n",
       "      <td>0</td>\n",
       "      <td>0</td>\n",
       "      <td>0</td>\n",
       "      <td>5</td>\n",
       "      <td>0</td>\n",
       "    </tr>\n",
       "    <tr>\n",
       "      <th>3</th>\n",
       "      <td>grimm_bruder_lustig_402-413.txt</td>\n",
       "      <td>0</td>\n",
       "      <td>0</td>\n",
       "      <td>0</td>\n",
       "      <td>0</td>\n",
       "      <td>0</td>\n",
       "    </tr>\n",
       "    <tr>\n",
       "      <th>4</th>\n",
       "      <td>grimm_bruederchen_und_schwesterchen__057-064.txt</td>\n",
       "      <td>0</td>\n",
       "      <td>0</td>\n",
       "      <td>0</td>\n",
       "      <td>1</td>\n",
       "      <td>3</td>\n",
       "    </tr>\n",
       "  </tbody>\n",
       "</table>\n",
       "</div>"
      ],
      "text/plain": [
       "                                              title  esel  hund  katze  pferd  \\\n",
       "0               grimm_Das_kluge_Grethel_395-397.txt     0     0      0      0   \n",
       "1                    grimm_allerleirauh_353-359.txt     0     0      0      0   \n",
       "2                    grimm_aschenputtel_119-126.txt     0     0      0      5   \n",
       "3                   grimm_bruder_lustig_402-413.txt     0     0      0      0   \n",
       "4  grimm_bruederchen_und_schwesterchen__057-064.txt     0     0      0      1   \n",
       "\n",
       "   wolf  \n",
       "0     0  \n",
       "1     0  \n",
       "2     0  \n",
       "3     0  \n",
       "4     3  "
      ]
     },
     "execution_count": 4,
     "metadata": {},
     "output_type": "execute_result"
    }
   ],
   "source": [
    "# we create a pandas.DataFrame from the list of counts\n",
    "# the rows in this 2-d matrix/table correspond to the fairytales\n",
    "# the columns correspond to the animals\n",
    "# a value of zero means the animal (singular form) is not mentioned in this text\n",
    "fairytales_animals_counts = pd.DataFrame(all_counts, columns=animals)\n",
    "fairytales_animals_counts.insert(0, \"title\", fairytale_corpus_reader.fileids())\n",
    "fairytales_animals_counts.head()"
   ]
  },
  {
   "cell_type": "code",
   "execution_count": 5,
   "id": "fec9feb5",
   "metadata": {},
   "outputs": [
    {
     "data": {
      "text/plain": [
       "pferd    138\n",
       "wolf     127\n",
       "katze     82\n",
       "hund      66\n",
       "esel      51\n",
       "dtype: int64"
      ]
     },
     "execution_count": 5,
     "metadata": {},
     "output_type": "execute_result"
    }
   ],
   "source": [
    "# sum up counts per animal over all fairytales, using pandas\n",
    "# using .sum() we can sum the values per column, the result is a 1-dimensional list / pandas.Series containing only the counts\n",
    "# using .sort_values() we can sort these values\n",
    "fairytales_animals_counts[animals].sum().sort_values(ascending=False)"
   ]
  },
  {
   "cell_type": "code",
   "execution_count": 6,
   "id": "b52f315c",
   "metadata": {},
   "outputs": [
    {
     "data": {
      "text/html": [
       "<div>\n",
       "<style scoped>\n",
       "    .dataframe tbody tr th:only-of-type {\n",
       "        vertical-align: middle;\n",
       "    }\n",
       "\n",
       "    .dataframe tbody tr th {\n",
       "        vertical-align: top;\n",
       "    }\n",
       "\n",
       "    .dataframe thead th {\n",
       "        text-align: right;\n",
       "    }\n",
       "</style>\n",
       "<table border=\"1\" class=\"dataframe\">\n",
       "  <thead>\n",
       "    <tr style=\"text-align: right;\">\n",
       "      <th></th>\n",
       "      <th>esel</th>\n",
       "      <th>hund</th>\n",
       "      <th>katze</th>\n",
       "      <th>pferd</th>\n",
       "      <th>wolf</th>\n",
       "    </tr>\n",
       "  </thead>\n",
       "  <tbody>\n",
       "    <tr>\n",
       "      <th>count</th>\n",
       "      <td>209.000000</td>\n",
       "      <td>209.000000</td>\n",
       "      <td>209.000000</td>\n",
       "      <td>209.000000</td>\n",
       "      <td>209.000000</td>\n",
       "    </tr>\n",
       "    <tr>\n",
       "      <th>mean</th>\n",
       "      <td>0.244019</td>\n",
       "      <td>0.315789</td>\n",
       "      <td>0.392344</td>\n",
       "      <td>0.660287</td>\n",
       "      <td>0.607656</td>\n",
       "    </tr>\n",
       "    <tr>\n",
       "      <th>std</th>\n",
       "      <td>1.519987</td>\n",
       "      <td>1.405959</td>\n",
       "      <td>2.127914</td>\n",
       "      <td>1.981744</td>\n",
       "      <td>2.812940</td>\n",
       "    </tr>\n",
       "    <tr>\n",
       "      <th>min</th>\n",
       "      <td>0.000000</td>\n",
       "      <td>0.000000</td>\n",
       "      <td>0.000000</td>\n",
       "      <td>0.000000</td>\n",
       "      <td>0.000000</td>\n",
       "    </tr>\n",
       "    <tr>\n",
       "      <th>25%</th>\n",
       "      <td>0.000000</td>\n",
       "      <td>0.000000</td>\n",
       "      <td>0.000000</td>\n",
       "      <td>0.000000</td>\n",
       "      <td>0.000000</td>\n",
       "    </tr>\n",
       "    <tr>\n",
       "      <th>50%</th>\n",
       "      <td>0.000000</td>\n",
       "      <td>0.000000</td>\n",
       "      <td>0.000000</td>\n",
       "      <td>0.000000</td>\n",
       "      <td>0.000000</td>\n",
       "    </tr>\n",
       "    <tr>\n",
       "      <th>75%</th>\n",
       "      <td>0.000000</td>\n",
       "      <td>0.000000</td>\n",
       "      <td>0.000000</td>\n",
       "      <td>0.000000</td>\n",
       "      <td>0.000000</td>\n",
       "    </tr>\n",
       "    <tr>\n",
       "      <th>max</th>\n",
       "      <td>16.000000</td>\n",
       "      <td>13.000000</td>\n",
       "      <td>22.000000</td>\n",
       "      <td>16.000000</td>\n",
       "      <td>18.000000</td>\n",
       "    </tr>\n",
       "  </tbody>\n",
       "</table>\n",
       "</div>"
      ],
      "text/plain": [
       "             esel        hund       katze       pferd        wolf\n",
       "count  209.000000  209.000000  209.000000  209.000000  209.000000\n",
       "mean     0.244019    0.315789    0.392344    0.660287    0.607656\n",
       "std      1.519987    1.405959    2.127914    1.981744    2.812940\n",
       "min      0.000000    0.000000    0.000000    0.000000    0.000000\n",
       "25%      0.000000    0.000000    0.000000    0.000000    0.000000\n",
       "50%      0.000000    0.000000    0.000000    0.000000    0.000000\n",
       "75%      0.000000    0.000000    0.000000    0.000000    0.000000\n",
       "max     16.000000   13.000000   22.000000   16.000000   18.000000"
      ]
     },
     "execution_count": 6,
     "metadata": {},
     "output_type": "execute_result"
    }
   ],
   "source": [
    "# getting descriptive statistics over counts, using pandas\n",
    "fairytales_animals_counts.describe()"
   ]
  },
  {
   "cell_type": "code",
   "execution_count": 7,
   "id": "7621bda2",
   "metadata": {},
   "outputs": [
    {
     "data": {
      "text/plain": [
       "title    grimm_der_wolf_und_der_fuchs_383-385.txt\n",
       "esel                                            0\n",
       "hund                                            0\n",
       "katze                                           0\n",
       "pferd                                           0\n",
       "wolf                                           18\n",
       "Name: 87, dtype: object"
      ]
     },
     "execution_count": 7,
     "metadata": {},
     "output_type": "execute_result"
    }
   ],
   "source": [
    "# select the fairytale (row) in the table, that has the highest count for the animal using a variable \"query\"\n",
    "query = \"wolf\"\n",
    "\n",
    "max_count_id = fairytales_animals_counts[query].argmax()\n",
    "max_count_title = fairytales_animals_counts.loc[max_count_id].title\n",
    "fairytales_animals_counts.loc[max_count_id]"
   ]
  },
  {
   "cell_type": "code",
   "execution_count": 8,
   "id": "40653b51",
   "metadata": {},
   "outputs": [
    {
     "data": {
      "text/plain": [
       "799"
      ]
     },
     "execution_count": 8,
     "metadata": {},
     "output_type": "execute_result"
    }
   ],
   "source": [
    "# how long is this fairytale?\n",
    "len(fairytale_corpus_reader.words(max_count_title))"
   ]
  },
  {
   "cell_type": "code",
   "execution_count": 9,
   "id": "6840dcdd",
   "metadata": {},
   "outputs": [],
   "source": [
    "# store counts table on disk\n",
    "filename = PROC_DATA_DIR.joinpath(\"fairytales-animals-counts.tsv\")\n",
    "fairytales_animals_counts.to_csv(filename, sep=\"\\t\", index=False)"
   ]
  },
  {
   "cell_type": "markdown",
   "id": "985bf505",
   "metadata": {},
   "source": [
    "## 2. Konkordanzen\n",
    "\n",
    "Das NLTK Text-Objekt ermöglicht die Ausgabe von Konkordanzen zu einem Suchbegriff.\n",
    "\n",
    "Verwendung: `text.concordance(\"suchbegriff\")` oder `text.concordance([\"suchbegriff1\", \"suchbegriff2\"])`\n",
    "\n",
    "Die Ausgabe ist eine Darstellung des Suchbegriffs im Kontext.\n",
    "\n",
    "Für die Weiterverarbeiung der Ergebnisse jenseits einer Darstellung, gibt es die Methode `.concordancelist()`, die eine Liste zurückgibt.\n",
    "\n",
    "Beide Methoden basieren auf dem `ConcordanceIndex`. Wenn es um mehr als eine explorative Analyse von Texten geht, sollte direkt mit dem `ConcordanceIndex` gearbeitet werden.\n",
    "\n",
    "Siehe: \n",
    "- https://www.nltk.org/howto/concordance.html\n",
    "- https://www.nltk.org/api/nltk.text.html#nltk.text.ConcordanceIndex"
   ]
  },
  {
   "cell_type": "code",
   "execution_count": 10,
   "id": "232a0d9b",
   "metadata": {},
   "outputs": [],
   "source": [
    "# We create a nltk.Text object, that contains all fairytales\n",
    "tokens = [token.lower() for token in fairytale_corpus_reader.words()]\n",
    "grimm_text = nltk.Text(tokens)"
   ]
  },
  {
   "cell_type": "code",
   "execution_count": 11,
   "id": "51cd17fb",
   "metadata": {},
   "outputs": [],
   "source": [
    "?grimm_text.concordance"
   ]
  },
  {
   "cell_type": "code",
   "execution_count": 12,
   "id": "59541d1c",
   "metadata": {},
   "outputs": [
    {
     "name": "stdout",
     "output_type": "stream",
     "text": [
      "Displaying 5 of 127 matches:\n",
      "rach „ wer aus mir trinkt , wird ein wolf : wer aus mir trinkt , wird ein wolf\n",
      "wolf : wer aus mir trinkt , wird ein wolf .“ da rief das schwesterchen „ brüde\n",
      "h , trink nicht , sonst wirst du ein wolf und frissest mich .“ das brüderchen \n",
      "n , und zwei tauben zerrupften einen wolf , zwei kinder die wurfen zwei zickle\n",
      "am ein neues unglück . ein hungriger wolf lief heran und verschlang den ganzen\n"
     ]
    }
   ],
   "source": [
    "# the method .concordance() displays the surrounding text of a search string or list of strings.\n",
    "\n",
    "query = \"wolf\"\n",
    "grimm_text.concordance(query, lines=5)"
   ]
  },
  {
   "cell_type": "code",
   "execution_count": 13,
   "id": "f08051d6",
   "metadata": {},
   "outputs": [
    {
     "name": "stdout",
     "output_type": "stream",
     "text": [
      "Displaying 5 of 66 matches:\n",
      "eimbrächte . 65 . allerleirauh . es war einmal ein könig , der hatte eine frau \n",
      " gestraft . 81 . bruder lustig . es war einmal ein großer krieg , und als der k\n",
      "r ende . 116 . das blaue licht . es war einmal ein soldat , der hatte dem könig\n",
      " . 117 . das eigensinnige kind . es war einmal ein kind eigensinnig und that ni\n",
      "ann .“ 152 . das hirtenbüblein . es war einmal ein hirtenbübchen , das war wege\n"
     ]
    }
   ],
   "source": [
    "query = [\"es\", \"war\", \"einmal\"]\n",
    "grimm_text.concordance(query, lines=5)"
   ]
  },
  {
   "cell_type": "code",
   "execution_count": 14,
   "id": "5213b268",
   "metadata": {},
   "outputs": [
    {
     "name": "stdout",
     "output_type": "stream",
     "text": [
      "Displaying 10 of 51 matches:\n",
      "ieber gar kein kind gehabt als einen esel , und sagte man sollt ihn ins wasser\n",
      "ine brücke . da sah ich einen jungen esel mit einer silbernen nase , der jagte\n",
      "er sah mit schrecken daß er in einen esel verwandelt war . doch weil er dabei \n",
      "zur belohnung zwei mit gold beladene esel , die mußten ihm nachfolgen . zuletz\n",
      "ihm ebenfalls zwei mit gold beladene esel . endlich langte das glückskind dahe\n",
      "es teufels , und als dieser die vier esel mit dem golde sah , ward er ganz ver\n",
      " vierfüßige gethier berufen , ochs , esel , rind , hirsch , reh , und was die \n",
      "musikanten . es hatte ein mann einen esel , der schon lange jahre die säcke un\n",
      "us dem futter zu schaffen , aber der esel merkte daß kein guter wind wehte , l\n",
      " jappst du so , packan ?“ fragte der esel . „ ach ,“ sagte der hund , „ weil i\n",
      "Displaying 10 of 66 matches:\n",
      "s könnte ja auch eine katze oder ein hund sein .“ da ließ sich der mann überre\n",
      "ssinnen up un segden „ de verfluchte hund , usse bloet soll örfer die rache sc\n",
      "sehden se to üm de künigin hedde ’ n hund kregen . da segde de künig „ wat got\n",
      "se to üm , de künigin hedde wier ’ n hund bekummen , un he segde wier „ wat go\n",
      " un wenn du bie einen groten swarten hund vorbei kümmst , so must du still un \n",
      "r mit , un wenn du dann wier bie den hund vorbie kummst , so schlah ün in ’ t \n",
      ". se gienk tosammen bis wo de swarte hund an den weg lag , den schlog se in ’ \n",
      "r uht de kutske „ mann , will ji den hund verkaupen ?“ „ jau ,“ sede de vader \n",
      " wenig ) wegföhrt is , do sprinkt de hund uht den wagen dör de glase , un do w\n",
      "an . es hatte ein bauer einen treuen hund , der sultan hieß , der war alt gewo\n",
      "Displaying 10 of 82 matches:\n",
      "er begegnen , es könnte ja auch eine katze oder ein hund sein .“ da ließ sich d\n",
      "nnte keinen beistand finden als eine katze , die nur drei beine hatte , und als\n",
      "n hinaus giengen , humpelte die arme katze daher und streckte zugleich vor schm\n",
      "l sie den aufgerichteten schwanz der katze dafür ansahen . und wenn das arme th\n",
      "ng auf einen baum . der hund und die katze , als sie heran kamen , wunderten si\n",
      "ren ragten noch heraus . während die katze sich bedächtig umschaute , zwinste d\n",
      "nste das schwein mit den ohren : die katze welche meinte es regte sich da eine \n",
      "zt der schuldige .“ der hund und die katze schauten hinauf und erblickten den w\n",
      "st .“ „ nun das ist eine wunderliche katze ,“ dachte hans , „ aber sehen will i\n",
      "urde der tisch weggetragen , und die katze sagte „ nun komm , hans , und tanze \n",
      "Displaying 10 of 138 matches:\n",
      " da nahm er sie als seine braut aufs pferd , und ritt mit ihr fort . sie mußten\n",
      "s blut herausquoll . er wendete sein pferd um , brachte die falsche braut wiede\n",
      " da nahm er sie als seine braut aufs pferd und ritt mit ihr fort . als sie an d\n",
      "ufgestiegen war . da wendete er sein pferd , und brachte die falsche braut wied\n",
      "ger : er aber nahm aschenputtel aufs pferd und ritt mit ihm fort . als sie an d\n",
      "nig nahm das schöne mädchen auf sein pferd und führte es in sein schloß , wo di\n",
      "oser mann der überlief ein schnelles pferd und ein bitterscharfes schwert das d\n",
      "s glas und das gift spritzte auf das pferd , und war so heftig daß das thier gl\n",
      "er konnte ; es war nicht möglich das pferd zu wenden oder aus dem sattel zu ste\n",
      "er zur goldenen straße kam , und das pferd den einen fuß darauf gesetzt hatte ,\n",
      "Displaying 10 of 127 matches:\n",
      "rach „ wer aus mir trinkt , wird ein wolf : wer aus mir trinkt , wird ein wolf\n",
      "wolf : wer aus mir trinkt , wird ein wolf .“ da rief das schwesterchen „ brüde\n",
      "h , trink nicht , sonst wirst du ein wolf und frissest mich .“ das brüderchen \n",
      "n , und zwei tauben zerrupften einen wolf , zwei kinder die wurfen zwei zickle\n",
      "am ein neues unglück . ein hungriger wolf lief heran und verschlang den ganzen\n",
      "vielleicht ,“ dachte er , „ läßt der wolf mit sich reden ,“ und rief ihm aus d\n",
      " rief ihm aus dem wanste zu „ lieber wolf , ich weiß dir einen herrlichen fraß\n",
      " „ wo ist der zu holen ?“ sprach der wolf . „ in dem und dem haus , da mußt du\n",
      "b ihm genau seines vaters haus . der wolf ließ sich das nicht zweimal sagen , \n",
      " willst du stille sein ,“ sprach der wolf , „ du weckst die leute auf .“ „ ei \n"
     ]
    }
   ],
   "source": [
    "# using a for loop over the list of animals, we display the first 10 concordances of each animal\n",
    "# Keep in mind \"der esel, die esel\" is different from \"der wolf, die woelfe\".\n",
    "\n",
    "for animal in animals:\n",
    "    grimm_text.concordance(animal, lines=10)"
   ]
  },
  {
   "cell_type": "code",
   "execution_count": 15,
   "id": "5895496b",
   "metadata": {},
   "outputs": [
    {
     "data": {
      "text/html": [
       "<details>\n",
       "<summary>Click to view session information</summary>\n",
       "<pre>\n",
       "-----\n",
       "nltk                3.7\n",
       "pandas              1.4.2\n",
       "session_info        1.0.0\n",
       "-----\n",
       "</pre>\n",
       "<details>\n",
       "<summary>Click to view modules imported as dependencies</summary>\n",
       "<pre>\n",
       "asttokens           NA\n",
       "backcall            0.2.0\n",
       "beta_ufunc          NA\n",
       "binom_ufunc         NA\n",
       "cython_runtime      NA\n",
       "dateutil            2.8.2\n",
       "debugpy             1.6.0\n",
       "decorator           5.1.1\n",
       "entrypoints         0.4\n",
       "executing           0.8.3\n",
       "hypergeom_ufunc     NA\n",
       "ipykernel           6.13.0\n",
       "ipython_genutils    0.2.0\n",
       "jedi                0.18.1\n",
       "jupyter_server      1.17.0\n",
       "mpl_toolkits        NA\n",
       "nbinom_ufunc        NA\n",
       "numpy               1.22.3\n",
       "packaging           20.9\n",
       "parso               0.8.3\n",
       "pexpect             4.8.0\n",
       "pickleshare         0.7.5\n",
       "pkg_resources       NA\n",
       "prompt_toolkit      3.0.29\n",
       "psutil              5.9.0\n",
       "ptyprocess          0.7.0\n",
       "pure_eval           0.2.2\n",
       "pydev_ipython       NA\n",
       "pydevconsole        NA\n",
       "pydevd              2.8.0\n",
       "pydevd_file_utils   NA\n",
       "pydevd_plugins      NA\n",
       "pydevd_tracing      NA\n",
       "pygments            2.12.0\n",
       "pytz                2022.1\n",
       "reader              NA\n",
       "regex               2.5.114\n",
       "scipy               1.8.1\n",
       "six                 1.16.0\n",
       "stack_data          0.2.0\n",
       "tornado             6.1\n",
       "traitlets           5.2.1.post0\n",
       "wcwidth             0.2.5\n",
       "zmq                 23.0.0\n",
       "</pre>\n",
       "</details> <!-- seems like this ends pre, so might as well be explicit -->\n",
       "<pre>\n",
       "-----\n",
       "IPython             8.3.0\n",
       "jupyter_client      7.3.1\n",
       "jupyter_core        4.10.0\n",
       "jupyterlab          3.4.2\n",
       "notebook            6.4.11\n",
       "-----\n",
       "Python 3.10.4 (main, Mar 23 2022, 23:05:40) [GCC 11.2.0]\n",
       "Linux-5.15.38-1-MANJARO-x86_64-with-glibc2.35\n",
       "-----\n",
       "Session information updated at 2022-05-20 15:26\n",
       "</pre>\n",
       "</details>"
      ],
      "text/plain": [
       "<IPython.core.display.HTML object>"
      ]
     },
     "execution_count": 15,
     "metadata": {},
     "output_type": "execute_result"
    }
   ],
   "source": [
    "import session_info\n",
    "\n",
    "session_info.show()"
   ]
  }
 ],
 "metadata": {
  "language_info": {
   "name": "python"
  }
 },
 "nbformat": 4,
 "nbformat_minor": 5
}
